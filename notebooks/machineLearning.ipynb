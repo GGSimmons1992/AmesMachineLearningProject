{
 "cells": [
  {
   "cell_type": "code",
   "execution_count": 1,
   "id": "8427d88a-7ab9-4e43-b6f2-6fb660b1671f",
   "metadata": {},
   "outputs": [
    {
     "name": "stderr",
     "output_type": "stream",
     "text": [
      "/Users/garysimmons/opt/anaconda3/lib/python3.8/site-packages/IPython/core/interactiveshell.py:3357: DtypeWarning: Columns (36,40,81,87) have mixed types.Specify dtype option on import or set low_memory=False.\n",
      "  if (await self.run_code(code, result,  async_=asy)):\n"
     ]
    }
   ],
   "source": [
    "import numpy as np\n",
    "import pandas as pd\n",
    "import matplotlib.pyplot as plt\n",
    "import seaborn as sns\n",
    "import scipy.stats as stats\n",
    "import os\n",
    "from os.path import exists\n",
    "from os import remove\n",
    "import sklearn.linear_model as lm\n",
    "import json\n",
    "from sklearn.model_selection import train_test_split\n",
    "from sklearn.linear_model import ElasticNet\n",
    "import sklearn.model_selection as ms\n",
    "\n",
    "import sys\n",
    "sys.path.insert(0, \"../util/\")\n",
    "import util as util"
   ]
  },
  {
   "cell_type": "markdown",
   "id": "ebb46c71-7e59-4a5c-b5cb-be0ced36eadb",
   "metadata": {},
   "source": [
    "# Add Dummies and Train-Test-Split"
   ]
  },
  {
   "cell_type": "code",
   "execution_count": 2,
   "id": "84b861e7-4ead-4a73-b7fc-ba8088801a44",
   "metadata": {},
   "outputs": [
    {
     "name": "stderr",
     "output_type": "stream",
     "text": [
      "/Users/garysimmons/opt/anaconda3/lib/python3.8/site-packages/IPython/core/interactiveshell.py:3165: DtypeWarning: Columns (75) have mixed types.Specify dtype option on import or set low_memory=False.\n",
      "  has_raised = await self.run_ast_nodes(code_ast.body, cell_name,\n"
     ]
    }
   ],
   "source": [
    "housingTrainWithDummiesExists = exists('../data/housingTrainWithDummies.csv')\n",
    "housingTestWithDummiesExists = exists('../data/housingTestWithDummies.csv')\n",
    "housingTrainWithoutDummiesExists = exists('../data/housingTrainWithoutDummies.csv')\n",
    "housingTestWithoutDummiesExists = exists('../data/housingTestWithoutDummies.csv')\n",
    "relatedDummiesDictionaryExists = exists('../data/relatedDummiesDictionary.json')\n",
    "\n",
    "if (housingTrainWithDummiesExists and housingTestWithDummiesExists and\n",
    "   housingTrainWithoutDummiesExists and housingTestWithoutDummiesExists and\n",
    "   relatedDummiesDictionaryExists):\n",
    "    housingTrainWithDummies = pd.read_csv('../data/housingTrainWithDummies.csv')\n",
    "    housingTestWithDummies = pd.read_csv('../data/housingTestWithDummies.csv')\n",
    "    housingTrainWithoutDummies = pd.read_csv('../data/housingTrainWithoutDummies.csv')\n",
    "    housingTestWithoutDummies = pd.read_csv('../data/housingTestWithoutDummies.csv')\n",
    "    with open('../data/relatedDummiesDictionary.json') as d:\n",
    "        relatedDummiesDictionary = json.load(d)\n",
    "    \n",
    "else:\n",
    "    if (housingTrainWithDummiesExists):\n",
    "        remove('../data/housingTrainWithDummies.csv')\n",
    "    if (housingTestWithDummiesExists):\n",
    "        remove('../data/housingTestWithDummies.csv')\n",
    "    if (housingTrainWithoutDummiesExists):\n",
    "        remove('../data/housingTrainWithoutDummies.csv')\n",
    "    if (housingTestWithoutDummiesExists):\n",
    "        remove('../data/housingTestWithoutDummies.csv')\n",
    "    if (relatedDummiesDictionaryExists):\n",
    "        remove('../data/relatedDummiesDictionary.json')\n",
    "    \n",
    "    amesHousing = pd.read_csv('../data/Ames_Housing_Price_Data.csv')   \n",
    "    \n",
    "    amesHousing['MSSubClass'] = amesHousing['MSSubClass'].apply(str)\n",
    "    \n",
    "    amesHousingCategoricalData = amesHousing.select_dtypes(include=['O'])\n",
    "    for col in amesHousingCategoricalData.columns:\n",
    "        amesHousing[col]=amesHousing[col].fillna('nan')\n",
    "    relatedDummiesDictionary = {}\n",
    "    for col in amesHousingCategoricalData.columns:\n",
    "        dummyData = pd.get_dummies(amesHousing[col],prefix=col,drop_first=True)\n",
    "        for dummyCol in dummyData.columns:\n",
    "            relatedDummiesDictionary[str(dummyCol)] = list(dummyData.columns)\n",
    "        amesHousing = pd.concat([amesHousing,dummyData],axis=1)\n",
    "    with open('../data/relatedDummiesDictionary.json', 'w') as fp:\n",
    "        json.dump(relatedDummiesDictionary, fp)\n",
    "    \n",
    "    salesPrice = amesHousing['SalePrice']\n",
    "    X = amesHousing.drop(['SalePrice'], axis=1)\n",
    "    \n",
    "    housingTrainWithDummies, housingTestWithDummies, salesPriceTrain, salesPriceTest = train_test_split(X, salesPrice, test_size=0.2)\n",
    "    \n",
    "    housingTrainWithDummies['SalePrice'] = salesPriceTrain\n",
    "    housingTestWithDummies['SalePrice'] = salesPriceTest\n",
    "    \n",
    "    dummyColumns = list(relatedDummiesDictionary.keys())\n",
    "    housingTrainWithoutDummies = housingTrainWithDummies.drop(dummyColumns, axis=1)\n",
    "    housingTestWithoutDummies = housingTestWithDummies.drop(dummyColumns, axis=1)\n",
    "    \n",
    "    housingTrainWithDummies.to_csv('../data/housingTrainWithDummies.csv')\n",
    "    housingTestWithDummies.to_csv('../data/housingTestWithDummies.csv')\n",
    "    housingTrainWithoutDummies.to_csv('../data/housingTrainWithoutDummies.csv')\n",
    "    housingTestWithoutDummies.to_csv('../data/housingTestWithoutDummies.csv')"
   ]
  },
  {
   "cell_type": "code",
   "execution_count": 3,
   "id": "472d8ad3-35c2-4c7d-b185-5959deef7b23",
   "metadata": {},
   "outputs": [],
   "source": [
    "if ((\"ISUDistance\" not in housingTrainWithoutDummies.columns) or \n",
    "    (\"ISUDistance\" not in housingTrainWithDummies.columns)):\n",
    "    housingTrainWithoutDummies = util.returnDFWithISUDistance(housingTrainWithoutDummies,True)\n",
    "    housingTrainWithDummies[\"ISUDistance\"] = housingTrainWithoutDummies[\"ISUDistance\"]\n",
    "    housingTrainWithDummies.to_csv('../data/housingTrainWithDummies.csv')\n",
    "    housingTrainWithoutDummies.to_csv('../data/housingTrainWithoutDummies.csv')"
   ]
  },
  {
   "cell_type": "markdown",
   "id": "9c069562-0338-4b38-bbe1-43a21cf9ecf2",
   "metadata": {},
   "source": [
    "# Training"
   ]
  },
  {
   "cell_type": "markdown",
   "id": "f7cec6e3-f1c3-4d15-b416-321139409ea7",
   "metadata": {},
   "source": [
    "## Linear Regression"
   ]
  },
  {
   "cell_type": "code",
   "execution_count": 4,
   "id": "7b9f5551-1551-463f-b01d-8b60b6b62c9a",
   "metadata": {},
   "outputs": [],
   "source": [
    "housingTrainNumerical = housingTrainWithDummies.select_dtypes(include=['uint8','int64','float64'])"
   ]
  },
  {
   "cell_type": "code",
   "execution_count": 5,
   "id": "b5335d9f-3819-4484-9e2e-12cd5c758689",
   "metadata": {},
   "outputs": [],
   "source": [
    "if (exists('../data/trainNanReplacementValuesDictionary.json')):\n",
    "    with open('../data/trainNanReplacementValuesDictionary.json') as d:\n",
    "        trainNanReplacementValuesDictionary = json.load(d)\n",
    "else:\n",
    "    trainNanReplacementValuesDictionary = {}\n",
    "    for col in housingTrainNumerical:\n",
    "        if col in [\"YearBuilt\",\"YearRemodAdd\",\"GarageYrBlt\",\"YrSold\",\"ISUDistance\"]:\n",
    "            trainNanReplacementValuesDictionary[str(col)] = housingTrainNumerical[col].mean()\n",
    "        elif col in [\"OverallQual\",\"OverallCond\",\"MoSold\"]:\n",
    "            trainNanReplacementValuesDictionary[str(col)] = round(np.mean(housingTrainNumerical[col].mode().values))\n",
    "        else:\n",
    "            trainNanReplacementValuesDictionary[str(col)] = 0\n",
    "    with open('../data/trainNanReplacementValuesDictionary.json', 'w') as fp:\n",
    "        json.dump(trainNanReplacementValuesDictionary, fp)\n",
    "    "
   ]
  },
  {
   "cell_type": "code",
   "execution_count": 6,
   "id": "13390392-4635-40cc-b19c-00bf2c57c9fd",
   "metadata": {},
   "outputs": [
    {
     "name": "stderr",
     "output_type": "stream",
     "text": [
      "../util/util.py:58: SettingWithCopyWarning: \n",
      "A value is trying to be set on a copy of a slice from a DataFrame.\n",
      "Try using .loc[row_indexer,col_indexer] = value instead\n",
      "\n",
      "See the caveats in the documentation: https://pandas.pydata.org/pandas-docs/stable/user_guide/indexing.html#returning-a-view-versus-a-copy\n",
      "  df[col] = df[col].fillna(trainNanReplacementValuesDictionary[str(col)])\n"
     ]
    }
   ],
   "source": [
    "housingTrainNumerical = util.replaceNansWithTrainingDataValues(housingTrainNumerical)"
   ]
  },
  {
   "cell_type": "code",
   "execution_count": 7,
   "id": "0b5cdac0-1ffb-4340-8cb3-d8400f20ff36",
   "metadata": {},
   "outputs": [
    {
     "name": "stdout",
     "output_type": "stream",
     "text": [
      "2064 rows before removing outliers\n",
      "2024 rows after removing outliers\n"
     ]
    }
   ],
   "source": [
    "print(f'{housingTrainNumerical.shape[0]} rows before removing outliers')\n",
    "housingTrainNumerical = util.removeOutliers(housingTrainNumerical)\n",
    "print(f'{housingTrainNumerical.shape[0]} rows after removing outliers')"
   ]
  },
  {
   "cell_type": "code",
   "execution_count": 8,
   "id": "fe6206d0-9dd7-4d71-a97f-411a5ff9b2b8",
   "metadata": {},
   "outputs": [],
   "source": [
    "salesPrice = housingTrainNumerical[\"SalePrice\"]\n",
    "X = housingTrainNumerical.drop(['SalePrice'], axis=1)"
   ]
  },
  {
   "cell_type": "code",
   "execution_count": 9,
   "id": "97ed49f2-bb34-4b2c-b01b-09686f112c2b",
   "metadata": {},
   "outputs": [],
   "source": [
    "initialAlpha = [1]+list(np.linspace(50,1000,20))"
   ]
  },
  {
   "cell_type": "code",
   "execution_count": 10,
   "id": "480e9609-b98a-4a04-9cde-b4e0d6970f8b",
   "metadata": {},
   "outputs": [],
   "source": [
    "grid_para_elsatic_net_initial = {'alpha': initialAlpha, 'l1_ratio': np.linspace(0,1,11)}"
   ]
  },
  {
   "cell_type": "code",
   "execution_count": 11,
   "id": "65843715-217c-431a-9c14-894c2cef3722",
   "metadata": {},
   "outputs": [],
   "source": [
    "elasticNet = ElasticNet()\n",
    "if False:\n",
    "    grid_search_elastic_net = ms.GridSearchCV(elasticNet, grid_para_elsatic_net_initial, scoring='accuracy', cv=5, n_jobs=-1, return_train_score=True)\n",
    "    grid_search_elastic_net.fit(X,salesPrice)\n",
    "    grid_search_elastic_net.best_params_"
   ]
  },
  {
   "cell_type": "code",
   "execution_count": 12,
   "id": "17f1105a-0623-4991-a5a7-8a7e8ede1d6f",
   "metadata": {},
   "outputs": [],
   "source": [
    "finalAlpha = [1] + list(np.linspace(5,50,10))"
   ]
  },
  {
   "cell_type": "code",
   "execution_count": 13,
   "id": "2b3ebd21-606a-46ef-a0ae-896029ff5fc9",
   "metadata": {},
   "outputs": [],
   "source": [
    "grid_para_elsatic_net_final = {'alpha': finalAlpha, 'l1_ratio': [0.0]}"
   ]
  },
  {
   "cell_type": "code",
   "execution_count": 14,
   "id": "08f372d0-bab7-41f2-b562-944151ad0b25",
   "metadata": {},
   "outputs": [
    {
     "name": "stderr",
     "output_type": "stream",
     "text": [
      "/Users/garysimmons/opt/anaconda3/lib/python3.8/site-packages/sklearn/model_selection/_search.py:918: UserWarning: One or more of the test scores are non-finite: [nan nan nan nan nan nan nan nan nan nan nan]\n",
      "  warnings.warn(\n",
      "/Users/garysimmons/opt/anaconda3/lib/python3.8/site-packages/sklearn/model_selection/_search.py:918: UserWarning: One or more of the train scores are non-finite: [nan nan nan nan nan nan nan nan nan nan nan]\n",
      "  warnings.warn(\n",
      "/Users/garysimmons/opt/anaconda3/lib/python3.8/site-packages/sklearn/linear_model/_coordinate_descent.py:530: ConvergenceWarning: Objective did not converge. You might want to increase the number of iterations. Duality gap: 737284073046.4095, tolerance: 1124719653.9471476\n",
      "  model = cd_fast.enet_coordinate_descent(\n"
     ]
    },
    {
     "data": {
      "text/plain": [
       "{'alpha': 1, 'l1_ratio': 0.0}"
      ]
     },
     "execution_count": 14,
     "metadata": {},
     "output_type": "execute_result"
    }
   ],
   "source": [
    "grid_search_elastic_net = ms.GridSearchCV(elasticNet, grid_para_elsatic_net_final, scoring='accuracy', cv=5, n_jobs=-1, return_train_score=True)\n",
    "grid_search_elastic_net.fit(X,salesPrice)\n",
    "grid_search_elastic_net.best_params_"
   ]
  },
  {
   "cell_type": "markdown",
   "id": "6ac1298b-3d33-465b-a337-9a3495cb5352",
   "metadata": {},
   "source": [
    "## Random Forest"
   ]
  },
  {
   "cell_type": "markdown",
   "id": "6d275089-efe9-4501-9062-3530b59231a6",
   "metadata": {},
   "source": [
    "# Testing"
   ]
  },
  {
   "cell_type": "markdown",
   "id": "38cf82ad-5bae-4e4f-909f-2b5429b6abff",
   "metadata": {},
   "source": [
    "## Linear Regression"
   ]
  },
  {
   "cell_type": "markdown",
   "id": "fa4c93cd-bf75-40ac-b155-468334811ba4",
   "metadata": {},
   "source": [
    "## Random Forest"
   ]
  }
 ],
 "metadata": {
  "kernelspec": {
   "display_name": "Python 3",
   "language": "python",
   "name": "python3"
  },
  "language_info": {
   "codemirror_mode": {
    "name": "ipython",
    "version": 3
   },
   "file_extension": ".py",
   "mimetype": "text/x-python",
   "name": "python",
   "nbconvert_exporter": "python",
   "pygments_lexer": "ipython3",
   "version": "3.8.8"
  }
 },
 "nbformat": 4,
 "nbformat_minor": 5
}
