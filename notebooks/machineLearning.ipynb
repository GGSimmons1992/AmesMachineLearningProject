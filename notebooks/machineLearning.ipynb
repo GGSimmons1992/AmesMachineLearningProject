{
 "cells": [
  {
   "cell_type": "code",
   "execution_count": 1,
   "id": "8427d88a-7ab9-4e43-b6f2-6fb660b1671f",
   "metadata": {},
   "outputs": [
    {
     "name": "stderr",
     "output_type": "stream",
     "text": [
      "/Users/garysimmons/opt/anaconda3/lib/python3.8/site-packages/IPython/core/interactiveshell.py:3357: DtypeWarning: Columns (36,40,81,87) have mixed types.Specify dtype option on import or set low_memory=False.\n",
      "  if (await self.run_code(code, result,  async_=asy)):\n"
     ]
    }
   ],
   "source": [
    "import numpy as np\n",
    "import pandas as pd\n",
    "import matplotlib.pyplot as plt\n",
    "import seaborn as sns\n",
    "import scipy.stats as stats\n",
    "import os\n",
    "from os.path import exists\n",
    "from os import remove\n",
    "import sklearn.linear_model as lm\n",
    "import json\n",
    "from sklearn.model_selection import train_test_split\n",
    "from sklearn.linear_model import ElasticNet\n",
    "import sklearn.model_selection as ms\n",
    "from sklearn.model_selection import cross_validate\n",
    "from sklearn.feature_selection import f_regression\n",
    "\n",
    "import sys\n",
    "sys.path.insert(0, \"../util/\")\n",
    "import util as util"
   ]
  },
  {
   "cell_type": "markdown",
   "id": "ebb46c71-7e59-4a5c-b5cb-be0ced36eadb",
   "metadata": {},
   "source": [
    "# Add Dummies and Train-Test-Split"
   ]
  },
  {
   "cell_type": "code",
   "execution_count": 2,
   "id": "84b861e7-4ead-4a73-b7fc-ba8088801a44",
   "metadata": {},
   "outputs": [
    {
     "name": "stderr",
     "output_type": "stream",
     "text": [
      "/Users/garysimmons/opt/anaconda3/lib/python3.8/site-packages/IPython/core/interactiveshell.py:3165: DtypeWarning: Columns (75) have mixed types.Specify dtype option on import or set low_memory=False.\n",
      "  has_raised = await self.run_ast_nodes(code_ast.body, cell_name,\n"
     ]
    }
   ],
   "source": [
    "housingTrainWithDummiesExists = exists('../data/housingTrainWithDummies.csv')\n",
    "housingTestWithDummiesExists = exists('../data/housingTestWithDummies.csv')\n",
    "housingTrainWithoutDummiesExists = exists('../data/housingTrainWithoutDummies.csv')\n",
    "housingTestWithoutDummiesExists = exists('../data/housingTestWithoutDummies.csv')\n",
    "relatedDummiesDictionaryExists = exists('../data/relatedDummiesDictionary.json')\n",
    "\n",
    "if (housingTrainWithDummiesExists and housingTestWithDummiesExists and\n",
    "   housingTrainWithoutDummiesExists and housingTestWithoutDummiesExists and\n",
    "   relatedDummiesDictionaryExists):\n",
    "    housingTrainWithDummies = pd.read_csv('../data/housingTrainWithDummies.csv')\n",
    "    housingTestWithDummies = pd.read_csv('../data/housingTestWithDummies.csv')\n",
    "    housingTrainWithoutDummies = pd.read_csv('../data/housingTrainWithoutDummies.csv')\n",
    "    housingTestWithoutDummies = pd.read_csv('../data/housingTestWithoutDummies.csv')\n",
    "    with open('../data/relatedDummiesDictionary.json') as d:\n",
    "        relatedDummiesDictionary = json.load(d)\n",
    "    \n",
    "else:\n",
    "    if (housingTrainWithDummiesExists):\n",
    "        remove('../data/housingTrainWithDummies.csv')\n",
    "    if (housingTestWithDummiesExists):\n",
    "        remove('../data/housingTestWithDummies.csv')\n",
    "    if (housingTrainWithoutDummiesExists):\n",
    "        remove('../data/housingTrainWithoutDummies.csv')\n",
    "    if (housingTestWithoutDummiesExists):\n",
    "        remove('../data/housingTestWithoutDummies.csv')\n",
    "    if (relatedDummiesDictionaryExists):\n",
    "        remove('../data/relatedDummiesDictionary.json')\n",
    "    \n",
    "    amesHousing = pd.read_csv('../data/Ames_Housing_Price_Data.csv')   \n",
    "    \n",
    "    amesHousing['MSSubClass'] = amesHousing['MSSubClass'].apply(str)\n",
    "    \n",
    "    amesHousingCategoricalData = amesHousing.select_dtypes(include=['O'])\n",
    "    for col in amesHousingCategoricalData.columns:\n",
    "        amesHousing[col]=amesHousing[col].fillna('nan')\n",
    "    relatedDummiesDictionary = {}\n",
    "    for col in amesHousingCategoricalData.columns:\n",
    "        dummyData = pd.get_dummies(amesHousing[col],prefix=col,drop_first=True)\n",
    "        for dummyCol in dummyData.columns:\n",
    "            relatedDummiesDictionary[str(dummyCol)] = list(dummyData.columns)\n",
    "        amesHousing = pd.concat([amesHousing,dummyData],axis=1)\n",
    "    with open('../data/relatedDummiesDictionary.json', 'w') as fp:\n",
    "        json.dump(relatedDummiesDictionary, fp)\n",
    "    \n",
    "    salesPrice = amesHousing['SalePrice']\n",
    "    X = amesHousing.drop(['SalePrice'], axis=1)\n",
    "    \n",
    "    housingTrainWithDummies, housingTestWithDummies, salesPriceTrain, salesPriceTest = train_test_split(X, salesPrice, test_size=0.2)\n",
    "    \n",
    "    housingTrainWithDummies['SalePrice'] = salesPriceTrain\n",
    "    housingTestWithDummies['SalePrice'] = salesPriceTest\n",
    "    \n",
    "    dummyColumns = list(relatedDummiesDictionary.keys())\n",
    "    housingTrainWithoutDummies = housingTrainWithDummies.drop(dummyColumns, axis=1)\n",
    "    housingTestWithoutDummies = housingTestWithDummies.drop(dummyColumns, axis=1)\n",
    "    \n",
    "    housingTrainWithDummies.to_csv('../data/housingTrainWithDummies.csv')\n",
    "    housingTestWithDummies.to_csv('../data/housingTestWithDummies.csv')\n",
    "    housingTrainWithoutDummies.to_csv('../data/housingTrainWithoutDummies.csv')\n",
    "    housingTestWithoutDummies.to_csv('../data/housingTestWithoutDummies.csv')"
   ]
  },
  {
   "cell_type": "code",
   "execution_count": 3,
   "id": "472d8ad3-35c2-4c7d-b185-5959deef7b23",
   "metadata": {},
   "outputs": [],
   "source": [
    "if ((\"ISUDistance\" not in housingTrainWithoutDummies.columns) or \n",
    "    (\"ISUDistance\" not in housingTrainWithDummies.columns)):\n",
    "    housingTrainWithoutDummies = util.returnDFWithISUDistance(housingTrainWithoutDummies,True)\n",
    "    housingTrainWithDummies[\"ISUDistance\"] = housingTrainWithoutDummies[\"ISUDistance\"]\n",
    "    housingTrainWithDummies.to_csv('../data/housingTrainWithDummies.csv')\n",
    "    housingTrainWithoutDummies.to_csv('../data/housingTrainWithoutDummies.csv')"
   ]
  },
  {
   "cell_type": "markdown",
   "id": "9c069562-0338-4b38-bbe1-43a21cf9ecf2",
   "metadata": {},
   "source": [
    "# Training"
   ]
  },
  {
   "cell_type": "markdown",
   "id": "f7cec6e3-f1c3-4d15-b416-321139409ea7",
   "metadata": {},
   "source": [
    "## Linear Regression"
   ]
  },
  {
   "cell_type": "code",
   "execution_count": 4,
   "id": "7b9f5551-1551-463f-b01d-8b60b6b62c9a",
   "metadata": {},
   "outputs": [],
   "source": [
    "housingTrainNumerical = housingTrainWithDummies.select_dtypes(include=['uint8','int64','float64'])"
   ]
  },
  {
   "cell_type": "code",
   "execution_count": 5,
   "id": "b5335d9f-3819-4484-9e2e-12cd5c758689",
   "metadata": {},
   "outputs": [],
   "source": [
    "if (exists('../data/trainNanReplacementValuesDictionary.json')):\n",
    "    with open('../data/trainNanReplacementValuesDictionary.json') as d:\n",
    "        trainNanReplacementValuesDictionary = json.load(d)\n",
    "else:\n",
    "    trainNanReplacementValuesDictionary = {}\n",
    "    for col in housingTrainNumerical:\n",
    "        if col in [\"YearBuilt\",\"YearRemodAdd\",\"GarageYrBlt\",\"YrSold\",\"ISUDistance\"]:\n",
    "            trainNanReplacementValuesDictionary[str(col)] = housingTrainNumerical[col].mean()\n",
    "        elif col in [\"OverallQual\",\"OverallCond\",\"MoSold\"]:\n",
    "            trainNanReplacementValuesDictionary[str(col)] = round(np.mean(housingTrainNumerical[col].mode().values))\n",
    "        else:\n",
    "            trainNanReplacementValuesDictionary[str(col)] = 0\n",
    "    with open('../data/trainNanReplacementValuesDictionary.json', 'w') as fp:\n",
    "        json.dump(trainNanReplacementValuesDictionary, fp)\n",
    "    "
   ]
  },
  {
   "cell_type": "code",
   "execution_count": 6,
   "id": "13390392-4635-40cc-b19c-00bf2c57c9fd",
   "metadata": {},
   "outputs": [
    {
     "name": "stderr",
     "output_type": "stream",
     "text": [
      "../util/util.py:45: SettingWithCopyWarning: \n",
      "A value is trying to be set on a copy of a slice from a DataFrame.\n",
      "Try using .loc[row_indexer,col_indexer] = value instead\n",
      "\n",
      "See the caveats in the documentation: https://pandas.pydata.org/pandas-docs/stable/user_guide/indexing.html#returning-a-view-versus-a-copy\n",
      "  df[col] = df[col].fillna(trainNanReplacementValuesDictionary[str(col)])\n"
     ]
    }
   ],
   "source": [
    "housingTrainNumerical = util.replaceNansWithTrainingDataValues(housingTrainNumerical)"
   ]
  },
  {
   "cell_type": "code",
   "execution_count": 7,
   "id": "fe6206d0-9dd7-4d71-a97f-411a5ff9b2b8",
   "metadata": {},
   "outputs": [],
   "source": [
    "salesPrice = housingTrainNumerical[\"SalePrice\"]\n",
    "X = housingTrainNumerical.drop(['SalePrice'], axis=1)"
   ]
  },
  {
   "cell_type": "code",
   "execution_count": 8,
   "id": "97ed49f2-bb34-4b2c-b01b-09686f112c2b",
   "metadata": {},
   "outputs": [],
   "source": [
    "initialAlpha = [1]+list(np.linspace(50,1000,20))"
   ]
  },
  {
   "cell_type": "code",
   "execution_count": 9,
   "id": "480e9609-b98a-4a04-9cde-b4e0d6970f8b",
   "metadata": {},
   "outputs": [],
   "source": [
    "grid_para_elsatic_net_initial = {'alpha': initialAlpha, 'l1_ratio': np.linspace(0,1,11)}"
   ]
  },
  {
   "cell_type": "code",
   "execution_count": 10,
   "id": "65843715-217c-431a-9c14-894c2cef3722",
   "metadata": {},
   "outputs": [],
   "source": [
    "elasticNet = ElasticNet()\n",
    "if False:\n",
    "    grid_search_elastic_net = ms.GridSearchCV(elasticNet, grid_para_elsatic_net_initial, scoring='accuracy', cv=5, n_jobs=-1, return_train_score=True)\n",
    "    grid_search_elastic_net.fit(X,salesPrice)\n",
    "    grid_search_elastic_net.best_params_"
   ]
  },
  {
   "cell_type": "code",
   "execution_count": 11,
   "id": "17f1105a-0623-4991-a5a7-8a7e8ede1d6f",
   "metadata": {},
   "outputs": [],
   "source": [
    "finalAlpha = [1] + list(np.linspace(5,50,10))"
   ]
  },
  {
   "cell_type": "code",
   "execution_count": 12,
   "id": "2b3ebd21-606a-46ef-a0ae-896029ff5fc9",
   "metadata": {},
   "outputs": [],
   "source": [
    "grid_para_elsatic_net_final = {'alpha': finalAlpha, 'l1_ratio': [0.0]}"
   ]
  },
  {
   "cell_type": "code",
   "execution_count": 13,
   "id": "08f372d0-bab7-41f2-b562-944151ad0b25",
   "metadata": {},
   "outputs": [
    {
     "name": "stderr",
     "output_type": "stream",
     "text": [
      "/Users/garysimmons/opt/anaconda3/lib/python3.8/site-packages/sklearn/model_selection/_search.py:918: UserWarning: One or more of the test scores are non-finite: [nan nan nan nan nan nan nan nan nan nan nan]\n",
      "  warnings.warn(\n",
      "/Users/garysimmons/opt/anaconda3/lib/python3.8/site-packages/sklearn/model_selection/_search.py:918: UserWarning: One or more of the train scores are non-finite: [nan nan nan nan nan nan nan nan nan nan nan]\n",
      "  warnings.warn(\n",
      "/Users/garysimmons/opt/anaconda3/lib/python3.8/site-packages/sklearn/linear_model/_coordinate_descent.py:530: ConvergenceWarning: Objective did not converge. You might want to increase the number of iterations. Duality gap: 780432660910.6396, tolerance: 1180153387.246548\n",
      "  model = cd_fast.enet_coordinate_descent(\n"
     ]
    },
    {
     "data": {
      "text/plain": [
       "{'alpha': 1, 'l1_ratio': 0.0}"
      ]
     },
     "execution_count": 13,
     "metadata": {},
     "output_type": "execute_result"
    }
   ],
   "source": [
    "grid_search_elastic_net = ms.GridSearchCV(elasticNet, grid_para_elsatic_net_final, scoring='accuracy', cv=5, n_jobs=-1, return_train_score=True)\n",
    "grid_search_elastic_net.fit(X,salesPrice)\n",
    "grid_search_elastic_net.best_params_"
   ]
  },
  {
   "cell_type": "code",
   "execution_count": 14,
   "id": "f0e5b833-00e6-4d40-8656-3b75c7d30f52",
   "metadata": {},
   "outputs": [],
   "source": [
    "if exists('../data/sigCorrDictionary.json'):\n",
    "    with open('../data/sigCorrDictionary.json') as d:\n",
    "        sigCorrDictionary = json.load(d)\n",
    "else:\n",
    "    correlationList = []\n",
    "    pairList = []\n",
    "    pValList = []\n",
    "    for i in range(len(X.columns)):\n",
    "        for j in range(len(X.columns)):\n",
    "            if i<j:\n",
    "                iColumn = X.columns[i]\n",
    "                jColumn = X.columns[j]\n",
    "                pairList.append(iColumn+'-'+jColumn)\n",
    "                corrVal,pVal = stats.spearmanr(X[iColumn],\n",
    "                                              X[jColumn])\n",
    "                correlationList.append(corrVal)\n",
    "                pValList.append(pVal)\n",
    "\n",
    "    amesHousingCorreltaion = pd.DataFrame({\"pair\":pairList,\n",
    "                                    \"corr\":correlationList,\n",
    "                                    \"pVal\":pValList\n",
    "                                   },columns=[\"pair\",\"corr\",\"pVal\"]).sort_values(by=[\"pVal\",\"corr\"],\n",
    "                                                                                 ascending=[True,False])\n",
    "\n",
    "    amesHousingSigCorrs = amesHousingCorreltaion[(np.isnan(amesHousingCorreltaion['pVal'])==False) & (amesHousingCorreltaion['pVal'] < 0.05)]\n",
    "    absRValues = abs(amesHousingSigCorrs['corr'])\n",
    "    amesHousingSigCorrs = amesHousingSigCorrs[abs(amesHousingSigCorrs['corr']) > absRValues.quantile(.975)]\n",
    "\n",
    "    sigCorrDictionary = {}\n",
    "    for col in X.columns:\n",
    "        correlatedRelations = (amesHousingSigCorrs[amesHousingSigCorrs['pair'].str.contains(col)])[\"pair\"]\n",
    "        correlatedColumns = [name.replace(\"-\",\"\").replace(col,\"\") for name in correlatedRelations]\n",
    "        relatedDummies = []\n",
    "        for corrCol in correlatedColumns:\n",
    "            if corrCol in relatedDummiesDictionary.keys():\n",
    "                relatedDummies = relatedDummies + relatedDummiesDictionary[corrCol]\n",
    "        correlatedColumns = list(set(correlatedColumns + relatedDummies))\n",
    "        sigCorrDictionary[col] = correlatedColumns\n",
    "    with open('../data/sigCorrDictionary.json', 'w') as fp:\n",
    "        json.dump(sigCorrDictionary, fp)"
   ]
  },
  {
   "cell_type": "code",
   "execution_count": 15,
   "id": "330ba8c2-2fcf-4a8c-8a7c-6c3b38b4a6d3",
   "metadata": {},
   "outputs": [],
   "source": [
    "baseV1 = pd.DataFrame()\n",
    "prebaseV2 = pd.DataFrame()\n",
    "baseV2 = pd.DataFrame()\n",
    "\n",
    "linmodel = lm.LinearRegression()\n",
    "linmodel.fit(np.log(X[['GrLivArea']]),np.log(salesPrice))\n",
    "baseV1[f'GrLivArea^{round(linmodel.coef_[0],2)}'] = X['GrLivArea'] ** round(linmodel.coef_[0],2)\n",
    "\n",
    "linmodel = lm.LinearRegression()\n",
    "XWithNeighborhood = pd.merge(X,housingTrainWithDummies[[\"PID\",\"Neighborhood\"]],how='left', left_on='PID', right_on='PID')\n",
    "Nbr_quantile = XWithNeighborhood.groupby('Neighborhood')['GrLivArea'].quantile(0.8)\n",
    "joint_Nbr_quantile = pd.merge(XWithNeighborhood[['Neighborhood']], Nbr_quantile, how='left', left_on='Neighborhood', right_index=True)\n",
    "smaller_home = XWithNeighborhood.GrLivArea < joint_Nbr_quantile.GrLivArea\n",
    "\n",
    "small = []\n",
    "large = []\n",
    "for i,isSmall in enumerate(smaller_home):\n",
    "    if isSmall:\n",
    "        small.append(XWithNeighborhood.GrLivArea[i])\n",
    "        large.append(0)\n",
    "    else:\n",
    "        small.append(0)\n",
    "        large.append(XWithNeighborhood.GrLivArea[i])\n",
    "linmodel.fit(np.log(XWithNeighborhood[[\"GrLivArea\"]])[smaller_home],np.log(salesPrice)[smaller_home.values])\n",
    "baseV2[f'smallGrLivArea^{round(linmodel.coef_[0],2)}'] = small ** round(linmodel.coef_[0],2)\n",
    "linmodel.fit(np.log(XWithNeighborhood[[\"GrLivArea\"]])[~smaller_home],np.log(salesPrice)[~smaller_home.values])\n",
    "baseV2[f'largeGrLivArea^{round(linmodel.coef_[0],2)}'] = large ** round(linmodel.coef_[0],2)"
   ]
  },
  {
   "cell_type": "code",
   "execution_count": 16,
   "id": "6d2296d0-0965-4785-ae42-e5623c14d532",
   "metadata": {},
   "outputs": [
    {
     "name": "stderr",
     "output_type": "stream",
     "text": [
      "/Users/garysimmons/opt/anaconda3/lib/python3.8/site-packages/sklearn/linear_model/_coordinate_descent.py:530: ConvergenceWarning: Objective did not converge. You might want to increase the number of iterations. Duality gap: 2190067412565.603, tolerance: 933121559.0304306\n",
      "  model = cd_fast.enet_coordinate_descent(\n",
      "/Users/garysimmons/opt/anaconda3/lib/python3.8/site-packages/sklearn/linear_model/_coordinate_descent.py:530: ConvergenceWarning: Objective did not converge. You might want to increase the number of iterations. Duality gap: 2145135067096.4287, tolerance: 933224897.8421112\n",
      "  model = cd_fast.enet_coordinate_descent(\n",
      "/Users/garysimmons/opt/anaconda3/lib/python3.8/site-packages/sklearn/linear_model/_coordinate_descent.py:530: ConvergenceWarning: Objective did not converge. You might want to increase the number of iterations. Duality gap: 2306966466581.9033, tolerance: 966845617.2990716\n",
      "  model = cd_fast.enet_coordinate_descent(\n",
      "/Users/garysimmons/opt/anaconda3/lib/python3.8/site-packages/sklearn/linear_model/_coordinate_descent.py:530: ConvergenceWarning: Objective did not converge. You might want to increase the number of iterations. Duality gap: 2221041354547.131, tolerance: 952532432.1250871\n",
      "  model = cd_fast.enet_coordinate_descent(\n",
      "/Users/garysimmons/opt/anaconda3/lib/python3.8/site-packages/sklearn/linear_model/_coordinate_descent.py:530: ConvergenceWarning: Objective did not converge. You might want to increase the number of iterations. Duality gap: 2141312078271.7368, tolerance: 934474911.4017998\n",
      "  model = cd_fast.enet_coordinate_descent(\n"
     ]
    },
    {
     "data": {
      "text/plain": [
       "0.5327847844107889"
      ]
     },
     "execution_count": 16,
     "metadata": {},
     "output_type": "execute_result"
    }
   ],
   "source": [
    "elasticNet = ElasticNet(alpha=1.0,l1_ratio=0.0)\n",
    "results = cross_validate(elasticNet,baseV1,salesPrice)\n",
    "np.mean(results['test_score'])"
   ]
  },
  {
   "cell_type": "code",
   "execution_count": 17,
   "id": "7e7689c6-9992-4b55-9474-ea11ec8b0c23",
   "metadata": {},
   "outputs": [
    {
     "name": "stderr",
     "output_type": "stream",
     "text": [
      "/Users/garysimmons/opt/anaconda3/lib/python3.8/site-packages/sklearn/linear_model/_coordinate_descent.py:530: ConvergenceWarning: Objective did not converge. You might want to increase the number of iterations. Duality gap: 1973370298686.2163, tolerance: 933121559.0304306\n",
      "  model = cd_fast.enet_coordinate_descent(\n",
      "/Users/garysimmons/opt/anaconda3/lib/python3.8/site-packages/sklearn/linear_model/_coordinate_descent.py:530: ConvergenceWarning: Objective did not converge. You might want to increase the number of iterations. Duality gap: 1909927909886.937, tolerance: 933224897.8421112\n",
      "  model = cd_fast.enet_coordinate_descent(\n",
      "/Users/garysimmons/opt/anaconda3/lib/python3.8/site-packages/sklearn/linear_model/_coordinate_descent.py:530: ConvergenceWarning: Objective did not converge. You might want to increase the number of iterations. Duality gap: 2061435328822.23, tolerance: 966845617.2990716\n",
      "  model = cd_fast.enet_coordinate_descent(\n",
      "/Users/garysimmons/opt/anaconda3/lib/python3.8/site-packages/sklearn/linear_model/_coordinate_descent.py:530: ConvergenceWarning: Objective did not converge. You might want to increase the number of iterations. Duality gap: 1985620882319.3115, tolerance: 952532432.1250871\n",
      "  model = cd_fast.enet_coordinate_descent(\n",
      "/Users/garysimmons/opt/anaconda3/lib/python3.8/site-packages/sklearn/linear_model/_coordinate_descent.py:530: ConvergenceWarning: Objective did not converge. You might want to increase the number of iterations. Duality gap: 1910255710773.7344, tolerance: 934474911.4017998\n",
      "  model = cd_fast.enet_coordinate_descent(\n"
     ]
    },
    {
     "data": {
      "text/plain": [
       "0.5808850518248768"
      ]
     },
     "execution_count": 17,
     "metadata": {},
     "output_type": "execute_result"
    }
   ],
   "source": [
    "elasticNet = ElasticNet(alpha=1.0,l1_ratio=0.0)\n",
    "results = cross_validate(elasticNet,baseV2,salesPrice)\n",
    "np.mean(results['test_score'])"
   ]
  },
  {
   "cell_type": "code",
   "execution_count": 18,
   "id": "323d384c-cbaf-4b70-a757-c3a662c94546",
   "metadata": {},
   "outputs": [],
   "source": [
    "availabilityList = list(X.columns)"
   ]
  },
  {
   "cell_type": "code",
   "execution_count": 19,
   "id": "551eb167-57e7-40b6-b031-05a708e393fc",
   "metadata": {},
   "outputs": [],
   "source": [
    "availabilityList = util.removeDummiesAndCorrelatedFeaturesFromAvailabilityList(availabilityList,\"GrLivArea\")"
   ]
  },
  {
   "cell_type": "code",
   "execution_count": 20,
   "id": "83be3b9c-7bca-4592-ac3c-a6b57453db02",
   "metadata": {},
   "outputs": [
    {
     "name": "stderr",
     "output_type": "stream",
     "text": [
      "/Users/garysimmons/opt/anaconda3/lib/python3.8/site-packages/sklearn/feature_selection/_univariate_selection.py:301: RuntimeWarning: invalid value encountered in true_divide\n",
      "  corr /= X_norms\n"
     ]
    }
   ],
   "source": [
    "f_value,p_value = f_regression(X,salesPrice)\n",
    "fValuesSorted = pd.DataFrame({\"colName\":list(X.columns),\n",
    "                             \"f_value\":f_value},\n",
    "                            columns=[\"colName\",\"f_value\"]).sort_values(by=[\"f_value\"],\n",
    "                                                                                 ascending=[False])"
   ]
  },
  {
   "cell_type": "code",
   "execution_count": 21,
   "id": "82151821-9308-4904-a0a7-35221c493e73",
   "metadata": {},
   "outputs": [
    {
     "name": "stderr",
     "output_type": "stream",
     "text": [
      "/Users/garysimmons/opt/anaconda3/lib/python3.8/site-packages/sklearn/linear_model/_coordinate_descent.py:530: ConvergenceWarning: Objective did not converge. You might want to increase the number of iterations. Duality gap: 1973370298686.2163, tolerance: 933121559.0304306\n",
      "  model = cd_fast.enet_coordinate_descent(\n",
      "/Users/garysimmons/opt/anaconda3/lib/python3.8/site-packages/sklearn/linear_model/_coordinate_descent.py:530: ConvergenceWarning: Objective did not converge. You might want to increase the number of iterations. Duality gap: 1909927909886.937, tolerance: 933224897.8421112\n",
      "  model = cd_fast.enet_coordinate_descent(\n",
      "/Users/garysimmons/opt/anaconda3/lib/python3.8/site-packages/sklearn/linear_model/_coordinate_descent.py:530: ConvergenceWarning: Objective did not converge. You might want to increase the number of iterations. Duality gap: 2061435328822.23, tolerance: 966845617.2990716\n",
      "  model = cd_fast.enet_coordinate_descent(\n",
      "/Users/garysimmons/opt/anaconda3/lib/python3.8/site-packages/sklearn/linear_model/_coordinate_descent.py:530: ConvergenceWarning: Objective did not converge. You might want to increase the number of iterations. Duality gap: 1985620882319.3115, tolerance: 952532432.1250871\n",
      "  model = cd_fast.enet_coordinate_descent(\n",
      "/Users/garysimmons/opt/anaconda3/lib/python3.8/site-packages/sklearn/linear_model/_coordinate_descent.py:530: ConvergenceWarning: Objective did not converge. You might want to increase the number of iterations. Duality gap: 1910255710773.7344, tolerance: 934474911.4017998\n",
      "  model = cd_fast.enet_coordinate_descent(\n"
     ]
    },
    {
     "data": {
      "text/html": [
       "<table border=\"1\" class=\"dataframe\">\n",
       "  <thead>\n",
       "    <tr style=\"text-align: right;\">\n",
       "      <th></th>\n",
       "      <th>features</th>\n",
       "      <th>train_score</th>\n",
       "      <th>test_score</th>\n",
       "      <th>test_score_lift</th>\n",
       "    </tr>\n",
       "  </thead>\n",
       "  <tbody>\n",
       "    <tr>\n",
       "      <th>0</th>\n",
       "      <td>smallGrLivArea^1.0<br>largeGrLivArea^1.24</td>\n",
       "      <td>0.583112</td>\n",
       "      <td>0.580885</td>\n",
       "      <td>0.0</td>\n",
       "    </tr>\n",
       "  </tbody>\n",
       "</table>"
      ],
      "text/plain": [
       "<IPython.core.display.HTML object>"
      ]
     },
     "metadata": {},
     "output_type": "display_data"
    }
   ],
   "source": [
    "xTrain = baseV2\n",
    "elasticNet = ElasticNet(alpha=1.0,l1_ratio=0.0)\n",
    "results = cross_validate(elasticNet,xTrain,salesPrice,return_train_score=True)\n",
    "trainScore = np.mean(results['train_score'])\n",
    "testScore = np.mean(results['test_score'])\n",
    "bestScore = testScore\n",
    "modelEvolution = pd.DataFrame({\"features\":[\"\\n\".join(list(xTrain.columns))],\n",
    "                              \"train_score\":[trainScore],\n",
    "                              \"test_score\":[testScore],\n",
    "                              \"test_score_lift\":[0.0]},\n",
    "                             columns = [\"features\",\"train_score\",\"test_score\",\"test_score_lift\"])\n",
    "util.pretty_print(modelEvolution)"
   ]
  },
  {
   "cell_type": "code",
   "execution_count": 25,
   "id": "5a75cdc3-c125-4ed6-bc69-db81fd0dee0e",
   "metadata": {},
   "outputs": [
    {
     "name": "stdout",
     "output_type": "stream",
     "text": [
      "OverallQual\n",
      "GrLivArea\n",
      "TotalBsmtSF\n",
      "1stFlrSF\n",
      "GarageCars\n",
      "GarageArea\n",
      "ExterQual_TA\n",
      "YearBuilt\n",
      "FullBath\n",
      "MasVnrArea\n",
      "KitchenQual_TA\n",
      "YearRemodAdd\n",
      "Foundation_PConc\n",
      "GarageYrBlt\n",
      "TotRmsAbvGrd\n",
      "Fireplaces\n",
      "BsmtFinSF1\n",
      "FireplaceQu_nan\n",
      "BsmtFinType1_GLQ\n",
      "ExterQual_Gd\n",
      "BsmtQual_TA\n",
      "GarageFinish_Unf\n",
      "Neighborhood_NridgHt\n",
      "MasVnrType_None\n",
      "BsmtExposure_Gd\n",
      "GarageType_Detchd\n",
      "MSSubClass_60\n",
      "GarageType_Attchd\n",
      "WoodDeckSF\n",
      "Neighborhood_NoRidge\n",
      "Exterior2nd_VinylSd\n",
      "Exterior1st_VinylSd\n",
      "Foundation_CBlock\n",
      "KitchenQual_Gd\n",
      "FireplaceQu_Gd\n",
      "HeatingQC_TA\n",
      "LotShape_Reg\n",
      "BsmtFullBath\n",
      "HalfBath\n",
      "MSZoning_RM\n",
      "OpenPorchSF\n",
      "MasVnrType_BrkFace\n",
      "BsmtExposure_No\n",
      "2ndFlrSF\n",
      "LotArea\n",
      "PavedDrive_Y\n",
      "GarageCond_TA\n",
      "BsmtQual_Gd\n",
      "RoofStyle_Hip\n",
      "Neighborhood_StoneBr\n",
      "CentralAir_Y\n",
      "SaleType_New\n",
      "SaleCondition_Partial\n",
      "MSZoning_RL\n",
      "GarageQual_TA\n",
      "MasVnrType_Stone\n",
      "RoofStyle_Gable\n",
      "PID\n",
      "Electrical_SBrkr\n",
      "MSSubClass_30\n",
      "GarageType_nan\n",
      "GarageCond_nan\n",
      "GarageFinish_nan\n",
      "GarageQual_nan\n",
      "HouseStyle_2Story\n",
      "Neighborhood_OldTown\n",
      "Neighborhood_NAmes\n",
      "FireplaceQu_TA\n",
      "GarageType_BuiltIn\n",
      "GarageFinish_RFn\n",
      "Fence_nan\n",
      "LotFrontage\n",
      "GarageQual_Fa\n",
      "Exterior2nd_Wd Sdng\n",
      "MSSubClass_50\n",
      "LandContour_HLS\n",
      "BsmtQual_nan\n",
      "BsmtCond_nan\n",
      "BsmtFinType1_nan\n",
      "Exterior1st_Wd Sdng\n",
      "Neighborhood_Edwards\n",
      "BsmtExposure_nan\n",
      "BsmtFinType2_nan\n",
      "BsmtUnfSF\n",
      "Fence_MnPrv\n",
      "LotConfig_CulDSac\n",
      "BsmtQual_Fa\n",
      "Neighborhood_Somerst\n",
      "Neighborhood_IDOTRR\n",
      "BsmtFinType1_Rec\n",
      "Condition2_PosA\n",
      "BsmtCond_Fa\n",
      "BedroomAbvGr\n",
      "HeatingQC_Gd\n",
      "GarageCond_Fa\n",
      "Exterior1st_MetalSd\n",
      "RoofMatl_WdShngl\n",
      "KitchenQual_Fa\n",
      "ExterCond_Fa\n",
      "BsmtFinType1_Unf\n",
      "Neighborhood_BrkSide\n",
      "Neighborhood_Sawyer\n",
      "ScreenPorch\n",
      "Exterior2nd_MetalSd\n",
      "SaleCondition_Normal\n",
      "BsmtCond_TA\n",
      "ExterQual_Fa\n",
      "Foundation_Slab\n",
      "Neighborhood_MeadowV\n",
      "HeatingQC_Fa\n",
      "Condition1_Feedr\n",
      "Neighborhood_Timber\n",
      "EnclosedPorch\n",
      "ExterCond_TA\n",
      "MSSubClass_160\n",
      "BsmtFinType1_BLQ\n",
      "OverallCond\n",
      "Condition1_PosN\n",
      "Functional_Typ\n",
      "LotShape_IR2\n",
      "Electrical_FuseF\n",
      "BsmtFinType2_Unf\n",
      "KitchenAbvGr\n",
      "Alley_nan\n",
      "LotConfig_Inside\n",
      "SaleType_WD \n",
      "Neighborhood_BrDale\n",
      "MSZoning_C (all)\n",
      "BldgType_Twnhs\n",
      "Neighborhood_Veenker\n",
      "BldgType_2fmCon\n",
      "MSZoning_FV\n",
      "Exterior1st_CemntBd\n",
      "Condition1_PosA\n",
      "MSSubClass_190\n",
      "LandContour_Lvl\n",
      "Exterior2nd_CmentBd\n",
      "Condition2_PosN\n",
      "Exterior1st_HdBoard\n",
      "Fence_GdWo\n",
      "PavedDrive_P\n",
      "Condition1_Norm\n",
      "GarageQual_Gd\n",
      "MSSubClass_90\n",
      "BldgType_Duplex\n",
      "LandSlope_Mod\n",
      "HouseStyle_SFoyer\n",
      "Exterior2nd_HdBoard\n",
      "MSSubClass_180\n",
      "HouseStyle_1.5Unf\n",
      "Exterior1st_WdShing\n",
      "Neighborhood_CollgCr\n",
      "BsmtCond_Gd\n",
      "MSSubClass\n",
      "MSSubClass_70\n",
      "MSSubClass_45\n",
      "Exterior2nd_Wd Shng\n",
      "Neighborhood_SWISU\n",
      "Functional_Min2\n",
      "FireplaceQu_Po\n",
      "GarageCond_Po\n",
      "Neighborhood_ClearCr\n",
      "ExterCond_Gd\n",
      "BsmtFinType1_LwQ\n",
      "Functional_Maj2\n",
      "Electrical_FuseP\n",
      "Neighborhood_Crawfor\n",
      "PoolQC_nan\n",
      "Functional_Min1\n",
      "MiscFeature_nan\n",
      "BsmtFinType2_GLQ\n",
      "SaleType_ConLD\n",
      "Heating_GasA\n",
      "Neighborhood_Mitchel\n",
      "LandContour_Low\n",
      "BsmtFinType2_BLQ\n",
      "Condition1_RRAe\n",
      "RoofStyle_Gambrel\n",
      "Heating_Wall\n",
      "MiscFeature_Shed\n",
      "Unnamed: 0.1\n",
      "Exterior2nd_ImStucc\n",
      "GarageType_CarPort\n",
      "GarageQual_Po\n",
      "MSSubClass_85\n",
      "LandSlope_Sev\n",
      "Exterior2nd_Plywood\n",
      "HouseStyle_2.5Fin\n",
      "MSZoning_RH\n",
      "Exterior2nd_Stucco\n",
      "RoofMatl_WdShake\n",
      "Neighborhood_NPkVill\n",
      "Neighborhood_GrnHill\n",
      "BldgType_TwnhsE\n",
      "Exterior2nd_Brk Cmn\n",
      "BsmtFinType2_LwQ\n",
      "Heating_Grav\n",
      "Condition2_Feedr\n",
      "Neighborhood_Gilbert\n",
      "MSSubClass_20\n",
      "MSZoning_I (all)\n",
      "Exterior1st_Stucco\n",
      "Foundation_Stone\n",
      "Street_Pave\n",
      "Exterior2nd_Stone\n",
      "BsmtQual_Po\n",
      "Utilities_NoSewr\n",
      "SaleCondition_Family\n",
      "HouseStyle_SLvl\n",
      "Neighborhood_SawyerW\n",
      "Exterior1st_CBlock\n",
      "SaleType_Oth\n",
      "BsmtCond_Po\n",
      "HouseStyle_1Story\n",
      "BsmtExposure_Mn\n",
      "SaleType_ConLw\n",
      "Fence_MnWw\n",
      "Exterior2nd_CBlock\n",
      "Condition2_RRNn\n",
      "Exterior1st_Plywood\n",
      "SaleType_Con\n",
      "Condition2_Norm\n",
      "ISUDistance\n",
      "MSSubClass_80\n",
      "LotShape_IR3\n",
      "BsmtHalfBath\n",
      "MSSubClass_75\n",
      "Exterior2nd_BrkFace\n",
      "Exterior1st_AsphShn\n",
      "Neighborhood_Blueste\n",
      "MiscFeature_Othr\n",
      "Exterior1st_BrkFace\n",
      "BsmtFinType2_Rec\n",
      "GarageType_Basment\n",
      "MasVnrType_nan\n",
      "PoolArea\n",
      "Neighborhood_NWAmes\n",
      "Unnamed: 0\n",
      "RoofStyle_Shed\n",
      "MiscVal\n",
      "Exterior1st_ImStucc\n",
      "PoolQC_Gd\n",
      "MSSubClass_40\n",
      "Exterior2nd_AsphShn\n",
      "SaleType_ConLI\n",
      "Condition1_RRNn\n",
      "3SsnPorch\n",
      "LowQualFinSF\n",
      "KitchenQual_Po\n",
      "Functional_Mod\n",
      "FireplaceQu_Fa\n",
      "Heating_GasW\n",
      "Unnamed: 0.1.1\n",
      "BsmtFinSF2\n",
      "RoofMatl_Membran\n",
      "Exterior1st_BrkComm\n",
      "Heating_OthW\n",
      "SaleCondition_AdjLand\n",
      "LotConfig_FR2\n",
      "Condition1_RRNe\n",
      "GarageCond_Gd\n",
      "HouseStyle_2.5Unf\n",
      "RoofMatl_Tar&Grv\n",
      "MoSold\n",
      "Neighborhood_Greens\n",
      "SaleType_CWD\n",
      "Condition2_RRAn\n",
      "Neighborhood_Landmrk\n",
      "SaleType_VWD\n",
      "MSSubClass_150\n",
      "RoofStyle_Mansard\n",
      "Foundation_Wood\n",
      "SaleCondition_Alloca\n",
      "Alley_Pave\n",
      "PoolQC_TA\n",
      "LotConfig_FR3\n",
      "Condition2_RRAe\n",
      "Electrical_nan\n",
      "YrSold\n",
      "Condition1_RRAn\n",
      "PoolQC_Fa\n",
      "RoofMatl_Metal\n",
      "RoofMatl_Roll\n",
      "Exterior1st_PreCast\n",
      "Exterior2nd_PreCast\n",
      "ExterCond_Po\n",
      "HeatingQC_Po\n",
      "Functional_Sal\n",
      "MiscFeature_TenC\n"
     ]
    }
   ],
   "source": [
    "for col in fValuesSorted.colName:\n",
    "    if col in availabilityList:\n",
    "        if col in relatedDummiesDictionary.keys():\n",
    "            newX = pd.concat([xTrain,X[relatedDummiesDictionary[col]]],axis=1)\n",
    "        else:\n",
    "            if (util.IsHomoskedastic(X[col],salesPrice)):\n",
    "                newX = xTrain.copy()\n",
    "                newX[col] = X[col]\n",
    "            else:\n",
    "                newX = util.engineerFeature(xTrain,X[col],str(col))\n",
    "        if (newX != None):\n",
    "            elasticNet = ElasticNet(alpha=1.0,l1_ratio=0.0)\n",
    "            results = cross_validate(elasticNet,newX,salesPrice,return_train_score=True)\n",
    "            trainScore = np.mean(results['train_score'])\n",
    "            testScore = np.mean(results['test_score'])\n",
    "            if testScore > bestScore:\n",
    "                scoreLift = testScore - bestScore\n",
    "                bestScore = testScore\n",
    "                xTrain = newX\n",
    "                newModel = pd.DataFrame({\"features\":[\"\\n\".join(list(xTrain.columns))],\n",
    "                              \"train_score\":[trainScore],\n",
    "                              \"test_score\":[testScore],\n",
    "                              \"test_score_lift\":[scoreLift]},\n",
    "                             columns = [\"features\",\"train_score\",\"test_score\",\"test_score_lift\"])\n",
    "                modelEvolution = pd.concat([modelEvolution,newModel],axis=0)\n",
    "                util.pretty_print(modelEvolution)\n",
    "                availabilityList = util.removeDummiesAndCorrelatedFeaturesFromAvailabilityList(availabilityList,col)"
   ]
  },
  {
   "cell_type": "markdown",
   "id": "6ac1298b-3d33-465b-a337-9a3495cb5352",
   "metadata": {},
   "source": [
    "## Random Forest"
   ]
  },
  {
   "cell_type": "markdown",
   "id": "6d275089-efe9-4501-9062-3530b59231a6",
   "metadata": {},
   "source": [
    "# Testing"
   ]
  },
  {
   "cell_type": "markdown",
   "id": "38cf82ad-5bae-4e4f-909f-2b5429b6abff",
   "metadata": {},
   "source": [
    "## Linear Regression"
   ]
  },
  {
   "cell_type": "markdown",
   "id": "fa4c93cd-bf75-40ac-b155-468334811ba4",
   "metadata": {},
   "source": [
    "## Random Forest"
   ]
  }
 ],
 "metadata": {
  "kernelspec": {
   "display_name": "Python 3",
   "language": "python",
   "name": "python3"
  },
  "language_info": {
   "codemirror_mode": {
    "name": "ipython",
    "version": 3
   },
   "file_extension": ".py",
   "mimetype": "text/x-python",
   "name": "python",
   "nbconvert_exporter": "python",
   "pygments_lexer": "ipython3",
   "version": "3.8.8"
  }
 },
 "nbformat": 4,
 "nbformat_minor": 5
}
