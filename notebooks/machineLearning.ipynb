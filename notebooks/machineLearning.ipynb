{
 "cells": [
  {
   "cell_type": "code",
   "execution_count": 1,
   "id": "8427d88a-7ab9-4e43-b6f2-6fb660b1671f",
   "metadata": {},
   "outputs": [
    {
     "name": "stderr",
     "output_type": "stream",
     "text": [
      "/Users/garysimmons/opt/anaconda3/lib/python3.8/site-packages/IPython/core/interactiveshell.py:3357: DtypeWarning: Columns (36,40,81,87) have mixed types.Specify dtype option on import or set low_memory=False.\n",
      "  if (await self.run_code(code, result,  async_=asy)):\n"
     ]
    }
   ],
   "source": [
    "import numpy as np\n",
    "import pandas as pd\n",
    "import matplotlib.pyplot as plt\n",
    "import seaborn as sns\n",
    "import scipy.stats as stats\n",
    "import os\n",
    "from os.path import exists\n",
    "from os import remove\n",
    "import sklearn.linear_model as lm\n",
    "import json\n",
    "from sklearn.model_selection import train_test_split\n",
    "from sklearn.linear_model import ElasticNet\n",
    "import sklearn.model_selection as ms\n",
    "from sklearn.model_selection import cross_validate\n",
    "from sklearn.feature_selection import f_regression\n",
    "from sklearn.ensemble import RandomForestRegressor\n",
    "from sklearn import metrics\n",
    "\n",
    "import sys\n",
    "sys.path.insert(0, \"../util/\")\n",
    "import util as util"
   ]
  },
  {
   "cell_type": "markdown",
   "id": "ebb46c71-7e59-4a5c-b5cb-be0ced36eadb",
   "metadata": {},
   "source": [
    "# Add Dummies and Train-Test-Split"
   ]
  },
  {
   "cell_type": "code",
   "execution_count": 2,
   "id": "84b861e7-4ead-4a73-b7fc-ba8088801a44",
   "metadata": {},
   "outputs": [
    {
     "name": "stderr",
     "output_type": "stream",
     "text": [
      "/Users/garysimmons/opt/anaconda3/lib/python3.8/site-packages/IPython/core/interactiveshell.py:3165: DtypeWarning: Columns (8,73) have mixed types.Specify dtype option on import or set low_memory=False.\n",
      "  has_raised = await self.run_ast_nodes(code_ast.body, cell_name,\n"
     ]
    }
   ],
   "source": [
    "housingTrainWithDummiesExists = exists('../data/housingTrainWithDummies.csv')\n",
    "housingTestWithDummiesExists = exists('../data/housingTestWithDummies.csv')\n",
    "housingTrainWithoutDummiesExists = exists('../data/housingTrainWithoutDummies.csv')\n",
    "housingTestWithoutDummiesExists = exists('../data/housingTestWithoutDummies.csv')\n",
    "relatedDummiesDictionaryExists = exists('../data/relatedDummiesDictionary.json')\n",
    "\n",
    "if (housingTrainWithDummiesExists and housingTestWithDummiesExists and\n",
    "   housingTrainWithoutDummiesExists and housingTestWithoutDummiesExists and\n",
    "   relatedDummiesDictionaryExists):\n",
    "    housingTrainWithDummies = pd.read_csv('../data/housingTrainWithDummies.csv')\n",
    "    housingTestWithDummies = pd.read_csv('../data/housingTestWithDummies.csv')\n",
    "    housingTrainWithoutDummies = pd.read_csv('../data/housingTrainWithoutDummies.csv')\n",
    "    housingTestWithoutDummies = pd.read_csv('../data/housingTestWithoutDummies.csv')\n",
    "    with open('../data/relatedDummiesDictionary.json') as d:\n",
    "        relatedDummiesDictionary = json.load(d)\n",
    "    for df in [housingTrainWithDummies,housingTestWithDummies,housingTrainWithoutDummies,housingTestWithoutDummies]:\n",
    "        df[\"MSSubClass\"] = df[\"MSSubClass\"].apply(str)\n",
    "        df[\"MoSold\"] = df[\"MoSold\"].apply(str)\n",
    "    \n",
    "else:\n",
    "    if (housingTrainWithDummiesExists):\n",
    "        remove('../data/housingTrainWithDummies.csv')\n",
    "    if (housingTestWithDummiesExists):\n",
    "        remove('../data/housingTestWithDummies.csv')\n",
    "    if (housingTrainWithoutDummiesExists):\n",
    "        remove('../data/housingTrainWithoutDummies.csv')\n",
    "    if (housingTestWithoutDummiesExists):\n",
    "        remove('../data/housingTestWithoutDummies.csv')\n",
    "    if (relatedDummiesDictionaryExists):\n",
    "        remove('../data/relatedDummiesDictionary.json')\n",
    "    \n",
    "    amesHousing = pd.read_csv('../data/Ames_Housing_Price_Data.csv')   \n",
    "    \n",
    "    amesHousing['MSSubClass'] = amesHousing['MSSubClass'].apply(str)\n",
    "    amesHousing['MoSold'] = amesHousing['MoSold'].apply(str)\n",
    "    \n",
    "    amesHousingCategoricalData = amesHousing.select_dtypes(include=['O'])\n",
    "    for col in amesHousingCategoricalData.columns:\n",
    "        amesHousing[col]=amesHousing[col].fillna('nan')\n",
    "    relatedDummiesDictionary = {}\n",
    "    for col in amesHousingCategoricalData.columns:\n",
    "        dummyData = pd.get_dummies(amesHousing[col],prefix=col,drop_first=True)\n",
    "        for dummyCol in dummyData.columns:\n",
    "            relatedDummiesDictionary[str(dummyCol)] = list(dummyData.columns)\n",
    "        amesHousing = pd.concat([amesHousing,dummyData],axis=1)\n",
    "    with open('../data/relatedDummiesDictionary.json', 'w') as fp:\n",
    "        json.dump(relatedDummiesDictionary, fp)\n",
    "    \n",
    "    salesPrice = amesHousing['SalePrice']\n",
    "    X = amesHousing.drop(['SalePrice'], axis=1)\n",
    "    \n",
    "    housingTrainWithDummies, housingTestWithDummies, salesPriceTrain, salesPriceTest = train_test_split(X, salesPrice, test_size=0.2)\n",
    "    \n",
    "    housingTrainWithDummies['SalePrice'] = salesPriceTrain\n",
    "    housingTestWithDummies['SalePrice'] = salesPriceTest\n",
    "    \n",
    "    dummyColumns = list(relatedDummiesDictionary.keys())\n",
    "    housingTrainWithoutDummies = housingTrainWithDummies.drop(dummyColumns, axis=1)\n",
    "    housingTestWithoutDummies = housingTestWithDummies.drop(dummyColumns, axis=1)\n",
    "    \n",
    "    housingTrainWithDummies.to_csv('../data/housingTrainWithDummies.csv',index=False)\n",
    "    housingTestWithDummies.to_csv('../data/housingTestWithDummies.csv',index=False)\n",
    "    housingTrainWithoutDummies.to_csv('../data/housingTrainWithoutDummies.csv',index=False)\n",
    "    housingTestWithoutDummies.to_csv('../data/housingTestWithoutDummies.csv',index=False)"
   ]
  },
  {
   "cell_type": "code",
   "execution_count": 3,
   "id": "472d8ad3-35c2-4c7d-b185-5959deef7b23",
   "metadata": {},
   "outputs": [],
   "source": [
    "if ((\"ISUDistance\" not in housingTrainWithoutDummies.columns) or \n",
    "    (\"ISUDistance\" not in housingTrainWithDummies.columns)):\n",
    "    housingTrainWithoutDummies = util.returnDFWithISUDistance(housingTrainWithoutDummies,True)\n",
    "    housingTrainWithDummies[\"ISUDistance\"] = housingTrainWithoutDummies[\"ISUDistance\"]\n",
    "    housingTrainWithDummies.to_csv('../data/housingTrainWithDummies.csv',index=False)\n",
    "    housingTrainWithoutDummies.to_csv('../data/housingTrainWithoutDummies.csv',index=False)"
   ]
  },
  {
   "cell_type": "markdown",
   "id": "9c069562-0338-4b38-bbe1-43a21cf9ecf2",
   "metadata": {},
   "source": [
    "# Training"
   ]
  },
  {
   "cell_type": "markdown",
   "id": "f7cec6e3-f1c3-4d15-b416-321139409ea7",
   "metadata": {},
   "source": [
    "## Linear Regression"
   ]
  },
  {
   "cell_type": "code",
   "execution_count": 4,
   "id": "7b9f5551-1551-463f-b01d-8b60b6b62c9a",
   "metadata": {},
   "outputs": [],
   "source": [
    "housingTrainNumerical = housingTrainWithDummies.select_dtypes(include=['uint8','int64','float64'])"
   ]
  },
  {
   "cell_type": "code",
   "execution_count": 5,
   "id": "b5335d9f-3819-4484-9e2e-12cd5c758689",
   "metadata": {},
   "outputs": [],
   "source": [
    "if (exists('../data/trainNanReplacementValuesDictionary.json')):\n",
    "    with open('../data/trainNanReplacementValuesDictionary.json') as d:\n",
    "        trainNanReplacementValuesDictionary = json.load(d)\n",
    "else:\n",
    "    trainNanReplacementValuesDictionary = {}\n",
    "    for col in housingTrainNumerical:\n",
    "        if col in [\"YearBuilt\",\"YearRemodAdd\",\"GarageYrBlt\",\"YrSold\",\"ISUDistance\"]:\n",
    "            trainNanReplacementValuesDictionary[str(col)] = housingTrainNumerical[col].mean()\n",
    "        elif col in [\"OverallQual\",\"OverallCond\"]:\n",
    "            trainNanReplacementValuesDictionary[str(col)] = round(np.mean(housingTrainNumerical[col].mode().values))\n",
    "        else:\n",
    "            trainNanReplacementValuesDictionary[str(col)] = 0\n",
    "    with open('../data/trainNanReplacementValuesDictionary.json', 'w') as fp:\n",
    "        json.dump(trainNanReplacementValuesDictionary, fp)\n",
    "    "
   ]
  },
  {
   "cell_type": "code",
   "execution_count": 6,
   "id": "13390392-4635-40cc-b19c-00bf2c57c9fd",
   "metadata": {},
   "outputs": [
    {
     "name": "stderr",
     "output_type": "stream",
     "text": [
      "../util/util.py:51: SettingWithCopyWarning: \n",
      "A value is trying to be set on a copy of a slice from a DataFrame.\n",
      "Try using .loc[row_indexer,col_indexer] = value instead\n",
      "\n",
      "See the caveats in the documentation: https://pandas.pydata.org/pandas-docs/stable/user_guide/indexing.html#returning-a-view-versus-a-copy\n",
      "  df[col] = df[col].fillna(trainNanReplacementValuesDictionary[str(col)])\n"
     ]
    }
   ],
   "source": [
    "housingTrainNumerical = util.replaceNansWithTrainingDataValues(housingTrainNumerical)"
   ]
  },
  {
   "cell_type": "code",
   "execution_count": 7,
   "id": "fe6206d0-9dd7-4d71-a97f-411a5ff9b2b8",
   "metadata": {},
   "outputs": [],
   "source": [
    "salesPrice = housingTrainNumerical[\"SalePrice\"]\n",
    "X = housingTrainNumerical.drop(['SalePrice'], axis=1)"
   ]
  },
  {
   "cell_type": "code",
   "execution_count": 8,
   "id": "2c024c03-2f3b-45e9-8ffe-4d9bfbaf7d9d",
   "metadata": {},
   "outputs": [
    {
     "data": {
      "text/plain": [
       "(2064, 296)"
      ]
     },
     "execution_count": 8,
     "metadata": {},
     "output_type": "execute_result"
    }
   ],
   "source": [
    "X.shape"
   ]
  },
  {
   "cell_type": "code",
   "execution_count": 9,
   "id": "97ed49f2-bb34-4b2c-b01b-09686f112c2b",
   "metadata": {},
   "outputs": [],
   "source": [
    "initialAlpha = [1]+list(np.linspace(50,1000,20))"
   ]
  },
  {
   "cell_type": "code",
   "execution_count": 10,
   "id": "480e9609-b98a-4a04-9cde-b4e0d6970f8b",
   "metadata": {},
   "outputs": [],
   "source": [
    "grid_para_elsatic_net_initial = {'alpha': initialAlpha, 'l1_ratio': np.linspace(0,1,11)}"
   ]
  },
  {
   "cell_type": "code",
   "execution_count": 11,
   "id": "65843715-217c-431a-9c14-894c2cef3722",
   "metadata": {},
   "outputs": [],
   "source": [
    "elasticNet = ElasticNet()\n",
    "if False:\n",
    "    grid_search_elastic_net = ms.GridSearchCV(elasticNet, grid_para_elsatic_net_initial, scoring='accuracy', cv=5, n_jobs=-1, return_train_score=True)\n",
    "    grid_search_elastic_net.fit(X,salesPrice)\n",
    "    grid_search_elastic_net.best_params_"
   ]
  },
  {
   "cell_type": "code",
   "execution_count": 12,
   "id": "17f1105a-0623-4991-a5a7-8a7e8ede1d6f",
   "metadata": {},
   "outputs": [],
   "source": [
    "finalAlpha = [1] + list(np.linspace(5,50,10))"
   ]
  },
  {
   "cell_type": "code",
   "execution_count": 13,
   "id": "2b3ebd21-606a-46ef-a0ae-896029ff5fc9",
   "metadata": {},
   "outputs": [],
   "source": [
    "grid_para_elsatic_net_final = {'alpha': finalAlpha, 'l1_ratio': [0.0]}"
   ]
  },
  {
   "cell_type": "code",
   "execution_count": 14,
   "id": "08f372d0-bab7-41f2-b562-944151ad0b25",
   "metadata": {},
   "outputs": [
    {
     "name": "stderr",
     "output_type": "stream",
     "text": [
      "/Users/garysimmons/opt/anaconda3/lib/python3.8/site-packages/sklearn/model_selection/_search.py:918: UserWarning: One or more of the test scores are non-finite: [nan nan nan nan nan nan nan nan nan nan nan]\n",
      "  warnings.warn(\n",
      "/Users/garysimmons/opt/anaconda3/lib/python3.8/site-packages/sklearn/model_selection/_search.py:918: UserWarning: One or more of the train scores are non-finite: [nan nan nan nan nan nan nan nan nan nan nan]\n",
      "  warnings.warn(\n",
      "/Users/garysimmons/opt/anaconda3/lib/python3.8/site-packages/sklearn/linear_model/_coordinate_descent.py:530: ConvergenceWarning: Objective did not converge. You might want to increase the number of iterations. Duality gap: 913291954651.0177, tolerance: 1164331462.278763\n",
      "  model = cd_fast.enet_coordinate_descent(\n"
     ]
    },
    {
     "data": {
      "text/plain": [
       "{'alpha': 1, 'l1_ratio': 0.0}"
      ]
     },
     "execution_count": 14,
     "metadata": {},
     "output_type": "execute_result"
    }
   ],
   "source": [
    "grid_search_elastic_net = ms.GridSearchCV(elasticNet, grid_para_elsatic_net_final, scoring='accuracy', cv=5, n_jobs=-1, return_train_score=True)\n",
    "grid_search_elastic_net.fit(X,salesPrice)\n",
    "grid_search_elastic_net.best_params_"
   ]
  },
  {
   "cell_type": "code",
   "execution_count": 15,
   "id": "f0e5b833-00e6-4d40-8656-3b75c7d30f52",
   "metadata": {},
   "outputs": [],
   "source": [
    "if exists('../data/sigCorrDictionary.json'):\n",
    "    with open('../data/sigCorrDictionary.json') as d:\n",
    "        sigCorrDictionary = json.load(d)\n",
    "else:\n",
    "    !rm -r ../images/sigCorrs\n",
    "    !mkdir ../images/sigCorrs\n",
    "    correlationList = []\n",
    "    iColumnList = []\n",
    "    jColumnList = []\n",
    "    pValList = []\n",
    "    for i in range(len(X.columns)):\n",
    "        for j in range(len(X.columns)):\n",
    "            if i<j:\n",
    "                iColumn = X.columns[i]\n",
    "                jColumn = X.columns[j]\n",
    "                iColumnList.append(iColumn)\n",
    "                jColumnList.append(jColumn)\n",
    "                corrVal,pVal = stats.spearmanr(X[iColumn],\n",
    "                                              X[jColumn])\n",
    "                correlationList.append(corrVal)\n",
    "                pValList.append(pVal)\n",
    "\n",
    "    amesHousingCorreltaion = pd.DataFrame({\"iColumn\":iColumnList,\n",
    "                                    \"jColumn\":jColumnList,\n",
    "                                    \"corr\":correlationList,\n",
    "                                    \"pVal\":pValList\n",
    "                                   },columns=[\"iColumn\",\"jColumn\",\"corr\",\"pVal\"]).sort_values(by=[\"pVal\",\"corr\"],\n",
    "                                                                                 ascending=[True,False])\n",
    "\n",
    "    amesHousingSigCorrs = amesHousingCorreltaion[(np.isnan(amesHousingCorreltaion['pVal'])==False) & (amesHousingCorreltaion['pVal'] < 0.05)]\n",
    "    absRValues = abs(amesHousingSigCorrs['corr'])\n",
    "    amesHousingSigCorrs = amesHousingSigCorrs[abs(amesHousingSigCorrs['corr']) > absRValues.quantile(.975)]\n",
    "\n",
    "    sigCorrDictionary = {}\n",
    "    iColumns = list(amesHousingSigCorrs[\"iColumn\"])\n",
    "    jColumns = list(amesHousingSigCorrs[\"jColumn\"])\n",
    "    for col in X.columns:\n",
    "        correlatedColumns = []\n",
    "        for i,iCol in enumerate(iColumns):\n",
    "            if iCol == col:\n",
    "                correlatedColumns.append(jColumns[i])\n",
    "        for j,jCol in enumerate(jColumns):\n",
    "            if jCol == col:\n",
    "                correlatedColumns.append(iColumns[j])\n",
    "        relatedDummies = []\n",
    "        for corrCol in correlatedColumns:\n",
    "            util.plotCorrelation(X[col],X[corrCol],f'{col}-{corrCol}')\n",
    "            if corrCol in relatedDummiesDictionary.keys():\n",
    "                relatedDummies = relatedDummies + relatedDummiesDictionary[corrCol]\n",
    "        correlatedColumns = list(set(correlatedColumns + relatedDummies))\n",
    "        sigCorrDictionary[col] = correlatedColumns\n",
    "    with open('../data/sigCorrDictionary.json', 'w') as fp:\n",
    "        json.dump(sigCorrDictionary, fp)"
   ]
  },
  {
   "cell_type": "code",
   "execution_count": 16,
   "id": "330ba8c2-2fcf-4a8c-8a7c-6c3b38b4a6d3",
   "metadata": {},
   "outputs": [],
   "source": [
    "baseV1 = pd.DataFrame()\n",
    "prebaseV2 = pd.DataFrame()\n",
    "baseV2 = pd.DataFrame()\n",
    "\n",
    "linmodel = lm.LinearRegression()\n",
    "linmodel.fit(np.log(X[['GrLivArea']]),np.log(salesPrice))\n",
    "baseV1[f'GrLivArea^{round(linmodel.coef_[0],2)}'] = X['GrLivArea'] ** round(linmodel.coef_[0],2)\n",
    "\n",
    "linmodel = lm.LinearRegression()\n",
    "XWithNeighborhood = pd.merge(X,housingTrainWithDummies[[\"PID\",\"Neighborhood\"]],how='left', left_on='PID', right_on='PID')\n",
    "Nbr_quantile = XWithNeighborhood.groupby('Neighborhood')['GrLivArea'].quantile(0.8)\n",
    "joint_Nbr_quantile = pd.merge(XWithNeighborhood[['Neighborhood']], Nbr_quantile, how='left', left_on='Neighborhood', right_index=True)\n",
    "smaller_home = XWithNeighborhood.GrLivArea < joint_Nbr_quantile.GrLivArea\n",
    "\n",
    "small = []\n",
    "large = []\n",
    "for i,isSmall in enumerate(smaller_home):\n",
    "    if isSmall:\n",
    "        small.append(XWithNeighborhood.GrLivArea[i])\n",
    "        large.append(0)\n",
    "    else:\n",
    "        small.append(0)\n",
    "        large.append(XWithNeighborhood.GrLivArea[i])\n",
    "linmodel.fit(np.log(XWithNeighborhood[[\"GrLivArea\"]])[smaller_home],np.log(salesPrice)[smaller_home.values])\n",
    "baseV2[f'smallGrLivArea^{round(linmodel.coef_[0],2)}'] = small ** round(linmodel.coef_[0],2)\n",
    "linmodel.fit(np.log(XWithNeighborhood[[\"GrLivArea\"]])[~smaller_home],np.log(salesPrice)[~smaller_home.values])\n",
    "baseV2[f'largeGrLivArea^{round(linmodel.coef_[0],2)}'] = large ** round(linmodel.coef_[0],2)"
   ]
  },
  {
   "cell_type": "code",
   "execution_count": 17,
   "id": "6d2296d0-0965-4785-ae42-e5623c14d532",
   "metadata": {},
   "outputs": [
    {
     "name": "stderr",
     "output_type": "stream",
     "text": [
      "/Users/garysimmons/opt/anaconda3/lib/python3.8/site-packages/sklearn/linear_model/_coordinate_descent.py:530: ConvergenceWarning: Objective did not converge. You might want to increase the number of iterations. Duality gap: 2239794095782.0884, tolerance: 901420132.812253\n",
      "  model = cd_fast.enet_coordinate_descent(\n",
      "/Users/garysimmons/opt/anaconda3/lib/python3.8/site-packages/sklearn/linear_model/_coordinate_descent.py:530: ConvergenceWarning: Objective did not converge. You might want to increase the number of iterations. Duality gap: 2466411069760.274, tolerance: 998562609.9990066\n",
      "  model = cd_fast.enet_coordinate_descent(\n",
      "/Users/garysimmons/opt/anaconda3/lib/python3.8/site-packages/sklearn/linear_model/_coordinate_descent.py:530: ConvergenceWarning: Objective did not converge. You might want to increase the number of iterations. Duality gap: 2181102078453.953, tolerance: 877027398.0896965\n",
      "  model = cd_fast.enet_coordinate_descent(\n",
      "/Users/garysimmons/opt/anaconda3/lib/python3.8/site-packages/sklearn/linear_model/_coordinate_descent.py:530: ConvergenceWarning: Objective did not converge. You might want to increase the number of iterations. Duality gap: 2332449758380.646, tolerance: 922742339.2527307\n",
      "  model = cd_fast.enet_coordinate_descent(\n",
      "/Users/garysimmons/opt/anaconda3/lib/python3.8/site-packages/sklearn/linear_model/_coordinate_descent.py:530: ConvergenceWarning: Objective did not converge. You might want to increase the number of iterations. Duality gap: 2459537768587.391, tolerance: 957323221.2641301\n",
      "  model = cd_fast.enet_coordinate_descent(\n"
     ]
    },
    {
     "data": {
      "text/plain": [
       "0.5109026476462587"
      ]
     },
     "execution_count": 17,
     "metadata": {},
     "output_type": "execute_result"
    }
   ],
   "source": [
    "elasticNet = ElasticNet(alpha=1000,l1_ratio=0.0)\n",
    "results = cross_validate(elasticNet,baseV1,salesPrice)\n",
    "np.mean(results['test_score'])"
   ]
  },
  {
   "cell_type": "code",
   "execution_count": 18,
   "id": "7e7689c6-9992-4b55-9474-ea11ec8b0c23",
   "metadata": {},
   "outputs": [
    {
     "data": {
      "text/plain": [
       "0.541779684831709"
      ]
     },
     "execution_count": 18,
     "metadata": {},
     "output_type": "execute_result"
    }
   ],
   "source": [
    "elasticNet = ElasticNet(alpha=1000,l1_ratio=0.5)\n",
    "results = cross_validate(elasticNet,baseV2,salesPrice)\n",
    "np.mean(results['test_score'])"
   ]
  },
  {
   "cell_type": "code",
   "execution_count": 19,
   "id": "323d384c-cbaf-4b70-a757-c3a662c94546",
   "metadata": {},
   "outputs": [],
   "source": [
    "availabilityList = list(X.columns)"
   ]
  },
  {
   "cell_type": "code",
   "execution_count": 20,
   "id": "551eb167-57e7-40b6-b031-05a708e393fc",
   "metadata": {},
   "outputs": [],
   "source": [
    "availabilityList = util.removeDummiesAndCorrelatedFeaturesFromAvailabilityList(availabilityList,\"GrLivArea\")"
   ]
  },
  {
   "cell_type": "code",
   "execution_count": 21,
   "id": "83be3b9c-7bca-4592-ac3c-a6b57453db02",
   "metadata": {},
   "outputs": [
    {
     "name": "stderr",
     "output_type": "stream",
     "text": [
      "/Users/garysimmons/opt/anaconda3/lib/python3.8/site-packages/sklearn/feature_selection/_univariate_selection.py:301: RuntimeWarning: invalid value encountered in true_divide\n",
      "  corr /= X_norms\n"
     ]
    }
   ],
   "source": [
    "f_value,p_value = f_regression(X,salesPrice)\n",
    "fValuesSorted = pd.DataFrame({\"colName\":list(X.columns),\n",
    "                             \"f_value\":f_value},\n",
    "                            columns=[\"colName\",\"f_value\"]).sort_values(by=[\"f_value\"],\n",
    "                                                                                 ascending=[False])"
   ]
  },
  {
   "cell_type": "code",
   "execution_count": 22,
   "id": "82151821-9308-4904-a0a7-35221c493e73",
   "metadata": {},
   "outputs": [
    {
     "data": {
      "text/html": [
       "<table border=\"1\" class=\"dataframe\">\n",
       "  <thead>\n",
       "    <tr style=\"text-align: right;\">\n",
       "      <th></th>\n",
       "      <th>features</th>\n",
       "      <th>train_score</th>\n",
       "      <th>test_score</th>\n",
       "      <th>test_score_lift</th>\n",
       "    </tr>\n",
       "  </thead>\n",
       "  <tbody>\n",
       "    <tr>\n",
       "      <th>0</th>\n",
       "      <td>smallGrLivArea^1.0<br>largeGrLivArea^1.08</td>\n",
       "      <td>0.546808</td>\n",
       "      <td>0.54178</td>\n",
       "      <td>0.0</td>\n",
       "    </tr>\n",
       "  </tbody>\n",
       "</table>"
      ],
      "text/plain": [
       "<IPython.core.display.HTML object>"
      ]
     },
     "metadata": {},
     "output_type": "display_data"
    }
   ],
   "source": [
    "xTrain = baseV2\n",
    "elasticNet = ElasticNet(alpha=1000,l1_ratio=0.5)\n",
    "results = cross_validate(elasticNet,xTrain,salesPrice,return_train_score=True)\n",
    "trainScore = np.mean(results['train_score'])\n",
    "testScore = np.mean(results['test_score'])\n",
    "bestScore = testScore\n",
    "modelEvolution = pd.DataFrame({\"features\":[\"\\n\".join(list(xTrain.columns))],\n",
    "                              \"train_score\":[trainScore],\n",
    "                              \"test_score\":[testScore],\n",
    "                              \"test_score_lift\":[0.0]},\n",
    "                             columns = [\"features\",\"train_score\",\"test_score\",\"test_score_lift\"])\n",
    "util.pretty_print(modelEvolution)"
   ]
  },
  {
   "cell_type": "code",
   "execution_count": 23,
   "id": "d40f0442-0931-43d4-8954-844d094e5587",
   "metadata": {},
   "outputs": [],
   "source": [
    "!rm -r ../images/normalCheck\n",
    "!rm -r ../images/isHeteroskedastic\n",
    "!rm -r ../images/isHomoSkedastic\n",
    "!rm -r ../images/notCentered\n",
    "\n",
    "!mkdir ../images/normalCheck\n",
    "!mkdir ../images/isHeteroskedastic\n",
    "!mkdir ../images/isHomoSkedastic\n",
    "!mkdir ../images/notCentered"
   ]
  },
  {
   "cell_type": "code",
   "execution_count": 24,
   "id": "43b4b477-171b-446f-b976-5b06ca58f606",
   "metadata": {},
   "outputs": [
    {
     "data": {
      "text/plain": [
       "False"
      ]
     },
     "execution_count": 24,
     "metadata": {},
     "output_type": "execute_result"
    }
   ],
   "source": [
    "util.IsHomoskedastic((XWithNeighborhood[[\"GrLivArea\"]])[smaller_home] ** 1.0,\n",
    "                     salesPrice[smaller_home.values],\"smallGrLivArea^1.0\")\n",
    "util.IsHomoskedastic((XWithNeighborhood[[\"GrLivArea\"]])[~smaller_home] ** 1.08,\n",
    "                     salesPrice[~smaller_home.values],\"largeGrLivArea^1.08\")"
   ]
  },
  {
   "cell_type": "code",
   "execution_count": 25,
   "id": "73d70f91-94a2-42c9-86d0-76e64590d4c4",
   "metadata": {},
   "outputs": [],
   "source": [
    "#diverseNumbers = [col for col in fValuesSorted.colName if (col not in relatedDummiesDictionary.keys() and len(list(set(X[col].values))) > 15)]\n",
    "#nonDiverseNumbers = [col for col in fValuesSorted.colName if (col not in relatedDummiesDictionary.keys() and len(list(set(X[col].values))) <= 15)]\n",
    "#dummyColumns = [col for col in fValuesSorted.colName if col in relatedDummiesDictionary.keys()]\n",
    "#prioritizedList = diverseNumbers + nonDiverseNumbers + dummyColumns"
   ]
  },
  {
   "cell_type": "code",
   "execution_count": 26,
   "id": "6930e509-629c-4ecb-8193-bbd458a2f9a8",
   "metadata": {},
   "outputs": [],
   "source": [
    "prioritizedList = list(fValuesSorted.colName)"
   ]
  },
  {
   "cell_type": "code",
   "execution_count": 27,
   "id": "5a75cdc3-c125-4ed6-bc69-db81fd0dee0e",
   "metadata": {},
   "outputs": [
    {
     "name": "stdout",
     "output_type": "stream",
     "text": [
      "0.6756756756756757% complete. Computing TotalBsmtSF\n",
      "2.027027027027027% complete. Sorting ExterQual_TA\n",
      "4.391891891891892% complete. Computing MasVnrArea\n",
      "6.081081081081081% complete. Computing BsmtFinSF1\n",
      "7.4324324324324325% complete. Sorting Neighborhood_NridgHt\n",
      "7.77027027027027% complete. Sorting MasVnrType_None\n",
      "8.108108108108109% complete. Sorting GarageType_Detchd\n",
      "8.783783783783784% complete. Sorting BsmtExposure_Gd\n",
      "9.797297297297296% complete. Computing WoodDeckSF\n",
      "11.486486486486486% complete. Sorting HeatingQC_TA\n",
      "12.162162162162161% complete. Sorting LotShape_Reg\n",
      "12.5% complete. Computing OpenPorchSF\n",
      "12.837837837837839% complete. Computing BsmtFullBath\n",
      "13.175675675675675% complete. Sorting MSZoning_RM\n",
      "14.527027027027026% complete. Sorting PavedDrive_Y\n",
      "14.864864864864865% complete. Sorting GarageCond_TA\n",
      "15.54054054054054% complete. Sorting CentralAir_Y\n",
      "17.56756756756757% complete. Sorting Electrical_SBrkr\n",
      "18.243243243243242% complete. Sorting RoofStyle_Hip\n",
      "18.58108108108108% complete. Sorting SaleCondition_Partial\n",
      "18.91891891891892% complete. Computing PID\n",
      "23.31081081081081% complete. Computing BsmtUnfSF\n",
      "24.324324324324323% complete. Sorting Fence_nan\n",
      "25.0% complete. Computing LotFrontage\n",
      "26.013513513513512% complete. Sorting LandContour_HLS\n",
      "27.027027027027028% complete. Sorting BsmtCond_nan\n",
      "29.72972972972973% complete. Sorting RoofMatl_WdShngl\n",
      "32.0945945945946% complete. Sorting Condition2_PosA\n",
      "32.770270270270274% complete. Sorting LotConfig_CulDSac\n",
      "33.445945945945944% complete. Computing EnclosedPorch\n",
      "34.12162162162162% complete. Computing ScreenPorch\n",
      "35.472972972972975% complete. Sorting ExterCond_Fa\n",
      "37.16216216216216% complete. Computing KitchenAbvGr\n"
     ]
    },
    {
     "name": "stderr",
     "output_type": "stream",
     "text": [
      "../util/util.py:155: RuntimeWarning: divide by zero encountered in power\n",
      "  xPow = newX ** power\n",
      "../util/util.py:232: RuntimeWarning: divide by zero encountered in double_scalars\n",
      "  return (np.max(varianceValues)/np.min(varianceValues))\n"
     ]
    },
    {
     "name": "stdout",
     "output_type": "stream",
     "text": [
      "39.86486486486486% complete. Sorting Condition1_Feedr\n",
      "40.54054054054054% complete. Sorting Alley_nan\n",
      "44.25675675675676% complete. Computing OverallCond\n",
      "44.5945945945946% complete. Sorting Functional_Typ\n",
      "44.932432432432435% complete. Sorting PoolQC_nan\n",
      "50.67567567567568% complete. Sorting Heating_GasA\n",
      "53.04054054054054% complete. Sorting Heating_Grav\n",
      "54.054054054054056% complete. Sorting MiscFeature_nan\n",
      "55.067567567567565% complete. Sorting Condition2_PosN\n",
      "55.74324324324324% complete. Sorting MiscFeature_Shed\n",
      "57.0945945945946% complete. Sorting Heating_Wall\n",
      "57.432432432432435% complete. Sorting LandSlope_Mod\n",
      "60.13513513513514% complete. Sorting Street_Pave\n",
      "61.486486486486484% complete. Sorting RoofMatl_WdShake\n",
      "61.82432432432432% complete. Computing PoolArea\n"
     ]
    },
    {
     "name": "stderr",
     "output_type": "stream",
     "text": [
      "../util/util.py:155: RuntimeWarning: divide by zero encountered in power\n",
      "  xPow = newX ** power\n"
     ]
    },
    {
     "name": "stdout",
     "output_type": "stream",
     "text": [
      "63.851351351351354% complete. Sorting Condition2_Feedr\n",
      "66.89189189189189% complete. Sorting MoSold_4\n",
      "67.22972972972973% complete. Sorting MoSold_5\n",
      "68.91891891891892% complete. Computing 3SsnPorch\n",
      "70.27027027027027% complete. Computing BsmtFinSF2\n",
      "73.3108108108108% complete. Sorting Utilities_NoSewr\n",
      "73.98648648648648% complete. Computing Unnamed: 0\n",
      "74.32432432432432% complete. Computing ISUDistance\n",
      "75.0% complete. Sorting Condition2_RRNn\n",
      "75.67567567567568% complete. Sorting MoSold_8\n",
      "77.02702702702703% complete. Sorting MoSold_10\n",
      "79.39189189189189% complete. Computing BsmtHalfBath\n",
      "80.06756756756756% complete. Sorting MiscFeature_Othr\n",
      "83.10810810810811% complete. Sorting PoolQC_Gd\n",
      "83.78378378378379% complete. Computing MiscVal\n",
      "84.12162162162163% complete. Sorting Condition2_Norm\n",
      "84.45945945945945% complete. Sorting MoSold_9\n",
      "84.79729729729729% complete. Sorting MoSold_6\n",
      "85.13513513513513% complete. Sorting Heating_OthW\n",
      "85.47297297297297% complete. Sorting Heating_GasW\n",
      "85.8108108108108% complete. Sorting MiscFeature_TenC\n",
      "87.83783783783784% complete. Computing LowQualFinSF\n",
      "88.17567567567568% complete. Sorting RoofMatl_Membran\n",
      "89.86486486486487% complete. Sorting MoSold_3\n",
      "90.20270270270271% complete. Sorting PoolQC_Fa\n",
      "90.54054054054055% complete. Sorting RoofMatl_Tar&Grv\n",
      "91.55405405405405% complete. Sorting Condition2_RRAn\n",
      "92.22972972972973% complete. Sorting RoofMatl_Roll\n",
      "92.9054054054054% complete. Sorting MoSold_11\n",
      "93.24324324324324% complete. Sorting MoSold_7\n",
      "94.5945945945946% complete. Sorting MoSold_2\n",
      "94.93243243243244% complete. Sorting MoSold_12\n",
      "96.28378378378379% complete. Computing YrSold\n",
      "97.29729729729729% complete. Sorting Condition2_RRAe\n",
      "98.98648648648648% complete. Sorting RoofMatl_Metal\n",
      "99.66216216216216% complete. Sorting PoolQC_TA\n",
      "100% complete!\n"
     ]
    },
    {
     "data": {
      "text/html": [
       "<table border=\"1\" class=\"dataframe\">\n",
       "  <thead>\n",
       "    <tr style=\"text-align: right;\">\n",
       "      <th></th>\n",
       "      <th>features</th>\n",
       "      <th>train_score</th>\n",
       "      <th>test_score</th>\n",
       "      <th>test_score_lift</th>\n",
       "    </tr>\n",
       "  </thead>\n",
       "  <tbody>\n",
       "    <tr>\n",
       "      <th>0</th>\n",
       "      <td>smallGrLivArea^1.0<br>largeGrLivArea^1.08<br>ExterQual_Fa<br>ExterQual_Gd<br>ExterQual_TA<br>Neighborhood_Blueste<br>Neighborhood_BrDale<br>Neighborhood_BrkSide<br>Neighborhood_ClearCr<br>Neighborhood_CollgCr<br>Neighborhood_Crawfor<br>Neighborhood_Edwards<br>Neighborhood_Gilbert<br>Neighborhood_Greens<br>Neighborhood_GrnHill<br>Neighborhood_IDOTRR<br>Neighborhood_Landmrk<br>Neighborhood_MeadowV<br>Neighborhood_Mitchel<br>Neighborhood_NAmes<br>Neighborhood_NPkVill<br>Neighborhood_NWAmes<br>Neighborhood_NoRidge<br>Neighborhood_NridgHt<br>Neighborhood_OldTown<br>Neighborhood_SWISU<br>Neighborhood_Sawyer<br>Neighborhood_SawyerW<br>Neighborhood_Somerst<br>Neighborhood_StoneBr<br>Neighborhood_Timber<br>Neighborhood_Veenker<br>MasVnrType_BrkFace<br>MasVnrType_None<br>MasVnrType_Stone<br>MasVnrType_nan<br>GarageType_Attchd<br>GarageType_Basment<br>GarageType_BuiltIn<br>GarageType_CarPort<br>GarageType_Detchd<br>GarageType_nan<br>BsmtExposure_Gd<br>BsmtExposure_Mn<br>BsmtExposure_No<br>BsmtExposure_nan<br>HeatingQC_Fa<br>HeatingQC_Gd<br>HeatingQC_Po<br>HeatingQC_TA<br>LotShape_IR2<br>LotShape_IR3<br>LotShape_Reg<br>BsmtFullBath<br>MSZoning_C (all)<br>MSZoning_FV<br>MSZoning_I (all)<br>MSZoning_RH<br>MSZoning_RL<br>MSZoning_RM<br>PavedDrive_P<br>PavedDrive_Y<br>GarageCond_Fa<br>GarageCond_Gd<br>GarageCond_Po<br>GarageCond_TA<br>GarageCond_nan<br>CentralAir_Y<br>Electrical_FuseF<br>Electrical_FuseP<br>Electrical_SBrkr<br>Electrical_nan<br>RoofStyle_Gable<br>RoofStyle_Gambrel<br>RoofStyle_Hip<br>RoofStyle_Mansard<br>RoofStyle_Shed<br>SaleCondition_AdjLand<br>SaleCondition_Alloca<br>SaleCondition_Family<br>SaleCondition_Normal<br>SaleCondition_Partial<br>Fence_GdWo<br>Fence_MnPrv<br>Fence_MnWw<br>Fence_nan<br>LandContour_HLS<br>LandContour_Low<br>LandContour_Lvl<br>BsmtCond_Fa<br>BsmtCond_Gd<br>BsmtCond_Po<br>BsmtCond_TA<br>BsmtCond_nan<br>LotConfig_CulDSac<br>LotConfig_FR2<br>LotConfig_FR3<br>LotConfig_Inside<br>EnclosedPorch<br>ScreenPorch<br>ExterCond_Fa<br>ExterCond_Gd<br>ExterCond_Po<br>ExterCond_TA<br>KitchenAbvGr_invbc_l0.02_m-0.32_b13.92<br>Condition1_Feedr<br>Condition1_Norm<br>Condition1_PosA<br>Condition1_PosN<br>Condition1_RRAe<br>Condition1_RRAn<br>Condition1_RRNe<br>Condition1_RRNn<br>Alley_Pave<br>Alley_nan<br>OverallCond<br>Functional_Maj2<br>Functional_Min1<br>Functional_Min2<br>Functional_Mod<br>Functional_Sal<br>Functional_Typ<br>LandSlope_Mod<br>LandSlope_Sev<br>PoolArea<br>BsmtFinSF2<br>ISUDistance<br>BsmtHalfBath^0.7<br>LowQualFinSF</td>\n",
       "      <td>0.605742</td>\n",
       "      <td>0.596878</td>\n",
       "      <td>0.005719</td>\n",
       "    </tr>\n",
       "  </tbody>\n",
       "</table>"
      ],
      "text/plain": [
       "<IPython.core.display.HTML object>"
      ]
     },
     "metadata": {},
     "output_type": "display_data"
    }
   ],
   "source": [
    "if exists('../data/featureResultDictionary.json'):\n",
    "    remove('../data/featureResultDictionary.json')\n",
    "featureResultDictionary = {}\n",
    "for i,col in enumerate(prioritizedList):\n",
    "    if col in availabilityList:\n",
    "        newX = pd.DataFrame()\n",
    "        newX.reset_index()\n",
    "        if col in relatedDummiesDictionary.keys():\n",
    "            print(f'{i*100.0/len(fValuesSorted.colName)}% complete. Sorting {col}')\n",
    "            newX = pd.concat([xTrain,X[relatedDummiesDictionary[col]]],axis=1)\n",
    "        else:\n",
    "            print(f'{i*100.0/len(fValuesSorted.colName)}% complete. Computing {col}')\n",
    "            valueSet = list(set(X[col].values))\n",
    "            if (len(valueSet) <= 15):\n",
    "                newX = util.engineerSmallFeature(xTrain,X[col],salesPrice,str(col))\n",
    "            elif util.IsHomoskedastic(X[col],salesPrice,str(col)):\n",
    "                newX = xTrain.copy()\n",
    "                newX[col] = X[col]\n",
    "            else:\n",
    "                newX = util.engineerFeature(xTrain,X[col],salesPrice,str(col))\n",
    "        if (type(newX) != type(None)):\n",
    "            elasticNet = ElasticNet(alpha=1000,l1_ratio=0.5)\n",
    "            results = cross_validate(elasticNet,newX,salesPrice,return_train_score=True)\n",
    "            trainScore = np.mean(results['train_score'])\n",
    "            testScore = np.mean(results['test_score'])\n",
    "            if testScore > bestScore:\n",
    "                scoreLift = testScore - bestScore\n",
    "                bestScore = testScore\n",
    "                xTrain = newX\n",
    "                newModel = pd.DataFrame({\"features\":[\"\\n\".join(list(xTrain.columns))],\n",
    "                              \"train_score\":[trainScore],\n",
    "                              \"test_score\":[testScore],\n",
    "                              \"test_score_lift\":[scoreLift]},\n",
    "                             columns = [\"features\",\"train_score\",\"test_score\",\"test_score_lift\"])\n",
    "                modelEvolution = pd.concat([modelEvolution,newModel],axis=0)\n",
    "                featureResultDictionary[col] = \"Added to model\"\n",
    "                availabilityList = util.removeDummiesAndCorrelatedFeaturesFromAvailabilityList(availabilityList,col)\n",
    "            else:\n",
    "                featureResultDictionary[col] = \"Did not improve model\"\n",
    "        else:\n",
    "            featureResultDictionary[col] = \"Could not transform\"\n",
    "    else:\n",
    "        if col in xTrain.columns:\n",
    "            featureResultDictionary[col] = \"Added to model\"\n",
    "        else:\n",
    "            featureResultDictionary[col] = \"Rejected due to colinearity\"\n",
    "            \n",
    "featureResultDictionary['GrLivArea'] = \"Base\"\n",
    "with open('../data/featureResultDictionary.json', 'w') as fp:\n",
    "    json.dump(featureResultDictionary, fp)\n",
    "print('100% complete!')\n",
    "modelEvolution.reset_index()\n",
    "util.pretty_print(newModel)"
   ]
  },
  {
   "cell_type": "code",
   "execution_count": 28,
   "id": "3a53e119-9058-4277-82ac-7717e0045ead",
   "metadata": {},
   "outputs": [
    {
     "data": {
      "text/plain": [
       "(2064, 4)"
      ]
     },
     "execution_count": 28,
     "metadata": {},
     "output_type": "execute_result"
    }
   ],
   "source": [
    "X[relatedDummiesDictionary[col]].shape #xTrain,X[relatedDummiesDictionary[col]]"
   ]
  },
  {
   "cell_type": "code",
   "execution_count": 29,
   "id": "94187d19-d3d6-4b9a-90c3-3cf7f717f8c7",
   "metadata": {},
   "outputs": [
    {
     "data": {
      "text/html": [
       "<div>\n",
       "<style scoped>\n",
       "    .dataframe tbody tr th:only-of-type {\n",
       "        vertical-align: middle;\n",
       "    }\n",
       "\n",
       "    .dataframe tbody tr th {\n",
       "        vertical-align: top;\n",
       "    }\n",
       "\n",
       "    .dataframe thead th {\n",
       "        text-align: right;\n",
       "    }\n",
       "</style>\n",
       "<table border=\"1\" class=\"dataframe\">\n",
       "  <thead>\n",
       "    <tr style=\"text-align: right;\">\n",
       "      <th></th>\n",
       "      <th>features</th>\n",
       "      <th>train_score</th>\n",
       "      <th>test_score</th>\n",
       "      <th>test_score_lift</th>\n",
       "    </tr>\n",
       "  </thead>\n",
       "  <tbody>\n",
       "    <tr>\n",
       "      <th>0</th>\n",
       "      <td>smallGrLivArea^1.0\\nlargeGrLivArea^1.08</td>\n",
       "      <td>0.546808</td>\n",
       "      <td>0.541780</td>\n",
       "      <td>0.000000e+00</td>\n",
       "    </tr>\n",
       "    <tr>\n",
       "      <th>0</th>\n",
       "      <td>smallGrLivArea^1.0\\nlargeGrLivArea^1.08\\nExter...</td>\n",
       "      <td>0.546914</td>\n",
       "      <td>0.541890</td>\n",
       "      <td>1.102377e-04</td>\n",
       "    </tr>\n",
       "    <tr>\n",
       "      <th>0</th>\n",
       "      <td>smallGrLivArea^1.0\\nlargeGrLivArea^1.08\\nExter...</td>\n",
       "      <td>0.546938</td>\n",
       "      <td>0.541914</td>\n",
       "      <td>2.397519e-05</td>\n",
       "    </tr>\n",
       "    <tr>\n",
       "      <th>0</th>\n",
       "      <td>smallGrLivArea^1.0\\nlargeGrLivArea^1.08\\nExter...</td>\n",
       "      <td>0.546978</td>\n",
       "      <td>0.541955</td>\n",
       "      <td>4.085977e-05</td>\n",
       "    </tr>\n",
       "    <tr>\n",
       "      <th>0</th>\n",
       "      <td>smallGrLivArea^1.0\\nlargeGrLivArea^1.08\\nExter...</td>\n",
       "      <td>0.547048</td>\n",
       "      <td>0.542027</td>\n",
       "      <td>7.214265e-05</td>\n",
       "    </tr>\n",
       "    <tr>\n",
       "      <th>0</th>\n",
       "      <td>smallGrLivArea^1.0\\nlargeGrLivArea^1.08\\nExter...</td>\n",
       "      <td>0.547104</td>\n",
       "      <td>0.542085</td>\n",
       "      <td>5.779530e-05</td>\n",
       "    </tr>\n",
       "    <tr>\n",
       "      <th>0</th>\n",
       "      <td>smallGrLivArea^1.0\\nlargeGrLivArea^1.08\\nExter...</td>\n",
       "      <td>0.547123</td>\n",
       "      <td>0.542104</td>\n",
       "      <td>1.925254e-05</td>\n",
       "    </tr>\n",
       "    <tr>\n",
       "      <th>0</th>\n",
       "      <td>smallGrLivArea^1.0\\nlargeGrLivArea^1.08\\nExter...</td>\n",
       "      <td>0.547142</td>\n",
       "      <td>0.542123</td>\n",
       "      <td>1.953918e-05</td>\n",
       "    </tr>\n",
       "    <tr>\n",
       "      <th>0</th>\n",
       "      <td>smallGrLivArea^1.0\\nlargeGrLivArea^1.08\\nExter...</td>\n",
       "      <td>0.547207</td>\n",
       "      <td>0.542189</td>\n",
       "      <td>6.590137e-05</td>\n",
       "    </tr>\n",
       "    <tr>\n",
       "      <th>0</th>\n",
       "      <td>smallGrLivArea^1.0\\nlargeGrLivArea^1.08\\nExter...</td>\n",
       "      <td>0.547233</td>\n",
       "      <td>0.542216</td>\n",
       "      <td>2.700382e-05</td>\n",
       "    </tr>\n",
       "    <tr>\n",
       "      <th>0</th>\n",
       "      <td>smallGrLivArea^1.0\\nlargeGrLivArea^1.08\\nExter...</td>\n",
       "      <td>0.547242</td>\n",
       "      <td>0.542226</td>\n",
       "      <td>9.114979e-06</td>\n",
       "    </tr>\n",
       "    <tr>\n",
       "      <th>0</th>\n",
       "      <td>smallGrLivArea^1.0\\nlargeGrLivArea^1.08\\nExter...</td>\n",
       "      <td>0.547249</td>\n",
       "      <td>0.542233</td>\n",
       "      <td>7.486854e-06</td>\n",
       "    </tr>\n",
       "    <tr>\n",
       "      <th>0</th>\n",
       "      <td>smallGrLivArea^1.0\\nlargeGrLivArea^1.08\\nExter...</td>\n",
       "      <td>0.547254</td>\n",
       "      <td>0.542238</td>\n",
       "      <td>4.774054e-06</td>\n",
       "    </tr>\n",
       "    <tr>\n",
       "      <th>0</th>\n",
       "      <td>smallGrLivArea^1.0\\nlargeGrLivArea^1.08\\nExter...</td>\n",
       "      <td>0.547258</td>\n",
       "      <td>0.542243</td>\n",
       "      <td>4.885335e-06</td>\n",
       "    </tr>\n",
       "    <tr>\n",
       "      <th>0</th>\n",
       "      <td>smallGrLivArea^1.0\\nlargeGrLivArea^1.08\\nExter...</td>\n",
       "      <td>0.547278</td>\n",
       "      <td>0.542263</td>\n",
       "      <td>2.001660e-05</td>\n",
       "    </tr>\n",
       "    <tr>\n",
       "      <th>0</th>\n",
       "      <td>smallGrLivArea^1.0\\nlargeGrLivArea^1.08\\nExter...</td>\n",
       "      <td>0.547280</td>\n",
       "      <td>0.542265</td>\n",
       "      <td>1.925563e-06</td>\n",
       "    </tr>\n",
       "    <tr>\n",
       "      <th>0</th>\n",
       "      <td>smallGrLivArea^1.0\\nlargeGrLivArea^1.08\\nExter...</td>\n",
       "      <td>0.547282</td>\n",
       "      <td>0.542267</td>\n",
       "      <td>2.125262e-06</td>\n",
       "    </tr>\n",
       "    <tr>\n",
       "      <th>0</th>\n",
       "      <td>smallGrLivArea^1.0\\nlargeGrLivArea^1.08\\nExter...</td>\n",
       "      <td>0.547284</td>\n",
       "      <td>0.542268</td>\n",
       "      <td>1.001401e-06</td>\n",
       "    </tr>\n",
       "    <tr>\n",
       "      <th>0</th>\n",
       "      <td>smallGrLivArea^1.0\\nlargeGrLivArea^1.08\\nExter...</td>\n",
       "      <td>0.547288</td>\n",
       "      <td>0.542272</td>\n",
       "      <td>3.956720e-06</td>\n",
       "    </tr>\n",
       "    <tr>\n",
       "      <th>0</th>\n",
       "      <td>smallGrLivArea^1.0\\nlargeGrLivArea^1.08\\nExter...</td>\n",
       "      <td>0.547289</td>\n",
       "      <td>0.542273</td>\n",
       "      <td>1.188382e-06</td>\n",
       "    </tr>\n",
       "    <tr>\n",
       "      <th>0</th>\n",
       "      <td>smallGrLivArea^1.0\\nlargeGrLivArea^1.08\\nExter...</td>\n",
       "      <td>0.564888</td>\n",
       "      <td>0.559985</td>\n",
       "      <td>1.771235e-02</td>\n",
       "    </tr>\n",
       "    <tr>\n",
       "      <th>0</th>\n",
       "      <td>smallGrLivArea^1.0\\nlargeGrLivArea^1.08\\nExter...</td>\n",
       "      <td>0.567871</td>\n",
       "      <td>0.562199</td>\n",
       "      <td>2.214013e-03</td>\n",
       "    </tr>\n",
       "    <tr>\n",
       "      <th>0</th>\n",
       "      <td>smallGrLivArea^1.0\\nlargeGrLivArea^1.08\\nExter...</td>\n",
       "      <td>0.567873</td>\n",
       "      <td>0.562201</td>\n",
       "      <td>1.471635e-06</td>\n",
       "    </tr>\n",
       "    <tr>\n",
       "      <th>0</th>\n",
       "      <td>smallGrLivArea^1.0\\nlargeGrLivArea^1.08\\nExter...</td>\n",
       "      <td>0.597857</td>\n",
       "      <td>0.590891</td>\n",
       "      <td>2.869009e-02</td>\n",
       "    </tr>\n",
       "    <tr>\n",
       "      <th>0</th>\n",
       "      <td>smallGrLivArea^1.0\\nlargeGrLivArea^1.08\\nExter...</td>\n",
       "      <td>0.597860</td>\n",
       "      <td>0.590894</td>\n",
       "      <td>2.836968e-06</td>\n",
       "    </tr>\n",
       "    <tr>\n",
       "      <th>0</th>\n",
       "      <td>smallGrLivArea^1.0\\nlargeGrLivArea^1.08\\nExter...</td>\n",
       "      <td>0.597860</td>\n",
       "      <td>0.590895</td>\n",
       "      <td>9.145160e-07</td>\n",
       "    </tr>\n",
       "    <tr>\n",
       "      <th>0</th>\n",
       "      <td>smallGrLivArea^1.0\\nlargeGrLivArea^1.08\\nExter...</td>\n",
       "      <td>0.597863</td>\n",
       "      <td>0.590897</td>\n",
       "      <td>1.993753e-06</td>\n",
       "    </tr>\n",
       "    <tr>\n",
       "      <th>0</th>\n",
       "      <td>smallGrLivArea^1.0\\nlargeGrLivArea^1.08\\nExter...</td>\n",
       "      <td>0.597866</td>\n",
       "      <td>0.590900</td>\n",
       "      <td>3.281160e-06</td>\n",
       "    </tr>\n",
       "    <tr>\n",
       "      <th>0</th>\n",
       "      <td>smallGrLivArea^1.0\\nlargeGrLivArea^1.08\\nExter...</td>\n",
       "      <td>0.597866</td>\n",
       "      <td>0.590900</td>\n",
       "      <td>1.670919e-08</td>\n",
       "    </tr>\n",
       "    <tr>\n",
       "      <th>0</th>\n",
       "      <td>smallGrLivArea^1.0\\nlargeGrLivArea^1.08\\nExter...</td>\n",
       "      <td>0.599638</td>\n",
       "      <td>0.591159</td>\n",
       "      <td>2.588323e-04</td>\n",
       "    </tr>\n",
       "    <tr>\n",
       "      <th>0</th>\n",
       "      <td>smallGrLivArea^1.0\\nlargeGrLivArea^1.08\\nExter...</td>\n",
       "      <td>0.599639</td>\n",
       "      <td>0.591159</td>\n",
       "      <td>2.887303e-08</td>\n",
       "    </tr>\n",
       "    <tr>\n",
       "      <th>0</th>\n",
       "      <td>smallGrLivArea^1.0\\nlargeGrLivArea^1.08\\nExter...</td>\n",
       "      <td>0.605742</td>\n",
       "      <td>0.596878</td>\n",
       "      <td>5.718836e-03</td>\n",
       "    </tr>\n",
       "  </tbody>\n",
       "</table>\n",
       "</div>"
      ],
      "text/plain": [
       "                                            features  train_score  test_score  \\\n",
       "0            smallGrLivArea^1.0\\nlargeGrLivArea^1.08     0.546808    0.541780   \n",
       "0  smallGrLivArea^1.0\\nlargeGrLivArea^1.08\\nExter...     0.546914    0.541890   \n",
       "0  smallGrLivArea^1.0\\nlargeGrLivArea^1.08\\nExter...     0.546938    0.541914   \n",
       "0  smallGrLivArea^1.0\\nlargeGrLivArea^1.08\\nExter...     0.546978    0.541955   \n",
       "0  smallGrLivArea^1.0\\nlargeGrLivArea^1.08\\nExter...     0.547048    0.542027   \n",
       "0  smallGrLivArea^1.0\\nlargeGrLivArea^1.08\\nExter...     0.547104    0.542085   \n",
       "0  smallGrLivArea^1.0\\nlargeGrLivArea^1.08\\nExter...     0.547123    0.542104   \n",
       "0  smallGrLivArea^1.0\\nlargeGrLivArea^1.08\\nExter...     0.547142    0.542123   \n",
       "0  smallGrLivArea^1.0\\nlargeGrLivArea^1.08\\nExter...     0.547207    0.542189   \n",
       "0  smallGrLivArea^1.0\\nlargeGrLivArea^1.08\\nExter...     0.547233    0.542216   \n",
       "0  smallGrLivArea^1.0\\nlargeGrLivArea^1.08\\nExter...     0.547242    0.542226   \n",
       "0  smallGrLivArea^1.0\\nlargeGrLivArea^1.08\\nExter...     0.547249    0.542233   \n",
       "0  smallGrLivArea^1.0\\nlargeGrLivArea^1.08\\nExter...     0.547254    0.542238   \n",
       "0  smallGrLivArea^1.0\\nlargeGrLivArea^1.08\\nExter...     0.547258    0.542243   \n",
       "0  smallGrLivArea^1.0\\nlargeGrLivArea^1.08\\nExter...     0.547278    0.542263   \n",
       "0  smallGrLivArea^1.0\\nlargeGrLivArea^1.08\\nExter...     0.547280    0.542265   \n",
       "0  smallGrLivArea^1.0\\nlargeGrLivArea^1.08\\nExter...     0.547282    0.542267   \n",
       "0  smallGrLivArea^1.0\\nlargeGrLivArea^1.08\\nExter...     0.547284    0.542268   \n",
       "0  smallGrLivArea^1.0\\nlargeGrLivArea^1.08\\nExter...     0.547288    0.542272   \n",
       "0  smallGrLivArea^1.0\\nlargeGrLivArea^1.08\\nExter...     0.547289    0.542273   \n",
       "0  smallGrLivArea^1.0\\nlargeGrLivArea^1.08\\nExter...     0.564888    0.559985   \n",
       "0  smallGrLivArea^1.0\\nlargeGrLivArea^1.08\\nExter...     0.567871    0.562199   \n",
       "0  smallGrLivArea^1.0\\nlargeGrLivArea^1.08\\nExter...     0.567873    0.562201   \n",
       "0  smallGrLivArea^1.0\\nlargeGrLivArea^1.08\\nExter...     0.597857    0.590891   \n",
       "0  smallGrLivArea^1.0\\nlargeGrLivArea^1.08\\nExter...     0.597860    0.590894   \n",
       "0  smallGrLivArea^1.0\\nlargeGrLivArea^1.08\\nExter...     0.597860    0.590895   \n",
       "0  smallGrLivArea^1.0\\nlargeGrLivArea^1.08\\nExter...     0.597863    0.590897   \n",
       "0  smallGrLivArea^1.0\\nlargeGrLivArea^1.08\\nExter...     0.597866    0.590900   \n",
       "0  smallGrLivArea^1.0\\nlargeGrLivArea^1.08\\nExter...     0.597866    0.590900   \n",
       "0  smallGrLivArea^1.0\\nlargeGrLivArea^1.08\\nExter...     0.599638    0.591159   \n",
       "0  smallGrLivArea^1.0\\nlargeGrLivArea^1.08\\nExter...     0.599639    0.591159   \n",
       "0  smallGrLivArea^1.0\\nlargeGrLivArea^1.08\\nExter...     0.605742    0.596878   \n",
       "\n",
       "   test_score_lift  \n",
       "0     0.000000e+00  \n",
       "0     1.102377e-04  \n",
       "0     2.397519e-05  \n",
       "0     4.085977e-05  \n",
       "0     7.214265e-05  \n",
       "0     5.779530e-05  \n",
       "0     1.925254e-05  \n",
       "0     1.953918e-05  \n",
       "0     6.590137e-05  \n",
       "0     2.700382e-05  \n",
       "0     9.114979e-06  \n",
       "0     7.486854e-06  \n",
       "0     4.774054e-06  \n",
       "0     4.885335e-06  \n",
       "0     2.001660e-05  \n",
       "0     1.925563e-06  \n",
       "0     2.125262e-06  \n",
       "0     1.001401e-06  \n",
       "0     3.956720e-06  \n",
       "0     1.188382e-06  \n",
       "0     1.771235e-02  \n",
       "0     2.214013e-03  \n",
       "0     1.471635e-06  \n",
       "0     2.869009e-02  \n",
       "0     2.836968e-06  \n",
       "0     9.145160e-07  \n",
       "0     1.993753e-06  \n",
       "0     3.281160e-06  \n",
       "0     1.670919e-08  \n",
       "0     2.588323e-04  \n",
       "0     2.887303e-08  \n",
       "0     5.718836e-03  "
      ]
     },
     "execution_count": 29,
     "metadata": {},
     "output_type": "execute_result"
    }
   ],
   "source": [
    "modelEvolution"
   ]
  },
  {
   "cell_type": "code",
   "execution_count": 30,
   "id": "94eef889-77c6-43cd-b134-e350054e1efd",
   "metadata": {},
   "outputs": [
    {
     "name": "stdout",
     "output_type": "stream",
     "text": [
      "intercept, coef: -6.526603e+04, dollar importance: -65266.03263554897\n",
      "ExterQual_TA, coef: -7.754783e+04, dollar importance: -49106.110766709986\n",
      "ExterQual_Gd, coef: -6.358977e+04, dollar importance: -20765.26255930501\n",
      "ExterQual_Fa, coef: -6.952102e+04, dollar importance: -808.3839713169567\n",
      "Functional_Typ, coef: 3.054098e+04, dollar importance: 28543.384811909502\n",
      "Functional_Min2, coef: 1.341838e+04, dollar importance: 325.05771479350864\n",
      "Functional_Min1, coef: 1.369673e+04, dollar importance: 278.7125227727908\n",
      "Functional_Mod, coef: 1.499451e+04, dollar importance: 196.14912741542105\n",
      "Functional_Maj2, coef: -1.929451e+04, dollar importance: -28.044344660055526\n",
      "Functional_Sal, coef: -3.974395e+03, dollar importance: -1.925579114092247\n",
      "MSZoning_RL, coef: 3.013576e+04, dollar importance: 23288.050875919864\n",
      "MSZoning_RM, coef: 1.918783e+04, dollar importance: 3160.786449325022\n",
      "MSZoning_RH, coef: 2.952630e+04, dollar importance: 243.1914141672539\n",
      "MSZoning_C (all), coef: 5.694830e+03, dollar importance: 44.14596951853079\n",
      "MSZoning_I (all), coef: 9.772349e+03, dollar importance: 9.46933029543711\n",
      "MSZoning_FV, coef: 1.578745e+02, dollar importance: 7.113530621568147\n",
      "GarageCond_TA, coef: -1.975459e+04, dollar importance: -18070.086297355178\n",
      "GarageCond_nan, coef: -3.147165e+04, dollar importance: -1494.2932543194756\n",
      "GarageCond_Fa, coef: -2.308090e+04, dollar importance: -626.2259250911071\n",
      "GarageCond_Po, coef: -2.350025e+04, dollar importance: -125.2435914927054\n",
      "GarageCond_Gd, coef: -1.364657e+04, dollar importance: -59.50540855607423\n",
      "BsmtFullBath, coef: 1.556134e+04, dollar importance: 15561.335828672385\n",
      "Condition1_Norm, coef: 9.394123e+03, dollar importance: 8110.623727150502\n",
      "Condition1_PosA, coef: 1.713025e+04, dollar importance: 149.39172846442315\n",
      "Condition1_Feedr, coef: -2.509281e+03, dollar importance: -128.86811397773803\n",
      "Condition1_RRAn, coef: 5.195045e+03, dollar importance: 83.06030518857976\n",
      "Condition1_PosN, coef: 5.094471e+03, dollar importance: 78.9840524560119\n",
      "Condition1_RRNn, coef: -1.313682e+04, dollar importance: -50.917915740927455\n",
      "Condition1_RRAe, coef: 2.106839e+03, dollar importance: 15.311328963737374\n",
      "Condition1_RRNe, coef: 4.021525e+03, dollar importance: 5.845239395856698\n",
      "BsmtExposure_No, coef: -1.192713e+04, dollar importance: -7812.735044331734\n",
      "BsmtExposure_Gd, coef: 2.328295e+04, dollar importance: 2289.941311306905\n",
      "BsmtExposure_nan, coef: -2.836323e+04, dollar importance: -824.5125050064256\n",
      "BsmtExposure_Mn, coef: -9.425201e+03, dollar importance: -799.1328142861586\n",
      "GarageType_Attchd, coef: 1.211556e+04, dollar importance: 7131.977756925152\n",
      "GarageType_Detchd, coef: 8.766895e+03, dollar importance: 2493.298225299334\n",
      "GarageType_nan, coef: 1.410611e+04, dollar importance: 656.0982302515911\n",
      "GarageType_Basment, coef: -4.296419e+03, dollar importance: -37.46876909683354\n",
      "GarageType_CarPort, coef: 2.379677e+03, dollar importance: 9.223555944065858\n",
      "GarageType_BuiltIn, coef: -7.515524e+01, dollar importance: -4.551552873003297\n",
      "BsmtHalfBath^0.7, coef: 6.136446e+03, dollar importance: 6136.446243857182\n",
      "LandContour_Lvl, coef: 6.730017e+03, dollar importance: 6087.665606783776\n",
      "LandContour_HLS, coef: 1.933860e+04, dollar importance: 721.4498857793935\n",
      "LandContour_Low, coef: 1.266741e+04, dollar importance: 270.0417577240621\n",
      "BsmtCond_TA, coef: -6.476371e+03, dollar importance: -5801.748869354171\n",
      "BsmtCond_Fa, coef: -1.290407e+04, dollar importance: -437.63799760983727\n",
      "BsmtCond_Gd, coef: -9.125957e+03, dollar importance: -366.983738533258\n",
      "BsmtCond_nan, coef: 7.668280e+03, dollar importance: 215.48460065355147\n",
      "BsmtCond_Po, coef: -2.877127e+04, dollar importance: -13.93956760528915\n",
      "PavedDrive_Y, coef: 5.394606e+03, dollar importance: 4884.941450967212\n",
      "PavedDrive_P, coef: 1.594865e+03, dollar importance: 37.86258654874674\n",
      "OverallCond, coef: 4.182740e+03, dollar importance: 4182.739600707486\n",
      "Alley_nan, coef: 4.297488e+03, dollar importance: 4010.1563291481098\n",
      "Alley_Pave, coef: -9.342703e+03, dollar importance: -258.0106806660193\n",
      "ExterCond_TA, coef: 3.722410e+03, dollar importance: 3215.6283252329213\n",
      "ExterCond_Gd, coef: 2.185921e+03, dollar importance: 239.34987997392048\n",
      "ExterCond_Fa, coef: -4.992532e+03, dollar importance: -108.84881653873212\n",
      "ExterCond_Po, coef: -2.765248e+04, dollar importance: -13.397517820819969\n",
      "Neighborhood_Somerst, coef: 5.616832e+04, dollar importance: 3156.746856610419\n",
      "Neighborhood_NridgHt, coef: 5.553271e+04, dollar importance: 2690.5383438926447\n",
      "Neighborhood_NAmes, coef: -1.069123e+04, dollar importance: -1673.094160561073\n",
      "Neighborhood_NoRidge, coef: 5.107334e+04, dollar importance: 1336.2210617213907\n",
      "Neighborhood_Edwards, coef: -2.034780e+04, dollar importance: -1271.737226388195\n",
      "Neighborhood_OldTown, coef: -1.232273e+04, dollar importance: -1020.9241698814218\n",
      "Neighborhood_CollgCr, coef: 7.983639e+03, dollar importance: 731.0599402751184\n",
      "Neighborhood_StoneBr, coef: 5.270784e+04, dollar importance: 689.4920378926331\n",
      "Neighborhood_Timber, coef: 2.030852e+04, dollar importance: 482.130584454986\n",
      "Neighborhood_SWISU, coef: -2.157731e+04, dollar importance: -355.44010270841085\n",
      "Neighborhood_MeadowV, coef: -2.670697e+04, dollar importance: -349.36442567465804\n",
      "Neighborhood_Gilbert, coef: 5.385129e+03, dollar importance: 302.6525870952612\n",
      "Neighborhood_Sawyer, coef: -5.007910e+03, dollar importance: -266.89442473626076\n",
      "Neighborhood_Crawfor, coef: 6.507915e+03, dollar importance: 252.24475573976255\n",
      "Neighborhood_IDOTRR, coef: -7.394673e+03, dollar importance: -222.12679880599515\n",
      "Neighborhood_NWAmes, coef: 2.851641e+03, dollar importance: 134.016093954809\n",
      "Neighborhood_BrkSide, coef: -2.866801e+03, dollar importance: -123.61689573271032\n",
      "Neighborhood_Veenker, coef: 1.286033e+04, dollar importance: 118.38486584422738\n",
      "Neighborhood_BrDale, coef: -1.007520e+04, dollar importance: -112.27209145675114\n",
      "Neighborhood_GrnHill, coef: 1.152993e+05, dollar importance: 111.72408868471678\n",
      "Neighborhood_Mitchel, coef: 2.199888e+03, dollar importance: 90.59617205999325\n",
      "Neighborhood_ClearCr, coef: -2.398570e+03, dollar importance: -37.187137011652375\n",
      "Neighborhood_SawyerW, coef: -6.665236e+02, dollar importance: -26.48010385330953\n",
      "Neighborhood_Greens, coef: -7.250288e+03, dollar importance: -21.0764192900696\n",
      "Neighborhood_Blueste, coef: 2.509944e+03, dollar importance: 9.728465614159903\n",
      "Neighborhood_Landmrk, coef: -1.007241e+04, dollar importance: -4.880042908615394\n",
      "Neighborhood_NPkVill, coef: 2.633569e+02, dollar importance: 1.913930972145047\n",
      "HeatingQC_TA, coef: -9.456742e+03, dollar importance: -2826.9428857344456\n",
      "HeatingQC_Gd, coef: -5.207872e+03, dollar importance: -857.8859080746874\n",
      "HeatingQC_Fa, coef: -7.816567e+03, dollar importance: -280.24514047237744\n",
      "HeatingQC_Po, coef: -1.218695e+04, dollar importance: -5.9045313202624445\n",
      "SaleCondition_Normal, coef: 2.462957e+03, dollar importance: 2309.02200295422\n",
      "SaleCondition_Partial, coef: 2.014970e+04, dollar importance: 605.2720766932541\n",
      "SaleCondition_Family, coef: -2.364538e+04, dollar importance: -183.29754743601774\n",
      "SaleCondition_AdjLand, coef: -5.872456e+04, dollar importance: -28.451823622899134\n",
      "SaleCondition_Alloca, coef: -1.422420e+04, dollar importance: -13.78313652764741\n",
      "RoofStyle_Hip, coef: 8.746282e+03, dollar importance: 1576.3647938725514\n",
      "RoofStyle_Gable, coef: 8.267183e+02, dollar importance: 660.4934780630866\n",
      "RoofStyle_Mansard, coef: -2.921045e+04, dollar importance: -113.21881713107885\n",
      "RoofStyle_Gambrel, coef: -8.041189e+03, dollar importance: -66.23072450445306\n",
      "RoofStyle_Shed, coef: 2.161059e+04, dollar importance: 41.88098413561438\n",
      "MasVnrType_None, coef: 2.377389e+03, dollar importance: 1439.7945093415233\n",
      "MasVnrType_BrkFace, coef: 3.792645e+03, dollar importance: 1176.0140406587664\n",
      "MasVnrType_Stone, coef: 8.394669e+03, dollar importance: 597.8761521100188\n",
      "MasVnrType_nan, coef: 7.185849e+03, dollar importance: 45.259707714446435\n",
      "LotShape_Reg, coef: -1.651565e+03, dollar importance: -1049.8319136841208\n",
      "LotShape_IR2, coef: 6.072173e+03, dollar importance: 182.400555379076\n",
      "LotShape_IR3, coef: 6.264828e+03, dollar importance: 36.423417511753755\n",
      "ISUDistance, coef: 8.001375e+02, dollar importance: 800.1375346267126\n",
      "Fence_nan, coef: -8.305611e+02, dollar importance: -664.7708325357171\n",
      "Fence_MnPrv, coef: -1.040412e+03, dollar importance: -116.94553696784185\n",
      "Fence_GdWo, coef: 2.102929e+03, dollar importance: 79.47116561766464\n",
      "Fence_MnWw, coef: -1.264868e+04, dollar importance: -49.02590192418693\n",
      "LotConfig_Inside, coef: -8.575801e+02, dollar importance: -625.7342917173299\n",
      "LotConfig_CulDSac, coef: 6.470024e+03, dollar importance: 401.24180708428815\n",
      "LotConfig_FR2, coef: -9.107257e+03, dollar importance: -255.92097920979495\n",
      "LotConfig_FR3, coef: -8.123054e+03, dollar importance: -47.227056430367824\n",
      "Electrical_SBrkr, coef: 5.162347e+02, dollar importance: 473.7153526590374\n",
      "Electrical_FuseF, coef: -5.306737e+02, dollar importance: -7.199062072805057\n",
      "Electrical_nan, coef: 1.078883e+04, dollar importance: 5.227146373228579\n",
      "Electrical_FuseP, coef: 3.736052e+02, dollar importance: 0.9050513170954617\n",
      "CentralAir_Y, coef: -2.484391e+02, dollar importance: -232.79131213282486\n",
      "smallGrLivArea^1.0, coef: 7.017307e+01, dollar importance: 70.17306837250977\n",
      "LandSlope_Sev, coef: -1.097731e+04, dollar importance: -63.82159288206391\n",
      "LandSlope_Mod, coef: -3.126085e+02, dollar importance: -13.025354671133714\n",
      "ScreenPorch, coef: 5.856694e+01, dollar importance: 58.56693841809101\n",
      "largeGrLivArea^1.08, coef: 3.955810e+01, dollar importance: 39.55809838572831\n",
      "PoolArea, coef: -3.185583e+01, dollar importance: -31.85583307734214\n",
      "LowQualFinSF, coef: -2.659148e+01, dollar importance: -26.59148047434246\n",
      "EnclosedPorch, coef: 2.539200e+00, dollar importance: 2.5391995593945467\n",
      "BsmtFinSF2, coef: 1.540853e+00, dollar importance: 1.5408527751715155\n",
      "KitchenAbvGr_invbc_l0.02_m-0.32_b13.92, coef: 7.066751e-01, dollar importance: 0.7066750777157722\n",
      "YrSold_invbc_l0.02_m-0.0_b18.25, coef: -1.450938e-03, dollar importance: -0.0014509383832270399\n"
     ]
    }
   ],
   "source": [
    "linmodel = lm.LinearRegression()\n",
    "linmodel.fit(xTrain,salesPrice)\n",
    "averageValues = [xTrain[col].mean() if col in relatedDummiesDictionary.keys() else 1 for col in xTrain.columns]\n",
    "fitValues = list(linmodel.coef_)\n",
    "features = list(xTrain.columns)\n",
    "modelDescription = pd.DataFrame({\"features\":features,\n",
    "                                \"fitValues\":fitValues,\n",
    "                                \"averageValues\":averageValues}\n",
    "                                ,columns=[\"features\",\"fitValues\",\"averageValues\"])\n",
    "modelDescription[\"dollarImportance\"] = modelDescription[\"fitValues\"] * modelDescription[\"averageValues\"]\n",
    "modelDescriptionSorted = modelDescription.sort_values(by=\"dollarImportance\",key=abs,ascending=False)\n",
    "\n",
    "interceptRow = pd.DataFrame({\"features\":[\"intercept\"],\n",
    "                            \"fitValues\":[linmodel.intercept_],\n",
    "                            \"averageValues\":[linmodel.intercept_],\n",
    "                            \"dollarImportance\":[linmodel.intercept_]}\n",
    "                           ,columns=[\"features\",\"fitValues\",\"averageValues\",\"dollarImportance\"])\n",
    "modelDescriptionSorted = pd.concat([interceptRow,modelDescriptionSorted],axis=0)\n",
    "\n",
    "alreadyListed = []\n",
    "featureNames = list(modelDescriptionSorted[\"features\"])\n",
    "for rowindex in range(modelDescriptionSorted.shape[0]):\n",
    "    featureName = modelDescriptionSorted.iloc[rowindex,0]\n",
    "    if featureName not in alreadyListed:\n",
    "        modelValue = \"{:e}\".format(modelDescriptionSorted.iloc[rowindex,1])\n",
    "        dollarImportance = modelDescriptionSorted.iloc[rowindex,3] \n",
    "        print(f'{featureName}, coef: {modelValue}, dollar importance: {dollarImportance}')\n",
    "        alreadyListed.append(featureName)\n",
    "        if featureName in relatedDummiesDictionary.keys():\n",
    "            relatedDummies = relatedDummiesDictionary[featureName]\n",
    "            for pdni,potentialDummyName in enumerate(featureNames):\n",
    "                if ((potentialDummyName in relatedDummies) and (potentialDummyName not in alreadyListed)):\n",
    "                    dummyName = modelDescriptionSorted.iloc[pdni,0]\n",
    "                    modelValue = \"{:e}\".format(modelDescriptionSorted.iloc[pdni,1])\n",
    "                    dollarImportance = modelDescriptionSorted.iloc[pdni,3] \n",
    "                    print(f'{dummyName}, coef: {modelValue}, dollar importance: {dollarImportance}')\n",
    "                    alreadyListed.append(dummyName)"
   ]
  },
  {
   "cell_type": "markdown",
   "id": "6ac1298b-3d33-465b-a337-9a3495cb5352",
   "metadata": {},
   "source": [
    "## Random Forest"
   ]
  },
  {
   "cell_type": "code",
   "execution_count": 31,
   "id": "c0456c23-ab12-4759-840d-fafc92cb57ea",
   "metadata": {},
   "outputs": [
    {
     "name": "stderr",
     "output_type": "stream",
     "text": [
      "/Users/garysimmons/opt/anaconda3/lib/python3.8/site-packages/pandas/core/frame.py:4308: SettingWithCopyWarning: \n",
      "A value is trying to be set on a copy of a slice from a DataFrame\n",
      "\n",
      "See the caveats in the documentation: https://pandas.pydata.org/pandas-docs/stable/user_guide/indexing.html#returning-a-view-versus-a-copy\n",
      "  return super().drop(\n",
      "../util/util.py:51: SettingWithCopyWarning: \n",
      "A value is trying to be set on a copy of a slice from a DataFrame.\n",
      "Try using .loc[row_indexer,col_indexer] = value instead\n",
      "\n",
      "See the caveats in the documentation: https://pandas.pydata.org/pandas-docs/stable/user_guide/indexing.html#returning-a-view-versus-a-copy\n",
      "  df[col] = df[col].fillna(trainNanReplacementValuesDictionary[str(col)])\n"
     ]
    }
   ],
   "source": [
    "housingTrainNumerical = housingTrainWithDummies.select_dtypes(include=['uint8','int64','float64'])\n",
    "housingTrainNumerical.drop(housingTrainNumerical.filter(regex=\"Unname\"),axis=1, inplace=True)\n",
    "housingTrainNumerical = util.replaceNansWithTrainingDataValues(housingTrainNumerical)"
   ]
  },
  {
   "cell_type": "code",
   "execution_count": 32,
   "id": "fc2448c7-1e70-409a-a606-ab7e895c1eb2",
   "metadata": {},
   "outputs": [],
   "source": [
    "treeSalesPrice = housingTrainNumerical[\"SalePrice\"]\n",
    "treeXTrain = housingTrainNumerical.drop([\"SalePrice\"],axis=1)\n",
    "regr = RandomForestRegressor()\n",
    "params = {'n_estimators': 1000, 'max_depth': 20, 'max_features': None}"
   ]
  },
  {
   "cell_type": "code",
   "execution_count": 33,
   "id": "ba20d3e1-d316-4356-8430-c8fc2451717f",
   "metadata": {},
   "outputs": [],
   "source": [
    "try:\n",
    "    params[\"n_estimators\"]\n",
    "except BaseException:\n",
    "    bestScore = 0.0\n",
    "    nValues = [100,500,1000]\n",
    "    for n in nValues:\n",
    "        regr = RandomForestRegressor(n_estimators = n)\n",
    "        results = cross_validate(regr,treeXTrain,treeSalesPrice)\n",
    "        if np.mean(results[\"test_score\"]) > bestScore:\n",
    "            bestScore = np.mean(results[\"test_score\"])\n",
    "            params[\"n_estimators\"] = n\n"
   ]
  },
  {
   "cell_type": "code",
   "execution_count": 34,
   "id": "e910ac52-145f-4176-b713-a402ff5cf5a1",
   "metadata": {},
   "outputs": [],
   "source": [
    "try:\n",
    "    params[\"max_depth\"]\n",
    "except BaseException:\n",
    "    bestScore = 0.0\n",
    "    depthValues = [10,20,None]\n",
    "    for depth in depthValues:\n",
    "        regr = RandomForestRegressor(n_estimators = params[\"n_estimators\"],\n",
    "                                    max_depth = depth)\n",
    "        results = cross_validate(regr,treeXTrain,treeSalesPrice)\n",
    "        if np.mean(results[\"test_score\"]) > bestScore:\n",
    "            bestScore = np.mean(results[\"test_score\"])\n",
    "            params[\"max_depth\"] = depth"
   ]
  },
  {
   "cell_type": "code",
   "execution_count": 35,
   "id": "3e53f88a-2b5b-4a87-9296-505922b806fa",
   "metadata": {},
   "outputs": [],
   "source": [
    "try:\n",
    "    params[\"max_features\"]\n",
    "except BaseException:\n",
    "    bestScore = 0.0\n",
    "    nFeatureValues = ['sqrt','log2',None]\n",
    "    for nFeatures in nFeatureValues:\n",
    "        regr = RandomForestRegressor(n_estimators = params[\"n_estimators\"],\n",
    "                                    max_depth = params[\"max_depth\"],\n",
    "                                    max_features = nFeatures)\n",
    "        results = cross_validate(regr,treeXTrain,treeSalesPrice)\n",
    "        if np.mean(results[\"test_score\"]) > bestScore:\n",
    "            bestScore = np.mean(results[\"test_score\"])\n",
    "            params[\"max_features\"] = nFeatures"
   ]
  },
  {
   "cell_type": "code",
   "execution_count": 36,
   "id": "83f4299d-b85d-48b2-9a21-f5eb5b19af80",
   "metadata": {},
   "outputs": [
    {
     "name": "stdout",
     "output_type": "stream",
     "text": [
      "{'n_estimators': 1000, 'max_depth': 20, 'max_features': None}\n"
     ]
    },
    {
     "data": {
      "text/plain": [
       "0.9841868583473519"
      ]
     },
     "execution_count": 36,
     "metadata": {},
     "output_type": "execute_result"
    }
   ],
   "source": [
    "print(params)\n",
    "regr = RandomForestRegressor(n_estimators=params[\"n_estimators\"],\n",
    "                            max_depth = params[\"max_depth\"],\n",
    "                            max_features = params[\"max_features\"])\n",
    "regr.fit(treeXTrain,treeSalesPrice)\n",
    "regr.score(treeXTrain,treeSalesPrice)"
   ]
  },
  {
   "cell_type": "code",
   "execution_count": 37,
   "id": "ff271adf-9c09-4e90-b2c7-4c2cf327995a",
   "metadata": {},
   "outputs": [
    {
     "data": {
      "image/png": "[encoded data removed]",
      "text/plain": [
       "<Figure size 432x288 with 1 Axes>"
      ]
     },
     "metadata": {
      "needs_background": "light"
     },
     "output_type": "display_data"
    }
   ],
   "source": [
    "featureImportance = pd.DataFrame({\"feature\":treeXTrain.columns,\n",
    "                                 \"featureImportance\":regr.feature_importances_},\n",
    "                                columns = [\"feature\",\"featureImportance\"])\n",
    "featureImportanceSorted = featureImportance.sort_values(by=\"featureImportance\")\n",
    "topFeatureImportances = featureImportanceSorted.tail(10)\n",
    "plt.figure()\n",
    "plt.barh(topFeatureImportances[\"feature\"], topFeatureImportances[\"featureImportance\"])\n",
    "plt.xlabel(\"Importance\")\n",
    "plt.ylabel(\"Feature\")\n",
    "plt.title(\"Top 10 Feature Importances\")\n",
    "plt.savefig(\"../images/TreeFeatureImportances.jpg\")"
   ]
  },
  {
   "cell_type": "markdown",
   "id": "6d275089-efe9-4501-9062-3530b59231a6",
   "metadata": {},
   "source": [
    "# Testing"
   ]
  },
  {
   "cell_type": "code",
   "execution_count": 38,
   "id": "2db0677c-faf0-4a17-aa25-7ecf0a56b188",
   "metadata": {},
   "outputs": [],
   "source": [
    "if ((\"ISUDistance\" not in housingTestWithoutDummies.columns) or \n",
    "    (\"ISUDistance\" not in housingTestWithDummies.columns)):\n",
    "    housingTestWithoutDummies = util.returnDFWithISUDistance(housingTestWithoutDummies,True)\n",
    "    housingTestWithDummies[\"ISUDistance\"] = housingTestWithoutDummies[\"ISUDistance\"]\n",
    "    housingTestWithDummies.to_csv('../data/housingTestWithDummies.csv')\n",
    "    housingTestWithoutDummies.to_csv('../data/housingTestWithoutDummies.csv')"
   ]
  },
  {
   "cell_type": "code",
   "execution_count": 39,
   "id": "a832baa5-30d7-4f37-b45a-c480906d6643",
   "metadata": {},
   "outputs": [
    {
     "name": "stderr",
     "output_type": "stream",
     "text": [
      "/Users/garysimmons/opt/anaconda3/lib/python3.8/site-packages/pandas/core/frame.py:4308: SettingWithCopyWarning: \n",
      "A value is trying to be set on a copy of a slice from a DataFrame\n",
      "\n",
      "See the caveats in the documentation: https://pandas.pydata.org/pandas-docs/stable/user_guide/indexing.html#returning-a-view-versus-a-copy\n",
      "  return super().drop(\n",
      "../util/util.py:51: SettingWithCopyWarning: \n",
      "A value is trying to be set on a copy of a slice from a DataFrame.\n",
      "Try using .loc[row_indexer,col_indexer] = value instead\n",
      "\n",
      "See the caveats in the documentation: https://pandas.pydata.org/pandas-docs/stable/user_guide/indexing.html#returning-a-view-versus-a-copy\n",
      "  df[col] = df[col].fillna(trainNanReplacementValuesDictionary[str(col)])\n"
     ]
    }
   ],
   "source": [
    "housingTestNumerical = housingTestWithDummies.select_dtypes(include=['uint8','int64','float64'])\n",
    "housingTestNumerical.drop(housingTestNumerical.filter(regex=\"Unname\"),axis=1, inplace=True)\n",
    "housingTestNumerical = util.replaceNansWithTrainingDataValues(housingTestNumerical)"
   ]
  },
  {
   "cell_type": "code",
   "execution_count": 40,
   "id": "0bd1e1f4-91f0-413b-821f-6fbc83bdb71c",
   "metadata": {},
   "outputs": [],
   "source": [
    "housingTestLinear = housingTestNumerical.copy()\n",
    "housingTestForest = housingTestNumerical.copy()"
   ]
  },
  {
   "cell_type": "markdown",
   "id": "38cf82ad-5bae-4e4f-909f-2b5429b6abff",
   "metadata": {},
   "source": [
    "## Linear Regression"
   ]
  },
  {
   "cell_type": "code",
   "execution_count": 41,
   "id": "6759241f-edfd-4d5d-8579-850f3b2b3863",
   "metadata": {},
   "outputs": [],
   "source": [
    "housingTestLinear = pd.merge(housingTestLinear,housingTestWithDummies[[\"PID\",\"Neighborhood\"]],how='left', left_on='PID', right_on='PID')\n",
    "joint_Nbr_quantile = pd.merge(housingTestLinear[['Neighborhood']], Nbr_quantile, how='left', left_on='Neighborhood', right_index=True)\n",
    "smaller_home = housingTestLinear.GrLivArea < joint_Nbr_quantile.GrLivArea\n",
    "\n",
    "small = []\n",
    "large = []\n",
    "for i,isSmall in enumerate(smaller_home):\n",
    "    if isSmall:\n",
    "        small.append(housingTestLinear.GrLivArea[i])\n",
    "        large.append(0)\n",
    "    else:\n",
    "        small.append(0)\n",
    "        large.append(housingTestLinear.GrLivArea[i])\n",
    "\n",
    "housingTestLinear[\"smallGrLivArea^1.0\"] = np.array(small) ** 1.0\n",
    "\n",
    "housingTestLinear[\"largeGrLivArea^1.08\"] = np.array(large) ** 1.08"
   ]
  },
  {
   "cell_type": "code",
   "execution_count": 42,
   "id": "2003c1da-ad60-4f1d-a7bb-6cee2d430c30",
   "metadata": {},
   "outputs": [
    {
     "name": "stderr",
     "output_type": "stream",
     "text": [
      "<ipython-input-42-b7ec27f1c846>:5: SettingWithCopyWarning: \n",
      "A value is trying to be set on a copy of a slice from a DataFrame.\n",
      "Try using .loc[row_indexer,col_indexer] = value instead\n",
      "\n",
      "See the caveats in the documentation: https://pandas.pydata.org/pandas-docs/stable/user_guide/indexing.html#returning-a-view-versus-a-copy\n",
      "  xTest[col] = housingTestLinear[col]\n",
      "<ipython-input-42-b7ec27f1c846>:7: SettingWithCopyWarning: \n",
      "A value is trying to be set on a copy of a slice from a DataFrame.\n",
      "Try using .loc[row_indexer,col_indexer] = value instead\n",
      "\n",
      "See the caveats in the documentation: https://pandas.pydata.org/pandas-docs/stable/user_guide/indexing.html#returning-a-view-versus-a-copy\n",
      "  xTest[col] = util.InvBoxCox(housingTestLinear['KitchenAbvGr'],\n",
      "<ipython-input-42-b7ec27f1c846>:10: SettingWithCopyWarning: \n",
      "A value is trying to be set on a copy of a slice from a DataFrame.\n",
      "Try using .loc[row_indexer,col_indexer] = value instead\n",
      "\n",
      "See the caveats in the documentation: https://pandas.pydata.org/pandas-docs/stable/user_guide/indexing.html#returning-a-view-versus-a-copy\n",
      "  xTest[col] = housingTestLinear['BsmtHalfBath'] ** 0.7\n",
      "<ipython-input-42-b7ec27f1c846>:12: SettingWithCopyWarning: \n",
      "A value is trying to be set on a copy of a slice from a DataFrame.\n",
      "Try using .loc[row_indexer,col_indexer] = value instead\n",
      "\n",
      "See the caveats in the documentation: https://pandas.pydata.org/pandas-docs/stable/user_guide/indexing.html#returning-a-view-versus-a-copy\n",
      "  xTest[col] = util.InvBoxCox(housingTestLinear['YrSold'],\n"
     ]
    }
   ],
   "source": [
    "xTest = housingTestLinear[[\"smallGrLivArea^1.0\",\"largeGrLivArea^1.08\"]]\n",
    "xTrainColumns = xTrain.columns\n",
    "for col in xTrainColumns:\n",
    "    if (col in housingTestLinear.columns):\n",
    "        xTest[col] = housingTestLinear[col]\n",
    "    elif str(col) == 'KitchenAbvGr_invbc_l0.02_m-0.32_b13.92':\n",
    "        xTest[col] = util.InvBoxCox(housingTestLinear['KitchenAbvGr'],\n",
    "                                   0.02,-0.32,13.92)\n",
    "    elif str(col) == 'BsmtHalfBath^0.7':\n",
    "        xTest[col] = housingTestLinear['BsmtHalfBath'] ** 0.7\n",
    "    elif str(col) == 'YrSold_invbc_l0.02_m-0.0_b18.25':\n",
    "        xTest[col] = util.InvBoxCox(housingTestLinear['YrSold'],\n",
    "                                   0.02,-0.0,18.25) \n",
    "    else:\n",
    "        print(f'{col} not in housingTestLinear')\n",
    "        break"
   ]
  },
  {
   "cell_type": "code",
   "execution_count": 43,
   "id": "c179f087-050b-4fe6-8794-39664182ed06",
   "metadata": {},
   "outputs": [
    {
     "name": "stdout",
     "output_type": "stream",
     "text": [
      "training mean sqauared error is 702320639.0471724\n",
      "testing mean squared error is 638480078.5366304\n"
     ]
    }
   ],
   "source": [
    "linearTestSalesPrice = housingTestLinear['SalePrice']\n",
    "\n",
    "linmodel = lm.LinearRegression()\n",
    "linmodel.fit(xTrain,salesPrice)\n",
    "\n",
    "linearTrainActual = salesPrice\n",
    "linearTrainPredict = linmodel.predict(xTrain)\n",
    "linearTestActual = linearTestSalesPrice\n",
    "linearTestPredict = linmodel.predict(xTest)\n",
    "\n",
    "linearTrainMSE = metrics.mean_squared_error(linearTrainActual,linearTrainPredict)\n",
    "linearTestMSE = metrics.mean_squared_error(linearTestActual,linearTestPredict)\n",
    "\n",
    "print(f'training mean sqauared error is {linearTrainMSE}')\n",
    "print(f'testing mean squared error is {linearTestMSE}')"
   ]
  },
  {
   "cell_type": "markdown",
   "id": "fa4c93cd-bf75-40ac-b155-468334811ba4",
   "metadata": {},
   "source": [
    "## Random Forest"
   ]
  },
  {
   "cell_type": "code",
   "execution_count": null,
   "id": "6833900f-c992-42bd-aa2a-6d0e4b976b1c",
   "metadata": {},
   "outputs": [],
   "source": [
    "yTestForest = housingTestForest[\"SalePrice\"]\n",
    "XTestForest = housingTestForest.drop([\"SalePrice\"],axis=1)\n",
    "\n",
    "regr = RandomForestRegressor()\n",
    "params = {'n_estimators': 1000, 'max_depth': 20, 'max_features': None}\n",
    "regr = RandomForestRegressor(n_estimators=params[\"n_estimators\"],\n",
    "                            max_depth = params[\"max_depth\"],\n",
    "                            max_features = params[\"max_features\"])\n",
    "regr.fit(treeXTrain,treeSalesPrice)\n",
    "\n",
    "treeTrainActual = treeSalesPrice\n",
    "treeTrainPredict = regr.predict(treeXTrain)\n",
    "treeTestActual = yTestForest\n",
    "treeTestPredict = regr.predict(XTestForest)\n",
    "\n",
    "treeTrainMSE = metrics.mean_squared_error(treeTrainActual,treeTrainPredict)\n",
    "treeTestMSE = metrics.mean_squared_error(treeTestActual,treeTestPredict)\n",
    "\n",
    "print(f'training mean sqauared error is {treeTrainMSE}')\n",
    "print(f'testing mean squared error is {treeTestMSE}')"
   ]
  },
  {
   "cell_type": "code",
   "execution_count": null,
   "id": "46ae4f00-22c6-4a42-ae97-fd929af80f3c",
   "metadata": {},
   "outputs": [],
   "source": [
    "finalScoreSeries = pd.Series({\"linear regression train mse\":linearTrainMSE,\n",
    "          \"linear regression test mse\":linearTestMSE,\n",
    "          \"random forest regression train mse\":treeTrainMSE,\n",
    "          \"random forest regression test mse\":treeTestMSE})\n",
    "finalScoreSeries"
   ]
  },
  {
   "cell_type": "code",
   "execution_count": 46,
   "id": "662a4223-65b5-43f3-b327-c424abc31a5f",
   "metadata": {
    "tags": []
   },
   "outputs": [
    {
     "data": {
      "image/png": "[encoded data removed]",
      "text/plain": [
       "<Figure size 432x288 with 1 Axes>"
      ]
     },
     "metadata": {
      "needs_background": "light"
     },
     "output_type": "display_data"
    }
   ],
   "source": [
    "mseScores = np.array([linearTrainMSE,linearTestMSE,treeTrainMSE,treeTestMSE])\n",
    "plt.figure()\n",
    "plt.barh(finalScoreSeries.index,finalScoreSeries)\n",
    "plt.xlabel(\"MSE\")\n",
    "plt.ylabel(\"Model Type\")\n",
    "plt.title(\"Model MSE scores\")\n",
    "plt.savefig(\"../images/MSEScores.jpg\")"
   ]
  }
 ],
 "metadata": {
  "kernelspec": {
   "display_name": "Python 3",
   "language": "python",
   "name": "python3"
  },
  "language_info": {
   "codemirror_mode": {
    "name": "ipython",
    "version": 3
   },
   "file_extension": ".py",
   "mimetype": "text/x-python",
   "name": "python",
   "nbconvert_exporter": "python",
   "pygments_lexer": "ipython3",
   "version": "3.8.8"
  }
 },
 "nbformat": 4,
 "nbformat_minor": 5
}
