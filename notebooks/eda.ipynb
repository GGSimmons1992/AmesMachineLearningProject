{
 "cells": [
  {
   "cell_type": "code",
   "execution_count": 1,
   "id": "bd8f0eb2-d9b0-43c7-b778-8d53149784aa",
   "metadata": {},
   "outputs": [
    {
     "name": "stderr",
     "output_type": "stream",
     "text": [
      "/Users/garysimmons/opt/anaconda3/lib/python3.8/site-packages/IPython/core/interactiveshell.py:3357: DtypeWarning: Columns (36,40,81,87) have mixed types.Specify dtype option on import or set low_memory=False.\n",
      "  if (await self.run_code(code, result,  async_=asy)):\n"
     ]
    }
   ],
   "source": [
    "import numpy as np\n",
    "import pandas as pd\n",
    "import matplotlib.pyplot as plt\n",
    "import seaborn as sns\n",
    "import scipy.stats as stats\n",
    "from os.path import exists\n",
    "import sklearn.linear_model as lm\n",
    "\n",
    "import sys\n",
    "sys.path.insert(0, \"../util/\")\n",
    "import util as util"
   ]
  },
  {
   "cell_type": "code",
   "execution_count": 2,
   "id": "f73d9261-491a-4ec9-9e30-fe1b4e547417",
   "metadata": {},
   "outputs": [
    {
     "name": "stderr",
     "output_type": "stream",
     "text": [
      "/Users/garysimmons/opt/anaconda3/lib/python3.8/site-packages/IPython/core/interactiveshell.py:3165: DtypeWarning: Columns (36,40,81,87) have mixed types.Specify dtype option on import or set low_memory=False.\n",
      "  has_raised = await self.run_ast_nodes(code_ast.body, cell_name,\n"
     ]
    }
   ],
   "source": [
    "amesHousing = pd.read_csv('../data/Ames_Housing_Price_Data.csv')\n",
    "amesRealEstate = pd.read_csv('../data/Ames_Real_Estate_Data.csv')"
   ]
  },
  {
   "cell_type": "code",
   "execution_count": 3,
   "id": "0d8a0612-3318-4f21-a0a6-83445ddd043a",
   "metadata": {},
   "outputs": [
    {
     "data": {
      "text/html": [
       "<div>\n",
       "<style scoped>\n",
       "    .dataframe tbody tr th:only-of-type {\n",
       "        vertical-align: middle;\n",
       "    }\n",
       "\n",
       "    .dataframe tbody tr th {\n",
       "        vertical-align: top;\n",
       "    }\n",
       "\n",
       "    .dataframe thead th {\n",
       "        text-align: right;\n",
       "    }\n",
       "</style>\n",
       "<table border=\"1\" class=\"dataframe\">\n",
       "  <thead>\n",
       "    <tr style=\"text-align: right;\">\n",
       "      <th></th>\n",
       "      <th>Unnamed: 0</th>\n",
       "      <th>PID</th>\n",
       "      <th>GrLivArea</th>\n",
       "      <th>SalePrice</th>\n",
       "      <th>MSSubClass</th>\n",
       "      <th>MSZoning</th>\n",
       "      <th>LotFrontage</th>\n",
       "      <th>LotArea</th>\n",
       "      <th>Street</th>\n",
       "      <th>Alley</th>\n",
       "      <th>...</th>\n",
       "      <th>ScreenPorch</th>\n",
       "      <th>PoolArea</th>\n",
       "      <th>PoolQC</th>\n",
       "      <th>Fence</th>\n",
       "      <th>MiscFeature</th>\n",
       "      <th>MiscVal</th>\n",
       "      <th>MoSold</th>\n",
       "      <th>YrSold</th>\n",
       "      <th>SaleType</th>\n",
       "      <th>SaleCondition</th>\n",
       "    </tr>\n",
       "  </thead>\n",
       "  <tbody>\n",
       "    <tr>\n",
       "      <th>0</th>\n",
       "      <td>1</td>\n",
       "      <td>909176150</td>\n",
       "      <td>856</td>\n",
       "      <td>126000</td>\n",
       "      <td>30</td>\n",
       "      <td>RL</td>\n",
       "      <td>NaN</td>\n",
       "      <td>7890</td>\n",
       "      <td>Pave</td>\n",
       "      <td>NaN</td>\n",
       "      <td>...</td>\n",
       "      <td>166</td>\n",
       "      <td>0</td>\n",
       "      <td>NaN</td>\n",
       "      <td>NaN</td>\n",
       "      <td>NaN</td>\n",
       "      <td>0</td>\n",
       "      <td>3</td>\n",
       "      <td>2010</td>\n",
       "      <td>WD</td>\n",
       "      <td>Normal</td>\n",
       "    </tr>\n",
       "    <tr>\n",
       "      <th>1</th>\n",
       "      <td>2</td>\n",
       "      <td>905476230</td>\n",
       "      <td>1049</td>\n",
       "      <td>139500</td>\n",
       "      <td>120</td>\n",
       "      <td>RL</td>\n",
       "      <td>42.0</td>\n",
       "      <td>4235</td>\n",
       "      <td>Pave</td>\n",
       "      <td>NaN</td>\n",
       "      <td>...</td>\n",
       "      <td>0</td>\n",
       "      <td>0</td>\n",
       "      <td>NaN</td>\n",
       "      <td>NaN</td>\n",
       "      <td>NaN</td>\n",
       "      <td>0</td>\n",
       "      <td>2</td>\n",
       "      <td>2009</td>\n",
       "      <td>WD</td>\n",
       "      <td>Normal</td>\n",
       "    </tr>\n",
       "    <tr>\n",
       "      <th>2</th>\n",
       "      <td>3</td>\n",
       "      <td>911128020</td>\n",
       "      <td>1001</td>\n",
       "      <td>124900</td>\n",
       "      <td>30</td>\n",
       "      <td>C (all)</td>\n",
       "      <td>60.0</td>\n",
       "      <td>6060</td>\n",
       "      <td>Pave</td>\n",
       "      <td>NaN</td>\n",
       "      <td>...</td>\n",
       "      <td>0</td>\n",
       "      <td>0</td>\n",
       "      <td>NaN</td>\n",
       "      <td>NaN</td>\n",
       "      <td>NaN</td>\n",
       "      <td>0</td>\n",
       "      <td>11</td>\n",
       "      <td>2007</td>\n",
       "      <td>WD</td>\n",
       "      <td>Normal</td>\n",
       "    </tr>\n",
       "    <tr>\n",
       "      <th>3</th>\n",
       "      <td>4</td>\n",
       "      <td>535377150</td>\n",
       "      <td>1039</td>\n",
       "      <td>114000</td>\n",
       "      <td>70</td>\n",
       "      <td>RL</td>\n",
       "      <td>80.0</td>\n",
       "      <td>8146</td>\n",
       "      <td>Pave</td>\n",
       "      <td>NaN</td>\n",
       "      <td>...</td>\n",
       "      <td>111</td>\n",
       "      <td>0</td>\n",
       "      <td>NaN</td>\n",
       "      <td>NaN</td>\n",
       "      <td>NaN</td>\n",
       "      <td>0</td>\n",
       "      <td>5</td>\n",
       "      <td>2009</td>\n",
       "      <td>WD</td>\n",
       "      <td>Normal</td>\n",
       "    </tr>\n",
       "    <tr>\n",
       "      <th>4</th>\n",
       "      <td>5</td>\n",
       "      <td>534177230</td>\n",
       "      <td>1665</td>\n",
       "      <td>227000</td>\n",
       "      <td>60</td>\n",
       "      <td>RL</td>\n",
       "      <td>70.0</td>\n",
       "      <td>8400</td>\n",
       "      <td>Pave</td>\n",
       "      <td>NaN</td>\n",
       "      <td>...</td>\n",
       "      <td>0</td>\n",
       "      <td>0</td>\n",
       "      <td>NaN</td>\n",
       "      <td>NaN</td>\n",
       "      <td>NaN</td>\n",
       "      <td>0</td>\n",
       "      <td>11</td>\n",
       "      <td>2009</td>\n",
       "      <td>WD</td>\n",
       "      <td>Normal</td>\n",
       "    </tr>\n",
       "  </tbody>\n",
       "</table>\n",
       "<p>5 rows × 82 columns</p>\n",
       "</div>"
      ],
      "text/plain": [
       "   Unnamed: 0        PID  GrLivArea  SalePrice  MSSubClass MSZoning  \\\n",
       "0           1  909176150        856     126000          30       RL   \n",
       "1           2  905476230       1049     139500         120       RL   \n",
       "2           3  911128020       1001     124900          30  C (all)   \n",
       "3           4  535377150       1039     114000          70       RL   \n",
       "4           5  534177230       1665     227000          60       RL   \n",
       "\n",
       "   LotFrontage  LotArea Street Alley  ... ScreenPorch PoolArea PoolQC Fence  \\\n",
       "0          NaN     7890   Pave   NaN  ...         166        0    NaN   NaN   \n",
       "1         42.0     4235   Pave   NaN  ...           0        0    NaN   NaN   \n",
       "2         60.0     6060   Pave   NaN  ...           0        0    NaN   NaN   \n",
       "3         80.0     8146   Pave   NaN  ...         111        0    NaN   NaN   \n",
       "4         70.0     8400   Pave   NaN  ...           0        0    NaN   NaN   \n",
       "\n",
       "  MiscFeature MiscVal MoSold YrSold SaleType SaleCondition  \n",
       "0         NaN       0      3   2010      WD         Normal  \n",
       "1         NaN       0      2   2009      WD         Normal  \n",
       "2         NaN       0     11   2007      WD         Normal  \n",
       "3         NaN       0      5   2009      WD         Normal  \n",
       "4         NaN       0     11   2009      WD         Normal  \n",
       "\n",
       "[5 rows x 82 columns]"
      ]
     },
     "execution_count": 3,
     "metadata": {},
     "output_type": "execute_result"
    }
   ],
   "source": [
    "amesHousing.head()"
   ]
  },
  {
   "cell_type": "code",
   "execution_count": 4,
   "id": "4d505829-b1f2-45fe-93ef-094bf7eb8566",
   "metadata": {},
   "outputs": [
    {
     "data": {
      "text/plain": [
       "{'Ex', 'Fa', 'Gd', 'TA'}"
      ]
     },
     "execution_count": 4,
     "metadata": {},
     "output_type": "execute_result"
    }
   ],
   "source": [
    "set(amesHousing[\"ExterQual\"])"
   ]
  },
  {
   "cell_type": "code",
   "execution_count": 5,
   "id": "03274e1e-28b0-477c-aa9d-85fa7572a873",
   "metadata": {},
   "outputs": [
    {
     "data": {
      "text/plain": [
       "{'Maj1', 'Maj2', 'Min1', 'Min2', 'Mod', 'Sal', 'Typ'}"
      ]
     },
     "execution_count": 5,
     "metadata": {},
     "output_type": "execute_result"
    }
   ],
   "source": [
    "set(amesHousing[\"Functional\"])"
   ]
  },
  {
   "cell_type": "code",
   "execution_count": 6,
   "id": "c80dfac7-b1f6-4abf-a4e7-3d8c971d5318",
   "metadata": {},
   "outputs": [
    {
     "data": {
      "text/html": [
       "<div>\n",
       "<style scoped>\n",
       "    .dataframe tbody tr th:only-of-type {\n",
       "        vertical-align: middle;\n",
       "    }\n",
       "\n",
       "    .dataframe tbody tr th {\n",
       "        vertical-align: top;\n",
       "    }\n",
       "\n",
       "    .dataframe thead th {\n",
       "        text-align: right;\n",
       "    }\n",
       "</style>\n",
       "<table border=\"1\" class=\"dataframe\">\n",
       "  <thead>\n",
       "    <tr style=\"text-align: right;\">\n",
       "      <th></th>\n",
       "      <th>MapRefNo</th>\n",
       "      <th>GeoRefNo</th>\n",
       "      <th>Tier</th>\n",
       "      <th>Range</th>\n",
       "      <th>Prop_Addr</th>\n",
       "      <th>ZngCdPr</th>\n",
       "      <th>ZngCdSc</th>\n",
       "      <th>ZngOLPr</th>\n",
       "      <th>ZngOLSc</th>\n",
       "      <th>ClassPr_S</th>\n",
       "      <th>...</th>\n",
       "      <th>PA-Nmbr</th>\n",
       "      <th>PA-PreD</th>\n",
       "      <th>PA-Strt</th>\n",
       "      <th>PA-StSfx</th>\n",
       "      <th>PA-PostD</th>\n",
       "      <th>PA-UnTyp</th>\n",
       "      <th>PA-UntNo</th>\n",
       "      <th>Date</th>\n",
       "      <th>Source</th>\n",
       "      <th>NmbrBRs</th>\n",
       "    </tr>\n",
       "  </thead>\n",
       "  <tbody>\n",
       "    <tr>\n",
       "      <th>0</th>\n",
       "      <td>520400001</td>\n",
       "      <td>520400001</td>\n",
       "      <td>0</td>\n",
       "      <td>0</td>\n",
       "      <td>4599 GEORGE W CARVER AVE</td>\n",
       "      <td>FS-RL</td>\n",
       "      <td>NaN</td>\n",
       "      <td>NaN</td>\n",
       "      <td>NaN</td>\n",
       "      <td>RESIDENTIAL</td>\n",
       "      <td>...</td>\n",
       "      <td>4599.0</td>\n",
       "      <td>NaN</td>\n",
       "      <td>GEORGE W CARVER</td>\n",
       "      <td>AVE</td>\n",
       "      <td>NaN</td>\n",
       "      <td>NaN</td>\n",
       "      <td>NaN</td>\n",
       "      <td>10-Jul-20</td>\n",
       "      <td>Ames City Assessor</td>\n",
       "      <td>NaN</td>\n",
       "    </tr>\n",
       "    <tr>\n",
       "      <th>1</th>\n",
       "      <td>520440010</td>\n",
       "      <td>520440010</td>\n",
       "      <td>0</td>\n",
       "      <td>0</td>\n",
       "      <td>4507 EVEREST  AVE</td>\n",
       "      <td>FS-RL</td>\n",
       "      <td>NaN</td>\n",
       "      <td>NaN</td>\n",
       "      <td>NaN</td>\n",
       "      <td>RESIDENTIAL</td>\n",
       "      <td>...</td>\n",
       "      <td>4507.0</td>\n",
       "      <td>NaN</td>\n",
       "      <td>EVEREST</td>\n",
       "      <td>AVE</td>\n",
       "      <td>NaN</td>\n",
       "      <td>NaN</td>\n",
       "      <td>NaN</td>\n",
       "      <td>10-Jul-20</td>\n",
       "      <td>Ames City Assessor</td>\n",
       "      <td>NaN</td>\n",
       "    </tr>\n",
       "    <tr>\n",
       "      <th>2</th>\n",
       "      <td>520440020</td>\n",
       "      <td>520440020</td>\n",
       "      <td>0</td>\n",
       "      <td>0</td>\n",
       "      <td>4513 EVEREST  AVE</td>\n",
       "      <td>FS-RL</td>\n",
       "      <td>NaN</td>\n",
       "      <td>NaN</td>\n",
       "      <td>NaN</td>\n",
       "      <td>RESIDENTIAL</td>\n",
       "      <td>...</td>\n",
       "      <td>4513.0</td>\n",
       "      <td>NaN</td>\n",
       "      <td>EVEREST</td>\n",
       "      <td>AVE</td>\n",
       "      <td>NaN</td>\n",
       "      <td>NaN</td>\n",
       "      <td>NaN</td>\n",
       "      <td>10-Jul-20</td>\n",
       "      <td>Ames City Assessor</td>\n",
       "      <td>NaN</td>\n",
       "    </tr>\n",
       "    <tr>\n",
       "      <th>3</th>\n",
       "      <td>520445001</td>\n",
       "      <td>520445001</td>\n",
       "      <td>0</td>\n",
       "      <td>0</td>\n",
       "      <td>3449 BARCELOS ST</td>\n",
       "      <td>FS-RL</td>\n",
       "      <td>NaN</td>\n",
       "      <td>NaN</td>\n",
       "      <td>NaN</td>\n",
       "      <td>RESIDENTIAL</td>\n",
       "      <td>...</td>\n",
       "      <td>3449.0</td>\n",
       "      <td>NaN</td>\n",
       "      <td>BARCELOS</td>\n",
       "      <td>ST</td>\n",
       "      <td>NaN</td>\n",
       "      <td>NaN</td>\n",
       "      <td>NaN</td>\n",
       "      <td>10-Jul-20</td>\n",
       "      <td>Ames City Assessor</td>\n",
       "      <td>NaN</td>\n",
       "    </tr>\n",
       "    <tr>\n",
       "      <th>4</th>\n",
       "      <td>520445010</td>\n",
       "      <td>520445010</td>\n",
       "      <td>0</td>\n",
       "      <td>0</td>\n",
       "      <td>4506 EVEREST  AVE</td>\n",
       "      <td>FS-RL</td>\n",
       "      <td>NaN</td>\n",
       "      <td>NaN</td>\n",
       "      <td>NaN</td>\n",
       "      <td>RESIDENTIAL</td>\n",
       "      <td>...</td>\n",
       "      <td>4506.0</td>\n",
       "      <td>NaN</td>\n",
       "      <td>EVEREST</td>\n",
       "      <td>AVE</td>\n",
       "      <td>NaN</td>\n",
       "      <td>NaN</td>\n",
       "      <td>NaN</td>\n",
       "      <td>10-Jul-20</td>\n",
       "      <td>Ames City Assessor</td>\n",
       "      <td>NaN</td>\n",
       "    </tr>\n",
       "  </tbody>\n",
       "</table>\n",
       "<p>5 rows × 91 columns</p>\n",
       "</div>"
      ],
      "text/plain": [
       "    MapRefNo   GeoRefNo  Tier  Range                 Prop_Addr ZngCdPr  \\\n",
       "0  520400001  520400001     0      0  4599 GEORGE W CARVER AVE   FS-RL   \n",
       "1  520440010  520440010     0      0         4507 EVEREST  AVE   FS-RL   \n",
       "2  520440020  520440020     0      0         4513 EVEREST  AVE   FS-RL   \n",
       "3  520445001  520445001     0      0          3449 BARCELOS ST   FS-RL   \n",
       "4  520445010  520445010     0      0         4506 EVEREST  AVE   FS-RL   \n",
       "\n",
       "  ZngCdSc ZngOLPr ZngOLSc    ClassPr_S  ... PA-Nmbr PA-PreD          PA-Strt  \\\n",
       "0     NaN     NaN     NaN  RESIDENTIAL  ...  4599.0     NaN  GEORGE W CARVER   \n",
       "1     NaN     NaN     NaN  RESIDENTIAL  ...  4507.0     NaN          EVEREST   \n",
       "2     NaN     NaN     NaN  RESIDENTIAL  ...  4513.0     NaN          EVEREST   \n",
       "3     NaN     NaN     NaN  RESIDENTIAL  ...  3449.0     NaN         BARCELOS   \n",
       "4     NaN     NaN     NaN  RESIDENTIAL  ...  4506.0     NaN          EVEREST   \n",
       "\n",
       "   PA-StSfx PA-PostD PA-UnTyp PA-UntNo       Date              Source NmbrBRs  \n",
       "0       AVE      NaN      NaN      NaN  10-Jul-20  Ames City Assessor     NaN  \n",
       "1       AVE      NaN      NaN      NaN  10-Jul-20  Ames City Assessor     NaN  \n",
       "2       AVE      NaN      NaN      NaN  10-Jul-20  Ames City Assessor     NaN  \n",
       "3        ST      NaN      NaN      NaN  10-Jul-20  Ames City Assessor     NaN  \n",
       "4       AVE      NaN      NaN      NaN  10-Jul-20  Ames City Assessor     NaN  \n",
       "\n",
       "[5 rows x 91 columns]"
      ]
     },
     "execution_count": 6,
     "metadata": {},
     "output_type": "execute_result"
    }
   ],
   "source": [
    "amesRealEstate.head()"
   ]
  },
  {
   "cell_type": "code",
   "execution_count": 7,
   "id": "0c88c824-95a8-4b06-b046-34ee2c8bf1bf",
   "metadata": {},
   "outputs": [],
   "source": [
    "amesHousing['MSSubClass'] = amesHousing['MSSubClass'].apply(str)"
   ]
  },
  {
   "cell_type": "code",
   "execution_count": 8,
   "id": "4802a555-abd6-4a70-9606-48f45b1ffb7a",
   "metadata": {},
   "outputs": [
    {
     "data": {
      "text/plain": [
       "dtype('O')"
      ]
     },
     "execution_count": 8,
     "metadata": {},
     "output_type": "execute_result"
    }
   ],
   "source": [
    "amesHousing['MSSubClass'].dtype"
   ]
  },
  {
   "cell_type": "code",
   "execution_count": 9,
   "id": "437ffe3c-991b-4b20-99e0-e73713431fcb",
   "metadata": {},
   "outputs": [],
   "source": [
    "amesHousingCategoricalData = amesHousing.select_dtypes(include=['O'])"
   ]
  },
  {
   "cell_type": "code",
   "execution_count": 10,
   "id": "601a6d9b-ab69-430a-bd24-0f23a4892f13",
   "metadata": {},
   "outputs": [
    {
     "data": {
      "text/plain": [
       "Grvl    105\n",
       "Pave     63\n",
       "Name: Alley, dtype: int64"
      ]
     },
     "execution_count": 10,
     "metadata": {},
     "output_type": "execute_result"
    }
   ],
   "source": [
    "amesHousingCategoricalData[\"Alley\"].value_counts()"
   ]
  },
  {
   "cell_type": "code",
   "execution_count": 11,
   "id": "b201c965-256c-49da-a6a8-c168b1268442",
   "metadata": {},
   "outputs": [
    {
     "name": "stdout",
     "output_type": "stream",
     "text": [
      "MSSubClass\n",
      "{'150', '75', '70', '20', '40', '90', '80', '30', '120', '85', '50', '60', '180', '45', '190', '160'}\n",
      "MSZoning\n",
      "{'A (agr)', 'RH', 'RM', 'FV', 'C (all)', 'RL', 'I (all)'}\n",
      "Street\n",
      "{'Pave', 'Grvl'}\n",
      "Alley\n",
      "{nan, 'Pave', 'Grvl'}\n",
      "Grvl    105\n",
      "Pave     63\n",
      "Name: Alley, dtype: int64\n",
      "2412 nan values\n",
      "LotShape\n",
      "{'IR2', 'IR3', 'IR1', 'Reg'}\n",
      "LandContour\n",
      "{'HLS', 'Low', 'Lvl', 'Bnk'}\n",
      "Utilities\n",
      "{'NoSewr', 'AllPub'}\n",
      "LotConfig\n",
      "{'FR3', 'CulDSac', 'Inside', 'Corner', 'FR2'}\n",
      "LandSlope\n",
      "{'Mod', 'Sev', 'Gtl'}\n",
      "Neighborhood\n",
      "{'Greens', 'Edwards', 'BrkSide', 'NWAmes', 'Blmngtn', 'SawyerW', 'Somerst', 'Gilbert', 'OldTown', 'GrnHill', 'Mitchel', 'Blueste', 'Crawfor', 'IDOTRR', 'NAmes', 'CollgCr', 'NridgHt', 'NPkVill', 'BrDale', 'Timber', 'SWISU', 'Veenker', 'NoRidge', 'Landmrk', 'MeadowV', 'StoneBr', 'Sawyer', 'ClearCr'}\n",
      "Condition1\n",
      "{'Norm', 'Artery', 'RRAe', 'PosN', 'RRNn', 'RRNe', 'Feedr', 'PosA', 'RRAn'}\n",
      "Condition2\n",
      "{'Norm', 'Artery', 'RRAe', 'PosN', 'RRNn', 'Feedr', 'PosA', 'RRAn'}\n",
      "BldgType\n",
      "{'TwnhsE', '2fmCon', 'Duplex', '1Fam', 'Twnhs'}\n",
      "HouseStyle\n",
      "{'1.5Unf', 'SFoyer', '1.5Fin', 'SLvl', '1Story', '2.5Unf', '2Story', '2.5Fin'}\n",
      "RoofStyle\n",
      "{'Hip', 'Gambrel', 'Shed', 'Mansard', 'Gable', 'Flat'}\n",
      "RoofMatl\n",
      "{'CompShg', 'WdShake', 'Tar&Grv', 'Membran', 'Roll', 'Metal', 'WdShngl'}\n",
      "Exterior1st\n",
      "{'Stucco', 'Plywood', 'MetalSd', 'HdBoard', 'AsbShng', 'AsphShn', 'ImStucc', 'VinylSd', 'WdShing', 'CemntBd', 'Wd Sdng', 'BrkFace', 'CBlock', 'PreCast', 'BrkComm'}\n",
      "Exterior2nd\n",
      "{'Stucco', 'CmentBd', 'Stone', 'Plywood', 'MetalSd', 'HdBoard', 'AsbShng', 'AsphShn', 'Wd Shng', 'VinylSd', 'ImStucc', 'Brk Cmn', 'Wd Sdng', 'BrkFace', 'CBlock', 'PreCast'}\n",
      "MasVnrType\n",
      "{nan, 'Stone', 'None', 'BrkCmn', 'BrkFace'}\n",
      "None       1559\n",
      "BrkFace     804\n",
      "Stone       183\n",
      "BrkCmn       20\n",
      "Name: MasVnrType, dtype: int64\n",
      "14 nan values\n",
      "ExterQual\n",
      "{'Ex', 'Gd', 'Fa', 'TA'}\n",
      "ExterCond\n",
      "{'Gd', 'Po', 'Fa', 'TA', 'Ex'}\n",
      "Foundation\n",
      "{'Stone', 'BrkTil', 'Slab', 'PConc', 'Wood', 'CBlock'}\n",
      "BsmtQual\n",
      "{nan, 'Gd', 'Po', 'Fa', 'TA', 'Ex'}\n",
      "TA    1166\n",
      "Gd    1077\n",
      "Ex     188\n",
      "Fa      78\n",
      "Po       2\n",
      "Name: BsmtQual, dtype: int64\n",
      "69 nan values\n",
      "BsmtCond\n",
      "{nan, 'Gd', 'Po', 'Fa', 'TA', 'Ex'}\n",
      "TA    2316\n",
      "Gd     101\n",
      "Fa      88\n",
      "Po       3\n",
      "Ex       3\n",
      "Name: BsmtCond, dtype: int64\n",
      "69 nan values\n",
      "BsmtExposure\n",
      "{nan, 'Gd', 'Av', 'No', 'Mn'}\n",
      "No    1708\n",
      "Av     344\n",
      "Gd     242\n",
      "Mn     215\n",
      "Name: BsmtExposure, dtype: int64\n",
      "71 nan values\n",
      "BsmtFinType1\n",
      "{nan, 'LwQ', 'Rec', 'BLQ', 'Unf', 'ALQ', 'GLQ'}\n",
      "GLQ    753\n",
      "Unf    706\n",
      "ALQ    397\n",
      "Rec    265\n",
      "BLQ    251\n",
      "LwQ    139\n",
      "Name: BsmtFinType1, dtype: int64\n",
      "69 nan values\n",
      "BsmtFinType2\n",
      "{nan, 'LwQ', 'Rec', 'BLQ', 'Unf', 'ALQ', 'GLQ'}\n",
      "Unf    2180\n",
      "Rec      97\n",
      "LwQ      84\n",
      "BLQ      64\n",
      "ALQ      53\n",
      "GLQ      32\n",
      "Name: BsmtFinType2, dtype: int64\n",
      "70 nan values\n",
      "Heating\n",
      "{'Wall', 'Grav', 'GasW', 'GasA', 'OthW', 'Floor'}\n",
      "HeatingQC\n",
      "{'Gd', 'Po', 'Fa', 'TA', 'Ex'}\n",
      "CentralAir\n",
      "{'N', 'Y'}\n",
      "Electrical\n",
      "{nan, 'SBrkr', 'FuseP', 'FuseF', 'FuseA'}\n",
      "SBrkr    2365\n",
      "FuseA     168\n",
      "FuseF      39\n",
      "FuseP       7\n",
      "Name: Electrical, dtype: int64\n",
      "1 nan values\n",
      "KitchenQual\n",
      "{'Gd', 'Po', 'Fa', 'TA', 'Ex'}\n",
      "Functional\n",
      "{'Typ', 'Maj1', 'Mod', 'Maj2', 'Min1', 'Sal', 'Min2'}\n",
      "FireplaceQu\n",
      "{nan, 'Gd', 'Po', 'Fa', 'TA', 'Ex'}\n",
      "Gd    619\n",
      "TA    572\n",
      "Fa     70\n",
      "Po     43\n",
      "Ex     35\n",
      "Name: FireplaceQu, dtype: int64\n",
      "1241 nan values\n",
      "GarageType\n",
      "{nan, 'BuiltIn', 'Detchd', 'Basment', 'CarPort', 'Attchd', '2Types'}\n",
      "Attchd     1527\n",
      "Detchd      716\n",
      "BuiltIn     153\n",
      "Basment      27\n",
      "2Types       21\n",
      "CarPort       9\n",
      "Name: GarageType, dtype: int64\n",
      "127 nan values\n",
      "GarageFinish\n",
      "{nan, 'Fin', 'RFn', 'Unf'}\n",
      "Unf    1112\n",
      "RFn     718\n",
      "Fin     621\n",
      "Name: GarageFinish, dtype: int64\n",
      "129 nan values\n",
      "GarageQual\n",
      "{nan, 'Gd', 'Po', 'Fa', 'TA', 'Ex'}\n",
      "TA    2312\n",
      "Fa     110\n",
      "Gd      22\n",
      "Po       4\n",
      "Ex       3\n",
      "Name: GarageQual, dtype: int64\n",
      "129 nan values\n",
      "GarageCond\n",
      "{nan, 'Gd', 'Po', 'Fa', 'TA', 'Ex'}\n",
      "TA    2356\n",
      "Fa      67\n",
      "Gd      14\n",
      "Po      11\n",
      "Ex       3\n",
      "Name: GarageCond, dtype: int64\n",
      "129 nan values\n",
      "PavedDrive\n",
      "{'N', 'P', 'Y'}\n",
      "PoolQC\n",
      "{nan, 'Gd', 'Fa', 'TA', 'Ex'}\n",
      "TA    3\n",
      "Gd    2\n",
      "Fa    2\n",
      "Ex    2\n",
      "Name: PoolQC, dtype: int64\n",
      "2571 nan values\n",
      "Fence\n",
      "{nan, 'GdWo', 'MnPrv', 'GdPrv', 'MnWw'}\n",
      "MnPrv    301\n",
      "GdPrv    111\n",
      "GdWo     103\n",
      "MnWw      10\n",
      "Name: Fence, dtype: int64\n",
      "2055 nan values\n",
      "MiscFeature\n",
      "{nan, 'TenC', 'Othr', 'Shed', 'Gar2'}\n",
      "Shed    88\n",
      "Gar2     5\n",
      "Othr     3\n",
      "TenC     1\n",
      "Name: MiscFeature, dtype: int64\n",
      "2483 nan values\n",
      "SaleType\n",
      "{'Con', 'ConLD', 'ConLw', 'VWD', 'Oth', 'WD ', 'COD', 'CWD', 'ConLI', 'New'}\n",
      "SaleCondition\n",
      "{'Alloca', 'Abnorml', 'Normal', 'AdjLand', 'Partial', 'Family'}\n"
     ]
    }
   ],
   "source": [
    "for col in amesHousingCategoricalData.columns:\n",
    "    print(col)\n",
    "    print(set(amesHousing[col]))\n",
    "    if (amesHousing[col].isnull().values.any()):\n",
    "        print(amesHousing[col].value_counts())\n",
    "        print(f'{amesHousing[col].isnull().sum()} nan values')"
   ]
  },
  {
   "cell_type": "code",
   "execution_count": 12,
   "id": "279c1329-459e-4568-9d27-47b74f5f1713",
   "metadata": {},
   "outputs": [
    {
     "name": "stdout",
     "output_type": "stream",
     "text": [
      "0\n",
      "0\n",
      "0\n",
      "0\n",
      "0\n",
      "0\n",
      "0\n",
      "0\n",
      "0\n",
      "0\n",
      "0\n",
      "0\n",
      "0\n",
      "0\n",
      "0\n",
      "0\n"
     ]
    }
   ],
   "source": [
    "for col in amesHousingCategoricalData.columns:\n",
    "    if (amesHousing[col].isnull().values.any()):\n",
    "        print(amesHousing[amesHousing[col]=='nan'].shape[0])"
   ]
  },
  {
   "cell_type": "code",
   "execution_count": 13,
   "id": "fe7c3f48-71b6-41d1-8c1c-51e972997ebb",
   "metadata": {},
   "outputs": [],
   "source": [
    "for col in amesHousingCategoricalData.columns:\n",
    "    amesHousing[col]=amesHousing[col].fillna('nan')"
   ]
  },
  {
   "cell_type": "code",
   "execution_count": 14,
   "id": "edbfc4f3-43fa-451e-aa22-86851f2e9d53",
   "metadata": {},
   "outputs": [],
   "source": [
    "for col in amesHousingCategoricalData.columns:\n",
    "    if (amesHousing[col].isnull().values.any()):\n",
    "        print(amesHousing[amesHousing[col]=='nan'].shape[0])"
   ]
  },
  {
   "cell_type": "code",
   "execution_count": 15,
   "id": "69b08071-03ab-4506-bfc0-9792349200a4",
   "metadata": {},
   "outputs": [
    {
     "data": {
      "text/html": [
       "<div>\n",
       "<style scoped>\n",
       "    .dataframe tbody tr th:only-of-type {\n",
       "        vertical-align: middle;\n",
       "    }\n",
       "\n",
       "    .dataframe tbody tr th {\n",
       "        vertical-align: top;\n",
       "    }\n",
       "\n",
       "    .dataframe thead th {\n",
       "        text-align: right;\n",
       "    }\n",
       "</style>\n",
       "<table border=\"1\" class=\"dataframe\">\n",
       "  <thead>\n",
       "    <tr style=\"text-align: right;\">\n",
       "      <th></th>\n",
       "      <th>Utilites_NoSewr</th>\n",
       "    </tr>\n",
       "  </thead>\n",
       "  <tbody>\n",
       "    <tr>\n",
       "      <th>0</th>\n",
       "      <td>0</td>\n",
       "    </tr>\n",
       "    <tr>\n",
       "      <th>1</th>\n",
       "      <td>0</td>\n",
       "    </tr>\n",
       "    <tr>\n",
       "      <th>2</th>\n",
       "      <td>0</td>\n",
       "    </tr>\n",
       "    <tr>\n",
       "      <th>3</th>\n",
       "      <td>0</td>\n",
       "    </tr>\n",
       "    <tr>\n",
       "      <th>4</th>\n",
       "      <td>0</td>\n",
       "    </tr>\n",
       "    <tr>\n",
       "      <th>...</th>\n",
       "      <td>...</td>\n",
       "    </tr>\n",
       "    <tr>\n",
       "      <th>2575</th>\n",
       "      <td>0</td>\n",
       "    </tr>\n",
       "    <tr>\n",
       "      <th>2576</th>\n",
       "      <td>0</td>\n",
       "    </tr>\n",
       "    <tr>\n",
       "      <th>2577</th>\n",
       "      <td>0</td>\n",
       "    </tr>\n",
       "    <tr>\n",
       "      <th>2578</th>\n",
       "      <td>0</td>\n",
       "    </tr>\n",
       "    <tr>\n",
       "      <th>2579</th>\n",
       "      <td>0</td>\n",
       "    </tr>\n",
       "  </tbody>\n",
       "</table>\n",
       "<p>2580 rows × 1 columns</p>\n",
       "</div>"
      ],
      "text/plain": [
       "      Utilites_NoSewr\n",
       "0                   0\n",
       "1                   0\n",
       "2                   0\n",
       "3                   0\n",
       "4                   0\n",
       "...               ...\n",
       "2575                0\n",
       "2576                0\n",
       "2577                0\n",
       "2578                0\n",
       "2579                0\n",
       "\n",
       "[2580 rows x 1 columns]"
      ]
     },
     "execution_count": 15,
     "metadata": {},
     "output_type": "execute_result"
    }
   ],
   "source": [
    "pd.get_dummies(amesHousing['Utilities'],prefix='Utilites',drop_first=True)"
   ]
  },
  {
   "cell_type": "code",
   "execution_count": 16,
   "id": "6cd60800-20cb-4564-9a7f-cf944b9e4709",
   "metadata": {},
   "outputs": [],
   "source": [
    "a = {1:1,2:2,3:3}"
   ]
  },
  {
   "cell_type": "code",
   "execution_count": 17,
   "id": "057c866d-d324-43f5-a788-ddc04506b5df",
   "metadata": {},
   "outputs": [
    {
     "data": {
      "text/plain": [
       "False"
      ]
     },
     "execution_count": 17,
     "metadata": {},
     "output_type": "execute_result"
    }
   ],
   "source": [
    "5 in a.keys()"
   ]
  },
  {
   "cell_type": "code",
   "execution_count": 18,
   "id": "47104be8-06be-44d5-8b55-73b4cea54bd0",
   "metadata": {},
   "outputs": [],
   "source": [
    "relatedDummiesDictionary = {}\n",
    "for col in amesHousingCategoricalData.columns:\n",
    "    dummyData = pd.get_dummies(amesHousing[col],prefix=col,drop_first=True)\n",
    "    for dummyCol in dummyData.columns:\n",
    "        relatedDummiesDictionary[str(dummyCol)] = list(dummyData.columns)\n",
    "    amesHousing = pd.concat([amesHousing,dummyData],axis=1)"
   ]
  },
  {
   "cell_type": "code",
   "execution_count": 19,
   "id": "4ca97755-841f-475c-98a5-11406487e24c",
   "metadata": {},
   "outputs": [
    {
     "data": {
      "text/plain": [
       "{dtype('uint8'), dtype('int64'), dtype('float64'), dtype('O')}"
      ]
     },
     "execution_count": 19,
     "metadata": {},
     "output_type": "execute_result"
    }
   ],
   "source": [
    "set(amesHousing.dtypes)"
   ]
  },
  {
   "cell_type": "code",
   "execution_count": 20,
   "id": "8c2b6e0c-430d-45bb-bd7c-4d541b01f30f",
   "metadata": {},
   "outputs": [
    {
     "data": {
      "text/plain": [
       "['LotFrontage',\n",
       " 'MasVnrArea',\n",
       " 'BsmtFinSF1',\n",
       " 'BsmtFinSF2',\n",
       " 'BsmtUnfSF',\n",
       " 'TotalBsmtSF',\n",
       " 'BsmtFullBath',\n",
       " 'BsmtHalfBath',\n",
       " 'GarageYrBlt',\n",
       " 'GarageCars',\n",
       " 'GarageArea']"
      ]
     },
     "execution_count": 20,
     "metadata": {},
     "output_type": "execute_result"
    }
   ],
   "source": [
    "amesHousingNumericalData = amesHousing.select_dtypes(include=['uint8','int64','float64'])\n",
    "[col for col in amesHousingNumericalData.columns if amesHousingNumericalData[col].isnull().values.any()]"
   ]
  },
  {
   "cell_type": "code",
   "execution_count": 21,
   "id": "9eeb58a7-ea5d-411b-b65a-87d7a17232f1",
   "metadata": {},
   "outputs": [
    {
     "name": "stdout",
     "output_type": "stream",
     "text": [
      "4329.261051264984\n",
      "2501.5\n"
     ]
    },
    {
     "ename": "AttributeError",
     "evalue": "module 'util' has no attribute 'markOutliers'",
     "output_type": "error",
     "traceback": [
      "\u001b[0;31m---------------------------------------------------------------------------\u001b[0m",
      "\u001b[0;31mAttributeError\u001b[0m                            Traceback (most recent call last)",
      "\u001b[0;32m<ipython-input-21-707d9fc3774a>\u001b[0m in \u001b[0;36m<module>\u001b[0;34m\u001b[0m\n\u001b[1;32m      2\u001b[0m \u001b[0mprint\u001b[0m\u001b[0;34m(\u001b[0m\u001b[0mnp\u001b[0m\u001b[0;34m.\u001b[0m\u001b[0mstd\u001b[0m\u001b[0;34m(\u001b[0m\u001b[0mnp\u001b[0m\u001b[0;34m.\u001b[0m\u001b[0marray\u001b[0m\u001b[0;34m(\u001b[0m\u001b[0mtestList\u001b[0m\u001b[0;34m)\u001b[0m\u001b[0;34m)\u001b[0m\u001b[0;34m)\u001b[0m\u001b[0;34m\u001b[0m\u001b[0;34m\u001b[0m\u001b[0m\n\u001b[1;32m      3\u001b[0m \u001b[0mprint\u001b[0m\u001b[0;34m(\u001b[0m\u001b[0mnp\u001b[0m\u001b[0;34m.\u001b[0m\u001b[0mmean\u001b[0m\u001b[0;34m(\u001b[0m\u001b[0mnp\u001b[0m\u001b[0;34m.\u001b[0m\u001b[0marray\u001b[0m\u001b[0;34m(\u001b[0m\u001b[0mtestList\u001b[0m\u001b[0;34m)\u001b[0m\u001b[0;34m)\u001b[0m\u001b[0;34m)\u001b[0m\u001b[0;34m\u001b[0m\u001b[0;34m\u001b[0m\u001b[0m\n\u001b[0;32m----> 4\u001b[0;31m \u001b[0mutil\u001b[0m\u001b[0;34m.\u001b[0m\u001b[0mmarkOutliers\u001b[0m\u001b[0;34m(\u001b[0m\u001b[0mtestList\u001b[0m\u001b[0;34m)\u001b[0m\u001b[0;34m\u001b[0m\u001b[0;34m\u001b[0m\u001b[0m\n\u001b[0m",
      "\u001b[0;31mAttributeError\u001b[0m: module 'util' has no attribute 'markOutliers'"
     ]
    }
   ],
   "source": [
    "testList = [1,2,3,10000]\n",
    "print(np.std(np.array(testList)))\n",
    "print(np.mean(np.array(testList)))\n",
    "util.markOutliers(testList)"
   ]
  },
  {
   "cell_type": "code",
   "execution_count": null,
   "id": "87e43413-54c3-4de0-8ce1-9e85f215a3c0",
   "metadata": {},
   "outputs": [],
   "source": [
    "print(f'{amesHousingNumericalData.shape[0]} rows before removing outliers')\n",
    "amesHousingNumericalData = util.removeOutliers(amesHousingNumericalData.fillna(0.0))\n",
    "print(f'{amesHousingNumericalData.shape[0]} rows after removing outliers')"
   ]
  },
  {
   "cell_type": "code",
   "execution_count": null,
   "id": "8ccb63b4-8351-4813-b400-dbddae9e7c45",
   "metadata": {},
   "outputs": [],
   "source": [
    "corr = amesHousingNumericalData.corr()\n",
    "corr"
   ]
  },
  {
   "cell_type": "code",
   "execution_count": null,
   "id": "d85d5636-5198-49fe-ba62-8d23004d0392",
   "metadata": {},
   "outputs": [],
   "source": [
    "sns.heatmap(corr)"
   ]
  },
  {
   "cell_type": "code",
   "execution_count": null,
   "id": "396f5859-f07d-4abe-9aaa-c645e07523eb",
   "metadata": {},
   "outputs": [],
   "source": [
    "correlationList = []\n",
    "pairList = []\n",
    "pValList = []\n",
    "for i in range(len(amesHousingNumericalData.columns)):\n",
    "    for j in range(len(amesHousingNumericalData.columns)):\n",
    "        if i<j:\n",
    "            iColumn = amesHousingNumericalData.columns[i]\n",
    "            jColumn = amesHousingNumericalData.columns[j]\n",
    "            pairList.append(iColumn+'-'+jColumn)\n",
    "            corrVal,pVal = stats.spearmanr(amesHousingNumericalData[iColumn],\n",
    "                                          amesHousingNumericalData[jColumn])\n",
    "            correlationList.append(corrVal)\n",
    "            pValList.append(pVal)\n",
    "\n",
    "amesHousingCorreltaion = pd.DataFrame({\"pair\":pairList,\n",
    "                                \"corr\":correlationList,\n",
    "                                \"pVal\":pValList\n",
    "                               },columns=[\"pair\",\"corr\",\"pVal\"]).sort_values(by=[\"pVal\",\"corr\"],\n",
    "                                                                             ascending=[True,False])\n",
    "            \n",
    "            "
   ]
  },
  {
   "cell_type": "code",
   "execution_count": null,
   "id": "c0c7a9bb-56c7-4257-8485-e53be807feb6",
   "metadata": {},
   "outputs": [],
   "source": [
    "amesHousingSigCorrs = amesHousingCorreltaion[(np.isnan(amesHousingCorreltaion['pVal'])==False) & (amesHousingCorreltaion['pVal'] < 0.05)]"
   ]
  },
  {
   "cell_type": "code",
   "execution_count": null,
   "id": "3f74ee4d-8660-474a-ab16-ed036ec67f80",
   "metadata": {},
   "outputs": [],
   "source": [
    "absRValues = abs(amesHousingSigCorrs['corr'])"
   ]
  },
  {
   "cell_type": "code",
   "execution_count": null,
   "id": "2926f434-46e7-40cb-a01c-574aaa7827e5",
   "metadata": {},
   "outputs": [],
   "source": [
    "type(amesHousingSigCorrs)"
   ]
  },
  {
   "cell_type": "code",
   "execution_count": null,
   "id": "7db5ae3a-10d6-4c23-8096-992a38218351",
   "metadata": {},
   "outputs": [],
   "source": [
    "print(amesHousingSigCorrs.size)\n",
    "amesHousingSigCorrs = amesHousingSigCorrs[abs(amesHousingSigCorrs['corr']) > absRValues.quantile()]\n",
    "print(amesHousingSigCorrs.size)"
   ]
  },
  {
   "cell_type": "code",
   "execution_count": null,
   "id": "5ca5a2e0-72a9-438e-9439-5d493b011671",
   "metadata": {},
   "outputs": [],
   "source": [
    "amesHousingSigCorrs.hist(bins=10)"
   ]
  },
  {
   "cell_type": "code",
   "execution_count": null,
   "id": "e5e023f6-0474-4b28-bf4d-f2bd22db1333",
   "metadata": {},
   "outputs": [],
   "source": [
    "amesHousingSigCorrs.head()"
   ]
  },
  {
   "cell_type": "code",
   "execution_count": null,
   "id": "f5948d14-7dfc-4b58-9682-7d70332ceb5c",
   "metadata": {},
   "outputs": [],
   "source": [
    "amesHousingSigCorrs['pair'].str.contains('YearBuilt')"
   ]
  },
  {
   "cell_type": "code",
   "execution_count": null,
   "id": "31b28903-0022-4f5d-82b0-643362ebddde",
   "metadata": {},
   "outputs": [],
   "source": [
    "[1,2,3]+[]"
   ]
  },
  {
   "cell_type": "code",
   "execution_count": null,
   "id": "322d0ad4-8d85-45ea-80d0-b4d9ff775fa9",
   "metadata": {},
   "outputs": [],
   "source": [
    "relatedDummiesDictionary[\"MasVnrType_BrkFace\"]"
   ]
  },
  {
   "cell_type": "code",
   "execution_count": null,
   "id": "26b26ec0-2cad-4f20-abf1-a52861709c20",
   "metadata": {},
   "outputs": [],
   "source": [
    "sigCorrDictionary = {}\n",
    "for col in amesHousingNumericalData.columns:\n",
    "    correlatedRelations = (amesHousingSigCorrs[amesHousingSigCorrs['pair'].str.contains(col)])[\"pair\"]\n",
    "    correlatedColumns = [name.replace(\"-\",\"\").replace(col,\"\") for name in correlatedRelations]\n",
    "    relatedDummies = []\n",
    "    for corrCol in correlatedColumns:\n",
    "        if corrCol in relatedDummiesDictionary.keys():\n",
    "            print(corrCol)\n",
    "            relatedDummies = relatedDummies + relatedDummiesDictionary[corrCol]\n",
    "    correlatedColumns = list(set(correlatedColumns + relatedDummies))\n",
    "    sigCorrDictionary[col] = correlatedColumns"
   ]
  },
  {
   "cell_type": "code",
   "execution_count": null,
   "id": "bfa6ba06-4d95-4735-93af-af0eaf40909a",
   "metadata": {},
   "outputs": [],
   "source": [
    "sigCorrDictionary"
   ]
  },
  {
   "cell_type": "code",
   "execution_count": null,
   "id": "2f950b3b-6560-4cb2-8145-4b051ff54ac9",
   "metadata": {},
   "outputs": [],
   "source": [
    "powers = np.linspace(1,10,10)\n",
    "X = (np.random.random(1000)*1000).reshape(-1, 1)\n",
    "for power in powers:\n",
    "    y = X ** power\n",
    "    linmodel = lm.LinearRegression()\n",
    "    linmodel.fit(np.log(X),np.log(y))\n",
    "    print(f'power = {power} and slope is {linmodel.coef_[0,0]}')\n",
    "    \n",
    "    "
   ]
  },
  {
   "cell_type": "code",
   "execution_count": null,
   "id": "c29ac969-e099-43f2-9033-b9f40166d44d",
   "metadata": {},
   "outputs": [],
   "source": [
    "housingTrainWithDummies = pd.read_csv('../data/housingTrainWithDummies.csv')\n",
    "set(housingTrainWithDummies.dtypes)"
   ]
  },
  {
   "cell_type": "code",
   "execution_count": null,
   "id": "b2304b3f-7b9a-43d1-a8ff-cee91894506c",
   "metadata": {},
   "outputs": [],
   "source": [
    "values = list(np.random.random(1000)*1000)"
   ]
  },
  {
   "cell_type": "code",
   "execution_count": null,
   "id": "3eb8096a-4657-48f3-aff1-88fc41ddb531",
   "metadata": {},
   "outputs": [],
   "source": [
    "df = pd.DataFrame({\"values\":values},columns = [\"values\"])\n",
    "pd.qcut(df['values'],q=10,labels=np.linspace(0,9,10),retbins=True)"
   ]
  },
  {
   "cell_type": "code",
   "execution_count": null,
   "id": "f80b8184-4247-46ed-983c-4d4caebabff3",
   "metadata": {},
   "outputs": [],
   "source": [
    "df.head()"
   ]
  },
  {
   "cell_type": "code",
   "execution_count": null,
   "id": "aec8e29e-b31f-4ddf-bf0c-a20919f8709c",
   "metadata": {},
   "outputs": [],
   "source": [
    "try:\n",
    "    somethingThatDoesntExist\n",
    "except NameError:\n",
    "    bonkers = \"me\"\n",
    "    x = bonkers\n",
    "print(x)"
   ]
  },
  {
   "cell_type": "code",
   "execution_count": null,
   "id": "cc2c9dc9-e6ff-4891-960e-b8f68eb75a06",
   "metadata": {},
   "outputs": [],
   "source": [
    "arr = np.array([0,-np.inf,5]).reshape(-1,1)\n",
    "np.isinf(arr).any()"
   ]
  },
  {
   "cell_type": "code",
   "execution_count": 1,
   "id": "f4b384c0-5f79-4c11-90ef-a6c60e893317",
   "metadata": {},
   "outputs": [
    {
     "ename": "TypeError",
     "evalue": "'int' object is not iterable",
     "output_type": "error",
     "traceback": [
      "\u001b[0;31m---------------------------------------------------------------------------\u001b[0m",
      "\u001b[0;31mTypeError\u001b[0m                                 Traceback (most recent call last)",
      "\u001b[0;32m<ipython-input-1-7ade7017386b>\u001b[0m in \u001b[0;36m<module>\u001b[0;34m\u001b[0m\n\u001b[0;32m----> 1\u001b[0;31m \u001b[0mlist\u001b[0m\u001b[0;34m(\u001b[0m\u001b[0;36m1\u001b[0m\u001b[0;34m)\u001b[0m\u001b[0;34m\u001b[0m\u001b[0;34m\u001b[0m\u001b[0m\n\u001b[0m",
      "\u001b[0;31mTypeError\u001b[0m: 'int' object is not iterable"
     ]
    }
   ],
   "source": [
    "list(1)"
   ]
  }
 ],
 "metadata": {
  "kernelspec": {
   "display_name": "Python 3",
   "language": "python",
   "name": "python3"
  },
  "language_info": {
   "codemirror_mode": {
    "name": "ipython",
    "version": 3
   },
   "file_extension": ".py",
   "mimetype": "text/x-python",
   "name": "python",
   "nbconvert_exporter": "python",
   "pygments_lexer": "ipython3",
   "version": "3.8.8"
  }
 },
 "nbformat": 4,
 "nbformat_minor": 5
}
